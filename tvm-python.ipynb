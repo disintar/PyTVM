{
 "cells": [
  {
   "cell_type": "code",
   "execution_count": null,
   "id": "c7db3825",
   "metadata": {},
   "outputs": [],
   "source": [
    "!pip install tvm_valuetypes"
   ]
  },
  {
   "cell_type": "code",
   "execution_count": 1,
   "id": "655f3256",
   "metadata": {},
   "outputs": [],
   "source": [
    "#%load_ext autoreload\n",
    "#%autoreload 2\n",
    "from tvm_python import PyTVM\n",
    "import codecs\n",
    "from tvm_valuetypes import Cell"
   ]
  },
  {
   "cell_type": "markdown",
   "id": "1bd71628",
   "metadata": {},
   "source": [
    "# Easy test examples"
   ]
  },
  {
   "cell_type": "code",
   "execution_count": 2,
   "id": "b36b5156",
   "metadata": {},
   "outputs": [
    {
     "name": "stdout",
     "output_type": "stream",
     "text": [
      "DEBUG: Start parse code\n",
      "DEBUG: Start parse base64\n",
      "DEBUG: Start parse boc\n",
      "DEBUG: Code parsed success\n",
      "Code loaded: 8810E73F1AA91EC4618658513623A56A18B5E2B2FDCA2F2A22000D2A14001B89\n",
      "DEBUG: Use code: 8810E73F1AA91EC4618658513623A56A18B5E2B2FDCA2F2A22000D2A14001B89\n",
      "DEBUG: Load cp0\n",
      "[ 4][t 0][2022-10-19 22:53:33.974571][arithops.cpp:34]\texecute PUSHINT 1\n",
      "\n",
      "[ 4][t 0][2022-10-19 22:53:33.974922][vm.cpp:450]\texecute implicit RET\n",
      "\n",
      "DEBUG: VM terminated with exit code -1\n",
      "DEBUG: Parse stack item #0\n",
      "Got 1 from TVM: 1\n"
     ]
    }
   ],
   "source": [
    "# Simple PUSHINT 1\n",
    "# You can define log_level if you want more stuff\n",
    "tvm_result = PyTVM(code=\"te6ccgEBAQEAAwAAAnE=\", log_level=4).run_vm()\n",
    "assert tvm_result[0] == 1\n",
    "\n",
    "print(f\"Got 1 from TVM: {tvm_result[0]}\")"
   ]
  },
  {
   "cell_type": "code",
   "execution_count": 3,
   "id": "d1f713d2",
   "metadata": {},
   "outputs": [
    {
     "data": {
      "text/plain": [
       "b'\\xb5\\xee\\x9cr\\xe1\\x01\\x02\\x01\\x00\\x0e\\x00\\x12\\x1c\\x01\\x0c\\x04\\x00\\x00\\x00\\x06\\x00\\x01\\x00\\x06q\\xedC\\x07\\xb93\\xa0'"
      ]
     },
     "execution_count": 3,
     "metadata": {},
     "output_type": "execute_result"
    }
   ],
   "source": [
    "# c3 is continuation, but we just serialize it to base64 BOC\n",
    "# PUSHINT 1 PUSH c3\n",
    "tvm_result = PyTVM(code=\"te6ccgEBAQEABQAABnHtQw==\").run_vm()\n",
    "\n",
    "cell = Cell()\n",
    "b64 = tvm_result[0]\n",
    "cell.data.from_bytes(codecs.decode(codecs.encode(b64, 'utf8'), 'base64'))\n",
    "\n",
    "cell.data # This is continuation"
   ]
  },
  {
   "cell_type": "code",
   "execution_count": 4,
   "id": "f54d766d",
   "metadata": {},
   "outputs": [
    {
     "data": {
      "text/plain": [
       "[124711402,\n",
       " 0,\n",
       " 0,\n",
       " 0,\n",
       " 0,\n",
       " 0,\n",
       " 0,\n",
       " [100000, None],\n",
       " 'te6ccuEBAQEACgAUABAAAAAAAAAAALfVArM=',\n",
       " None]"
      ]
     },
     "execution_count": 4,
     "metadata": {},
     "output_type": "execute_result"
    }
   ],
   "source": [
    "# c7 push (tuple)\n",
    "tvm_result = PyTVM(code=\"te6ccgEBAQEABAAABO1H\").run_vm()\n",
    "tvm_result[0] # just default c7"
   ]
  },
  {
   "cell_type": "markdown",
   "id": "52ceb009",
   "metadata": {},
   "source": [
    "## Change c7"
   ]
  },
  {
   "cell_type": "code",
   "execution_count": 5,
   "id": "3ba72ffa",
   "metadata": {},
   "outputs": [],
   "source": [
    "# c7 push (tuple)\n",
    "tvm = PyTVM(code=\"te6ccgEBAQEABAAABO1H\")"
   ]
  },
  {
   "cell_type": "code",
   "execution_count": 6,
   "id": "3f364edb",
   "metadata": {},
   "outputs": [],
   "source": [
    "tvm.set_c7(unixtime=179, \n",
    "           randseed=100, \n",
    "           address=\"EQBq5JLG8-1juc-N95IFBnOM2NGrcJsMoFYFoWH-DaVJ2lVw\",\n",
    "           balanceGrams=100000000)"
   ]
  },
  {
   "cell_type": "code",
   "execution_count": 7,
   "id": "b20285d9",
   "metadata": {},
   "outputs": [
    {
     "data": {
      "text/plain": [
       "[[124711402,\n",
       "  0,\n",
       "  0,\n",
       "  179,\n",
       "  0,\n",
       "  0,\n",
       "  100,\n",
       "  [100000000, None],\n",
       "  'te6ccuEBAQEAJABIAEOADVySWN59rHc58b7yQKDOcZsaNW4TYZQKwLQsP8G0qTtQ5qaveg==',\n",
       "  None]]"
      ]
     },
     "execution_count": 7,
     "metadata": {},
     "output_type": "execute_result"
    }
   ],
   "source": [
    "tvm.run_vm()"
   ]
  },
  {
   "cell_type": "markdown",
   "id": "c4b7dcb0",
   "metadata": {},
   "source": [
    "## Get detailed result"
   ]
  },
  {
   "cell_type": "code",
   "execution_count": 16,
   "id": "1d326080",
   "metadata": {},
   "outputs": [
    {
     "name": "stdout",
     "output_type": "stream",
     "text": [
      "Exit code:  -1 \n",
      "C5:  te6ccuEBAQEAAgAEAABmLc6k \n",
      "Gas credit:  0 \n",
      "Gas used:  31 \n",
      "C4:  te6ccuEBAQEAAgAEAABmLc6k \n",
      "VM Steps:  2 \n",
      "VM final hash:  0000000000000000000000000000000000000000000000000000000000000000 \n",
      "VM init hash:  0000000000000000000000000000000000000000000000000000000000000000\n"
     ]
    }
   ],
   "source": [
    "print(\"Exit code: \", tvm.exit_code,\n",
    "\"\\nC5: \", tvm.actions, \n",
    "\"\\nGas credit: \",tvm.gas_credit, \n",
    "\"\\nGas used: \",tvm.gas_used, \n",
    "\"\\nC4: \",tvm.new_data, \n",
    "\"\\nVM Steps: \",tvm.vm_steps,\n",
    "\"\\nVM final hash: \",tvm.vm_final_state_hash,\n",
    "\"\\nVM init hash: \",tvm.vm_init_state_hash,)"
   ]
  },
  {
   "cell_type": "code",
   "execution_count": null,
   "id": "b4e6826c",
   "metadata": {},
   "outputs": [],
   "source": []
  }
 ],
 "metadata": {
  "kernelspec": {
   "display_name": "Python 3 (ipykernel)",
   "language": "python",
   "name": "python3"
  },
  "language_info": {
   "codemirror_mode": {
    "name": "ipython",
    "version": 3
   },
   "file_extension": ".py",
   "mimetype": "text/x-python",
   "name": "python",
   "nbconvert_exporter": "python",
   "pygments_lexer": "ipython3",
   "version": "3.9.12"
  }
 },
 "nbformat": 4,
 "nbformat_minor": 5
}
