{
 "cells": [
  {
   "cell_type": "code",
   "execution_count": 1,
   "id": "4254fb61",
   "metadata": {},
   "outputs": [
    {
     "name": "stdout",
     "output_type": "stream",
     "text": [
      "Requirement already satisfied: tvm_valuetypes in /Users/tvorogme/opt/anaconda3/lib/python3.9/site-packages (0.0.9)\r\n",
      "Requirement already satisfied: crc32c in /Users/tvorogme/opt/anaconda3/lib/python3.9/site-packages (from tvm_valuetypes) (2.3)\r\n",
      "Requirement already satisfied: bitarray in /Users/tvorogme/opt/anaconda3/lib/python3.9/site-packages (from tvm_valuetypes) (2.5.0)\r\n"
     ]
    }
   ],
   "source": [
    "!pip install tvm_valuetypes"
   ]
  },
  {
   "cell_type": "code",
   "execution_count": 2,
   "id": "655f3256",
   "metadata": {},
   "outputs": [],
   "source": [
    "#%load_ext autoreload\n",
    "#%autoreload 2\n",
    "from tvm_python import PyTVM, method_name_to_id\n",
    "import codecs\n",
    "from tvm_valuetypes import Cell"
   ]
  },
  {
   "cell_type": "markdown",
   "id": "715dbb55",
   "metadata": {},
   "source": [
    "# Easy test examples"
   ]
  },
  {
   "cell_type": "code",
   "execution_count": 3,
   "id": "20db9624",
   "metadata": {},
   "outputs": [
    {
     "name": "stdout",
     "output_type": "stream",
     "text": [
      "DEBUG: Start parse code\n",
      "DEBUG: Code parsed success\n",
      "Code loaded: 8810E73F1AA91EC4618658513623A56A18B5E2B2FDCA2F2A22000D2A14001B89\n",
      "DEBUG: Use code: 8810E73F1AA91EC4618658513623A56A18B5E2B2FDCA2F2A22000D2A14001B89\n",
      "DEBUG: Load cp0\n",
      "[ 4][t 0][2022-10-20 10:10:46.313302][arithops.cpp:34]\texecute PUSHINT 1\n",
      "\n",
      "[ 4][t 0][2022-10-20 10:10:46.313623][vm.cpp:450]\texecute implicit RET\n",
      "\n",
      "DEBUG: VM terminated with exit code -1\n",
      "DEBUG: Parse stack item #0\n",
      "Got 1 from TVM: 1\n"
     ]
    },
    {
     "name": "stderr",
     "output_type": "stream",
     "text": [
      " [ ] \n",
      " [ 1 ] \n"
     ]
    }
   ],
   "source": [
    "# Simple PUSHINT 1\n",
    "# You can define log_level if you want more stuff\n",
    "tvm_result = PyTVM(code=\"te6ccgEBAQEAAwAAAnE=\", log_level=4).run_vm()\n",
    "assert tvm_result[0] == 1\n",
    "\n",
    "print(f\"Got 1 from TVM: {tvm_result[0]}\")"
   ]
  },
  {
   "cell_type": "code",
   "execution_count": 4,
   "id": "9c07d4fe",
   "metadata": {},
   "outputs": [
    {
     "data": {
      "text/plain": [
       "[1]"
      ]
     },
     "execution_count": 4,
     "metadata": {},
     "output_type": "execute_result"
    }
   ],
   "source": [
    "tvm_result"
   ]
  },
  {
   "cell_type": "code",
   "execution_count": 5,
   "id": "81b591a5",
   "metadata": {},
   "outputs": [
    {
     "data": {
      "text/plain": [
       "[{'type': 'continuation',\n",
       "  'value': 'te6ccuEBAgEADgASHAEMBAAAAAYAAQAGce1DB7kzoA=='},\n",
       " 1]"
      ]
     },
     "execution_count": 5,
     "metadata": {},
     "output_type": "execute_result"
    }
   ],
   "source": [
    "# c3 is continuation, but we just serialize it to base64 BOC\n",
    "# PUSHINT 1 PUSH c3\n",
    "tvm_result = PyTVM(code=\"te6ccgEBAQEABQAABnHtQw==\").run_vm()\n",
    "tvm_result"
   ]
  },
  {
   "cell_type": "code",
   "execution_count": 6,
   "id": "fd91f0eb",
   "metadata": {},
   "outputs": [
    {
     "data": {
      "text/plain": [
       "b'\\xb5\\xee\\x9cr\\xe1\\x01\\x02\\x01\\x00\\x0e\\x00\\x12\\x1c\\x01\\x0c\\x04\\x00\\x00\\x00\\x06\\x00\\x01\\x00\\x06q\\xedC\\x07\\xb93\\xa0'"
      ]
     },
     "execution_count": 6,
     "metadata": {},
     "output_type": "execute_result"
    }
   ],
   "source": [
    "cell = Cell()\n",
    "b64 = tvm_result[0]['value']\n",
    "cell.data.from_bytes(codecs.decode(codecs.encode(b64, 'utf8'), 'base64'))\n",
    "\n",
    "cell.data # This is continuation"
   ]
  },
  {
   "cell_type": "code",
   "execution_count": 7,
   "id": "fe43bedc",
   "metadata": {},
   "outputs": [
    {
     "data": {
      "text/plain": [
       "[124711402,\n",
       " 0,\n",
       " 0,\n",
       " 0,\n",
       " 0,\n",
       " 0,\n",
       " 0,\n",
       " [100000, None],\n",
       " {'type': 'cellSlice', 'value': 'te6ccuEBAQEACgAUABAAAAAAAAAAALfVArM='},\n",
       " None]"
      ]
     },
     "execution_count": 7,
     "metadata": {},
     "output_type": "execute_result"
    }
   ],
   "source": [
    "# c7 push (tuple)\n",
    "tvm_result = PyTVM(code=\"te6ccgEBAQEABAAABO1H\").run_vm()\n",
    "tvm_result[0] # just default c7"
   ]
  },
  {
   "cell_type": "markdown",
   "id": "1836f0e7",
   "metadata": {},
   "source": [
    "## Change c7"
   ]
  },
  {
   "cell_type": "code",
   "execution_count": 8,
   "id": "2058648e",
   "metadata": {},
   "outputs": [],
   "source": [
    "# c7 push (tuple)\n",
    "tvm = PyTVM(code=\"te6ccgEBAQEABAAABO1H\")"
   ]
  },
  {
   "cell_type": "code",
   "execution_count": 9,
   "id": "019a26c3",
   "metadata": {},
   "outputs": [],
   "source": [
    "tvm.set_c7(translt=100,\n",
    "           unixtime=179, \n",
    "           globalConfig=\"te6ccgEBAQEABAAABO1H\",\n",
    "           randseed=100, \n",
    "           address=\"EQBq5JLG8-1juc-N95IFBnOM2NGrcJsMoFYFoWH-DaVJ2lVw\",\n",
    "           balanceGrams=100000000)"
   ]
  },
  {
   "cell_type": "code",
   "execution_count": 10,
   "id": "a2c67638",
   "metadata": {},
   "outputs": [
    {
     "data": {
      "text/plain": [
       "[[124711402,\n",
       "  0,\n",
       "  0,\n",
       "  179,\n",
       "  0,\n",
       "  100,\n",
       "  100,\n",
       "  [100000000, None],\n",
       "  {'type': 'cellSlice',\n",
       "   'value': 'te6ccuEBAQEAJABIAEOADVySWN59rHc58b7yQKDOcZsaNW4TYZQKwLQsP8G0qTtQ5qaveg=='},\n",
       "  {'type': 'cell', 'value': 'te6ccuEBAQEABAAIAATtR+R0b2c='}]]"
      ]
     },
     "execution_count": 10,
     "metadata": {},
     "output_type": "execute_result"
    }
   ],
   "source": [
    "tvm.run_vm()"
   ]
  },
  {
   "cell_type": "markdown",
   "id": "23e0fbc5",
   "metadata": {},
   "source": [
    "## Get detailed result"
   ]
  },
  {
   "cell_type": "code",
   "execution_count": 11,
   "id": "8d64b918",
   "metadata": {},
   "outputs": [
    {
     "name": "stdout",
     "output_type": "stream",
     "text": [
      "Exit code:  -1 \n",
      "C5:  te6ccuEBAQEAAgAEAABmLc6k \n",
      "Gas credit:  0 \n",
      "Gas used:  31 \n",
      "C4:  te6ccuEBAQEAAgAEAABmLc6k \n",
      "VM Steps:  2 \n",
      "VM final hash:  0000000000000000000000000000000000000000000000000000000000000000 \n",
      "VM init hash:  0000000000000000000000000000000000000000000000000000000000000000 \n",
      "VM success:  True\n"
     ]
    }
   ],
   "source": [
    "print(\"Exit code: \", tvm.exit_code,\n",
    "\"\\nC5: \", tvm.actions, \n",
    "\"\\nGas credit: \",tvm.gas_credit, \n",
    "\"\\nGas used: \",tvm.gas_used, \n",
    "\"\\nC4: \",tvm.new_data, \n",
    "\"\\nVM Steps: \",tvm.vm_steps,\n",
    "\"\\nVM final hash: \",tvm.vm_final_state_hash,\n",
    "\"\\nVM init hash: \",tvm.vm_init_state_hash,\n",
    "\"\\nVM success: \",tvm.success)"
   ]
  },
  {
   "cell_type": "markdown",
   "id": "d86b21b7",
   "metadata": {},
   "source": [
    "## Set stack"
   ]
  },
  {
   "cell_type": "code",
   "execution_count": 12,
   "id": "160443a9",
   "metadata": {},
   "outputs": [
    {
     "name": "stdout",
     "output_type": "stream",
     "text": [
      "DEBUG: Start parse code\n",
      "DEBUG: Code parsed success\n",
      "Code loaded: 2F306EC2BCE112068F472B947E0F6524ADA3F47624DE1EBB0C2BC9304661640C\n"
     ]
    }
   ],
   "source": [
    "# c7 push (tuple)\n",
    "tvm = PyTVM(code=\"te6ccgEBAQEABAAABO1H\", log_level=6)"
   ]
  },
  {
   "cell_type": "code",
   "execution_count": 13,
   "id": "273077a4",
   "metadata": {},
   "outputs": [
    {
     "name": "stdout",
     "output_type": "stream",
     "text": [
      "got value:  190009329293929392939239293293929329392949949949299008888888880999999888\n",
      "got value:  {'type': 'cell', 'value': 'te6ccgEBAQEABAAABO1H'}\n",
      "got value:  [{'type': 'cellSlice', 'value': 'te6ccgEBAQEABAAABO1H'}, 12312312313213132, [1231232132, 1321231231, 57, 179]]\n"
     ]
    }
   ],
   "source": [
    "# actually python3 & TON have really big integers :))\n",
    "tvm.set_stack([\n",
    "    190009329293929392939239293293929329392949949949299008888888880999999888, \n",
    "    {'type': \"cell\",\n",
    "     'value': 'te6ccgEBAQEABAAABO1H'}, \n",
    "    [{'type': \"cellSlice\",\n",
    "     'value': 'te6ccgEBAQEABAAABO1H'},\n",
    "     12312312313213132,\n",
    "     [1231232132, 1321231231, 57, 179]\n",
    "    ]])"
   ]
  },
  {
   "cell_type": "code",
   "execution_count": 14,
   "id": "e85164d4",
   "metadata": {},
   "outputs": [
    {
     "name": "stdout",
     "output_type": "stream",
     "text": [
      "DEBUG: Use code: 2F306EC2BCE112068F472B947E0F6524ADA3F47624DE1EBB0C2BC9304661640C\n",
      "DEBUG: Load cp0\n",
      "[ 4][t 0][2022-10-20 10:10:46.366851][contops.cpp:694]\texecute PUSH c7\n",
      "\n",
      "[ 4][t 0][2022-10-20 10:10:46.366943][vm.cpp:450]\texecute implicit RET\n",
      "\n",
      "DEBUG: VM terminated with exit code -1\n",
      "DEBUG: Parse stack item #0\n",
      "DEBUG: Parse stack item #1\n",
      "DEBUG: Parse stack item #2\n",
      "DEBUG: Parse stack item #3\n"
     ]
    },
    {
     "name": "stderr",
     "output_type": "stream",
     "text": [
      " [ 190009329293929392939239293293929329392949949949299008888888880999999888 C{2F306EC2BCE112068F472B947E0F6524ADA3F47624DE1EBB0C2BC9304661640C} [CS{Cell{0004ed47} bits: 0..16; refs: 0..0} 12312312313213132 [1231232132 1321231231 57 179]] ] \n",
      " [ 190009329293929392939239293293929329392949949949299008888888880999999888 C{2F306EC2BCE112068F472B947E0F6524ADA3F47624DE1EBB0C2BC9304661640C} [CS{Cell{0004ed47} bits: 0..16; refs: 0..0} 12312312313213132 [1231232132 1321231231 57 179]] [124711402 0 0 0 0 0 0 (100000) CS{Cell{00100000000000000000} bits: 0..64; refs: 0..0} ()] ] \n"
     ]
    },
    {
     "data": {
      "text/plain": [
       "[[124711402,\n",
       "  0,\n",
       "  0,\n",
       "  0,\n",
       "  0,\n",
       "  0,\n",
       "  0,\n",
       "  [100000, None],\n",
       "  {'type': 'cellSlice', 'value': 'te6ccuEBAQEACgAUABAAAAAAAAAAALfVArM='},\n",
       "  None],\n",
       " [{'type': 'cellSlice', 'value': 'te6ccuEBAQEABAAIAATtR+R0b2c='},\n",
       "  12312312313213132,\n",
       "  [1231232132, 1321231231, 57, 179]],\n",
       " {'type': 'cell', 'value': 'te6ccuEBAQEABAAIAATtR+R0b2c='},\n",
       " 190009329293929392939239293293929329392949949949299008888888880999999888]"
      ]
     },
     "execution_count": 14,
     "metadata": {},
     "output_type": "execute_result"
    }
   ],
   "source": [
    "tvm.run_vm()"
   ]
  },
  {
   "cell_type": "markdown",
   "id": "024c6d1d",
   "metadata": {},
   "source": [
    "## C4 (Data) usage example"
   ]
  },
  {
   "cell_type": "code",
   "execution_count": 15,
   "id": "00de54f5",
   "metadata": {},
   "outputs": [
    {
     "name": "stdout",
     "output_type": "stream",
     "text": [
      "DEBUG: Start parse code\n",
      "DEBUG: Code parsed success\n",
      "Code loaded: 893C09B4BEE71FD2D35901C5D2BE014A40E6D5613F3DAF187E1345201C5A5E11\n",
      "DEBUG: Start parse data\n",
      "DEBUG: Data parsed success\n",
      "Data loaded: E2851C5358AF7F0B5C101ED925CAC97CE1F59B117C6C8E1B9791A0B618C7C449\n"
     ]
    }
   ],
   "source": [
    "# C4 PUSH CTOS 64 LDU\n",
    "tvm = PyTVM(code=\"te6ccgEBAQEABwAACu1E0NM/\", \n",
    "            data=\"te6ccgEBAQEACgAAEAAAAAAAAACz\", \n",
    "            log_level=2)"
   ]
  },
  {
   "cell_type": "code",
   "execution_count": 16,
   "id": "3f350c7c",
   "metadata": {},
   "outputs": [
    {
     "name": "stdout",
     "output_type": "stream",
     "text": [
      "DEBUG: Use code: 893C09B4BEE71FD2D35901C5D2BE014A40E6D5613F3DAF187E1345201C5A5E11\n",
      "DEBUG: Load cp0\n",
      "[ 4][t 0][2022-10-20 10:10:46.378028][contops.cpp:694]\texecute PUSH c4\n",
      "\n",
      "[ 4][t 0][2022-10-20 10:10:46.378080][cellops.cpp:872]\texecute CTOS\n",
      "\n",
      "[ 4][t 0][2022-10-20 10:10:46.378190][cellops.cpp:937]\texecute LDU 64\n",
      "\n",
      "[ 4][t 0][2022-10-20 10:10:46.378232][vm.cpp:450]\texecute implicit RET\n",
      "\n",
      "DEBUG: VM terminated with exit code -1\n",
      "DEBUG: Parse stack item #0\n",
      "DEBUG: Parse stack item #1\n"
     ]
    },
    {
     "data": {
      "text/plain": [
       "[{'type': 'cellSlice', 'value': 'te6ccuEBAQEAAgAEAABmLc6k'}, 179]"
      ]
     },
     "execution_count": 16,
     "metadata": {},
     "output_type": "execute_result"
    }
   ],
   "source": [
    "# You can see, that 179 was loaded from c4, and cellSlice on stack\n",
    "tvm.run_vm()"
   ]
  },
  {
   "cell_type": "markdown",
   "id": "c093321e",
   "metadata": {},
   "source": [
    "## Gas Limit "
   ]
  },
  {
   "cell_type": "code",
   "execution_count": 17,
   "id": "eb9df747",
   "metadata": {},
   "outputs": [
    {
     "name": "stdout",
     "output_type": "stream",
     "text": [
      "DEBUG: Start parse code\n",
      "DEBUG: Code parsed success\n",
      "Code loaded: 893C09B4BEE71FD2D35901C5D2BE014A40E6D5613F3DAF187E1345201C5A5E11\n",
      "DEBUG: Start parse data\n",
      "DEBUG: Data parsed success\n",
      "Data loaded: E2851C5358AF7F0B5C101ED925CAC97CE1F59B117C6C8E1B9791A0B618C7C449\n"
     ]
    }
   ],
   "source": [
    "# C4 PUSH CTOS 64 LDU\n",
    "tvm = PyTVM(code=\"te6ccgEBAQEABwAACu1E0NM/\", \n",
    "            data=\"te6ccgEBAQEACgAAEAAAAAAAAACz\", \n",
    "            log_level=2)"
   ]
  },
  {
   "cell_type": "code",
   "execution_count": 18,
   "id": "86a2c381",
   "metadata": {},
   "outputs": [
    {
     "name": "stdout",
     "output_type": "stream",
     "text": [
      "DEBUG: Use code: 893C09B4BEE71FD2D35901C5D2BE014A40E6D5613F3DAF187E1345201C5A5E11\n",
      "DEBUG: Load cp0\n",
      "[ 4][t 0][2022-10-20 10:10:46.386438][contops.cpp:694]\texecute PUSH c4\n",
      "\n",
      "[ 4][t 0][2022-10-20 10:10:46.386474][cellops.cpp:872]\texecute CTOS\n",
      "\n",
      "[ 4][t 0][2022-10-20 10:10:46.386554][vm.cpp:488]\tunhandled out-of-gas exception: gas consumed=144, limit=26\n",
      "\n",
      "DEBUG: VM terminated with exit code 13\n",
      "DEBUG: Parse stack item #0\n"
     ]
    },
    {
     "data": {
      "text/plain": [
       "[144]"
      ]
     },
     "execution_count": 18,
     "metadata": {},
     "output_type": "execute_result"
    }
   ],
   "source": [
    "tvm.set_gasLimit(26) # You can also pass max gas set_gasLimit(gas_limit=26, gas_max=26)\n",
    "tvm.run_vm() # out of gas"
   ]
  },
  {
   "cell_type": "markdown",
   "id": "568b1026",
   "metadata": {},
   "source": [
    "## Libs \n",
    "\n",
    "This is just load example, they will pass to VM, but I'm little bussy to get code of loading libs, check out [akifoq](https://github.com/akifoq) github"
   ]
  },
  {
   "cell_type": "code",
   "execution_count": 19,
   "id": "b9b64bd9",
   "metadata": {},
   "outputs": [],
   "source": [
    "tvm.set_libs([{'type': 'cell', 'value': 'te6ccgEBAQEABwAACu1E0NM/'}])"
   ]
  },
  {
   "cell_type": "markdown",
   "id": "d5a02471",
   "metadata": {},
   "source": [
    "## Stack dump log Level"
   ]
  },
  {
   "cell_type": "code",
   "execution_count": 20,
   "id": "fddef007",
   "metadata": {},
   "outputs": [
    {
     "name": "stdout",
     "output_type": "stream",
     "text": [
      "DEBUG: Start parse code\n",
      "DEBUG: Code parsed success\n",
      "Code loaded: 893C09B4BEE71FD2D35901C5D2BE014A40E6D5613F3DAF187E1345201C5A5E11\n",
      "DEBUG: Start parse data\n",
      "DEBUG: Data parsed success\n",
      "Data loaded: E2851C5358AF7F0B5C101ED925CAC97CE1F59B117C6C8E1B9791A0B618C7C449\n"
     ]
    }
   ],
   "source": [
    "# C4 PUSH CTOS 64 LDU\n",
    "tvm = PyTVM(code=\"te6ccgEBAQEABwAACu1E0NM/\", \n",
    "            data=\"te6ccgEBAQEACgAAEAAAAAAAAACz\", \n",
    "            log_level=4)"
   ]
  },
  {
   "cell_type": "code",
   "execution_count": 21,
   "id": "4731d8b1",
   "metadata": {},
   "outputs": [
    {
     "name": "stdout",
     "output_type": "stream",
     "text": [
      "DEBUG: Use code: 893C09B4BEE71FD2D35901C5D2BE014A40E6D5613F3DAF187E1345201C5A5E11\n",
      "DEBUG: Load cp0\n",
      "[ 4][t 0][2022-10-20 10:10:46.397183][contops.cpp:694]\texecute PUSH c4\n",
      "\n",
      "[ 4][t 0][2022-10-20 10:10:46.397216][cellops.cpp:872]\texecute CTOS\n",
      "\n",
      "[ 4][t 0][2022-10-20 10:10:46.397251][cellops.cpp:937]\texecute LDU 64\n",
      "\n",
      "[ 4][t 0][2022-10-20 10:10:46.397293][vm.cpp:450]\texecute implicit RET\n",
      "\n",
      "DEBUG: VM terminated with exit code -1\n",
      "DEBUG: Parse stack item #0\n",
      "DEBUG: Parse stack item #1\n"
     ]
    },
    {
     "name": "stderr",
     "output_type": "stream",
     "text": [
      " [ ] \n",
      " [ C{E2851C5358AF7F0B5C101ED925CAC97CE1F59B117C6C8E1B9791A0B618C7C449} ] \n",
      " [ CS{Cell{001000000000000000b3} bits: 0..64; refs: 0..0} ] \n"
     ]
    },
    {
     "data": {
      "text/plain": [
       "[{'type': 'cellSlice', 'value': 'te6ccuEBAQEAAgAEAABmLc6k'}, 179]"
      ]
     },
     "execution_count": 21,
     "metadata": {},
     "output_type": "execute_result"
    },
    {
     "name": "stderr",
     "output_type": "stream",
     "text": [
      " [ 179 CS{Cell{001000000000000000b3} bits: 64..64; refs: 0..0} ] \n"
     ]
    }
   ],
   "source": [
    "tvm.run_vm()"
   ]
  },
  {
   "cell_type": "markdown",
   "id": "19c95d73",
   "metadata": {},
   "source": [
    "## Allow debug & same c3"
   ]
  },
  {
   "cell_type": "code",
   "execution_count": 22,
   "id": "b52bd214",
   "metadata": {},
   "outputs": [
    {
     "name": "stdout",
     "output_type": "stream",
     "text": [
      "DEBUG: Start parse code\n",
      "DEBUG: Code parsed success\n",
      "Code loaded: 893C09B4BEE71FD2D35901C5D2BE014A40E6D5613F3DAF187E1345201C5A5E11\n",
      "DEBUG: Start parse data\n",
      "DEBUG: Data parsed success\n",
      "Data loaded: E2851C5358AF7F0B5C101ED925CAC97CE1F59B117C6C8E1B9791A0B618C7C449\n"
     ]
    }
   ],
   "source": [
    "# C4 PUSH CTOS 64 LDU\n",
    "tvm = PyTVM(code=\"te6ccgEBAQEABwAACu1E0NM/\", \n",
    "            data=\"te6ccgEBAQEACgAAEAAAAAAAAACz\", \n",
    "            log_level=4,\n",
    "            allow_debug=True,\n",
    "            same_c3=False)"
   ]
  },
  {
   "cell_type": "code",
   "execution_count": 23,
   "id": "a13b040e",
   "metadata": {},
   "outputs": [
    {
     "name": "stdout",
     "output_type": "stream",
     "text": [
      "DEBUG: Use code: 893C09B4BEE71FD2D35901C5D2BE014A40E6D5613F3DAF187E1345201C5A5E11\n",
      "DEBUG: Load cp0\n",
      "[ 4][t 0][2022-10-20 10:10:46.406724][contops.cpp:694]\texecute PUSH c4\n",
      "\n",
      "[ 4][t 0][2022-10-20 10:10:46.406812][cellops.cpp:872]\texecute CTOS\n",
      "\n",
      "[ 4][t 0][2022-10-20 10:10:46.406862][cellops.cpp:937]\texecute LDU 64\n",
      "\n",
      "[ 4][t 0][2022-10-20 10:10:46.406896][vm.cpp:450]\texecute implicit RET\n",
      "\n",
      "DEBUG: VM terminated with exit code -1\n",
      "DEBUG: Parse stack item #0\n",
      "DEBUG: Parse stack item #1\n"
     ]
    },
    {
     "name": "stderr",
     "output_type": "stream",
     "text": [
      " [ ] \n",
      " [ C{E2851C5358AF7F0B5C101ED925CAC97CE1F59B117C6C8E1B9791A0B618C7C449} ] \n",
      " [ CS{Cell{001000000000000000b3} bits: 0..64; refs: 0..0} ] \n",
      " [ 179 CS{Cell{001000000000000000b3} bits: 64..64; refs: 0..0} ] \n"
     ]
    },
    {
     "data": {
      "text/plain": [
       "[{'type': 'cellSlice', 'value': 'te6ccuEBAQEAAgAEAABmLc6k'}, 179]"
      ]
     },
     "execution_count": 23,
     "metadata": {},
     "output_type": "execute_result"
    }
   ],
   "source": [
    "tvm.run_vm()"
   ]
  },
  {
   "cell_type": "markdown",
   "id": "4e2304af",
   "metadata": {},
   "source": [
    "## Accout get methods"
   ]
  },
  {
   "cell_type": "code",
   "execution_count": 29,
   "id": "f42c0a7d",
   "metadata": {},
   "outputs": [
    {
     "name": "stdout",
     "output_type": "stream",
     "text": [
      "DEBUG: Start parse code\n",
      "DEBUG: Code parsed success\n",
      "Code loaded: FEB5FF6820E2FF0D9483E7E0D62C817D846789FB4AE580C878866D959DABD5C0\n",
      "DEBUG: Start parse data\n",
      "DEBUG: Data parsed success\n",
      "Data loaded: E59BCE6701021EA2EA693DED7D9BB6D0193BE042C424DBD91DF5F7D5F752EFFD\n"
     ]
    }
   ],
   "source": [
    "# get account code & data from dton.io\n",
    "tvm = PyTVM(code=\"te6ccuECFAEAAtQAABoAJAAuATICIAIqAqYDNAM+A5wDpgO8A/4ECAQmBEQEtgUqBZoFqAEU/wD0pBP0vPLICwECASACAwIBSAQFBPjygwjXGCDTH9Mf0x8C+CO78mTtRNDTH9Mf0//0BNFRQ7ryoVFRuvKiBfkBVBBk+RDyo/gAJKTIyx9SQMsfUjDL/1IQ9ADJ7VT4DwHTByHAAJ9sUZMg10qW0wfUAvsA6DDgIcAB4wAhwALjAAHAA5Ew4w0DpMjLHxLLH8v/EBESEwLm0AHQ0wMhcbCSXwTgItdJwSCSXwTgAtMfIYIQcGx1Z70ighBkc3RyvbCSXwXgA/pAMCD6RAHIygfL/8nQ7UTQgQFA1yH0BDBcgQEI9ApvoTGzkl8H4AXTP8glghBwbHVnupI4MOMNA4IQZHN0crqSXwbjDQYHAgEgCAkAeAH6APQEMPgnbyIwUAqhIb7y4FCCEHBsdWeDHrFwgBhQBMsFJs8WWPoCGfQAy2kXyx9SYMs/IMmAQPsABgCKUASBAQj0WTDtRNCBAUDXIMgBzxb0AMntVAFysI4jghBkc3Rygx6xcIAYUAXLBVADzxYj+gITy2rLH8s/yYBA+wCSXwPiAgEgCgsAWb0kK29qJoQICga5D6AhhHDUCAhHpJN9KZEM5pA+n/mDeBKAG3gQFImHFZ8xhAIBWAwNABG4yX7UTQ1wsfgAPbKd+1E0IEBQNch9AQwAsjKB8v/ydABgQEI9ApvoTGACASAODwAZrc52omhAIGuQ64X/wAAZrx32omhAEGuQ64WPwABu0gf6ANTUIvkABcjKBxXL/8nQd3SAGMjLBcsCIs8WUAX6AhTLaxLMzMlz+wDIQBSBAQj0UfKnAgBwgQEI1xj6ANM/yFQgR4EBCPRR8qeCEG5vdGVwdIAYyMsFywJQBs8WUAT6AhTLahLLH8s/yXP7AAIAbIEBCNcY+gDTPzBSJIEBCPRZ8qeCEGRzdHJwdIAYyMsFywJQBc8WUAP6AhPLassfEss/yXP7AAAK9ADJ7VQ32i8B\", \n",
    "            data=\"te6ccuEBBAEAegBYZKz0AVEAAABfKamjFwar2UnSv7yFJMcBHp8S/8es5VZ1DSsQduQyjHhdbU9awAECA8CIAgMAQ7/9RH6C0XtQV/uceTSwYGqZEYjcVUKe3D2prT8KNc4u5EAAQ7/Nan0TcqBqB20NuDhtNOk60TWn6tZwV5g88o9fm8cwK8CwqgZg\", \n",
    "            log_level=4)"
   ]
  },
  {
   "cell_type": "code",
   "execution_count": 30,
   "id": "257be6df",
   "metadata": {},
   "outputs": [],
   "source": [
    "tvm.set_c7(address=\"EQCI5yVsMccJDqrKH9knYAp0avK5fh-UBZ5Ns1xWOvIA2UKl\", # some contracts may use MYADDR in code\n",
    "           balanceGrams=100000000, # or trying get own balance from c7\n",
    "           randseed=1) # or maybe you use random in your contract :)"
   ]
  },
  {
   "cell_type": "code",
   "execution_count": 31,
   "id": "0e79b65b",
   "metadata": {},
   "outputs": [
    {
     "data": {
      "text/plain": [
       "77871"
      ]
     },
     "execution_count": 31,
     "metadata": {},
     "output_type": "execute_result"
    }
   ],
   "source": [
    "method_name_to_id(\"get_seqno\") # get methods have own numbers :)"
   ]
  },
  {
   "cell_type": "code",
   "execution_count": 36,
   "id": "f80f2e61",
   "metadata": {},
   "outputs": [
    {
     "name": "stdout",
     "output_type": "stream",
     "text": [
      "got value:  85143\n"
     ]
    }
   ],
   "source": [
    "tvm.set_stack([method_name_to_id(\"seqno\")]) # long story short, you need to pass method_id to stack"
   ]
  },
  {
   "cell_type": "code",
   "execution_count": 37,
   "id": "d720423d",
   "metadata": {},
   "outputs": [
    {
     "name": "stdout",
     "output_type": "stream",
     "text": [
      "DEBUG: Use code: FEB5FF6820E2FF0D9483E7E0D62C817D846789FB4AE580C878866D959DABD5C0\n",
      "DEBUG: Load cp0\n",
      "[ 4][t 0][2022-10-20 10:16:07.789621][contops.cpp:1129]\texecute SETCP 0\n",
      "\n",
      "[ 4][t 0][2022-10-20 10:16:07.789784][dictops.cpp:627]\texecute DICTPUSHCONST 19 (xC_,1)\n",
      "\n",
      "[ 4][t 0][2022-10-20 10:16:07.789933][dictops.cpp:591]\texecute DICTIGETJMPZ\n",
      "\n",
      "[ 4][t 0][2022-10-20 10:16:07.790158][contops.cpp:694]\texecute PUSH c4\n",
      "\n",
      "[ 4][t 0][2022-10-20 10:16:07.790289][cellops.cpp:872]\texecute CTOS\n",
      "\n",
      "[ 4][t 0][2022-10-20 10:16:07.790475][cellops.cpp:1058]\texecute PLDU 32\n",
      "\n",
      "[ 4][t 0][2022-10-20 10:16:07.790563][vm.cpp:450]\texecute implicit RET\n",
      "\n",
      "DEBUG: VM terminated with exit code -1\n",
      "DEBUG: Parse stack item #0\n"
     ]
    },
    {
     "name": "stderr",
     "output_type": "stream",
     "text": [
      " [ 85143 ] \n",
      " [ 85143 ] \n",
      " [ 85143 C{D814641364BD13E0A8A646226D7EB6E174CFD4F47235F8F8B29D1FD68C05A399} 19 ] \n",
      " [ ] \n",
      " [ C{E59BCE6701021EA2EA693DED7D9BB6D0193BE042C424DBD91DF5F7D5F752EFFD} ] \n",
      " [ CS{Cell{01510000005f29a9a31706abd949d2bfbc8524c7011e9f12ffc7ace556750d2b1076e4328c785d6d4f5ac0} bits: 0..321; refs: 0..1} ] \n",
      " [ 95 ] \n"
     ]
    },
    {
     "data": {
      "text/plain": [
       "[95]"
      ]
     },
     "execution_count": 37,
     "metadata": {},
     "output_type": "execute_result"
    }
   ],
   "source": [
    "tvm.run_vm() # this is seqno of this wallet :)"
   ]
  },
  {
   "cell_type": "code",
   "execution_count": null,
   "id": "b24b06fd",
   "metadata": {},
   "outputs": [],
   "source": []
  }
 ],
 "metadata": {
  "kernelspec": {
   "display_name": "Python 3 (ipykernel)",
   "language": "python",
   "name": "python3"
  },
  "language_info": {
   "codemirror_mode": {
    "name": "ipython",
    "version": 3
   },
   "file_extension": ".py",
   "mimetype": "text/x-python",
   "name": "python",
   "nbconvert_exporter": "python",
   "pygments_lexer": "ipython3",
   "version": "3.9.12"
  }
 },
 "nbformat": 4,
 "nbformat_minor": 5
}
