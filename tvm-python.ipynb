{
 "cells": [
  {
   "cell_type": "code",
   "execution_count": null,
   "id": "33ae7c28",
   "metadata": {},
   "outputs": [],
   "source": [
    "!pip install git+https://github.com/toncenter/tvm_valuetypes.git"
   ]
  },
  {
   "cell_type": "code",
   "execution_count": 1,
   "id": "655f3256",
   "metadata": {},
   "outputs": [],
   "source": [
    "#%load_ext autoreload\n",
    "#%autoreload 2\n",
    "from tvm_python import PyTVM, method_name_to_id, code_disasseble\n",
    "import codecs\n",
    "from tvm_valuetypes import Cell, deserialize_boc\n",
    "from dateutil.parser import parse "
   ]
  },
  {
   "cell_type": "code",
   "execution_count": 2,
   "id": "2b719c09",
   "metadata": {},
   "outputs": [],
   "source": [
    "def fix_op(item):\n",
    "    return item.split('\\t')[1].replace('execute ', '').replace('\\n', '')"
   ]
  },
  {
   "cell_type": "markdown",
   "id": "a8fbd55b",
   "metadata": {},
   "source": [
    "# Just code"
   ]
  },
  {
   "cell_type": "code",
   "execution_count": 3,
   "id": "7519f77c",
   "metadata": {},
   "outputs": [
    {
     "data": {
      "text/plain": [
       "[1]"
      ]
     },
     "execution_count": 3,
     "metadata": {},
     "output_type": "execute_result"
    }
   ],
   "source": [
    "PyTVM(code=\"te6ccgEBAQEAAwAAAnE=\").run_vm()"
   ]
  },
  {
   "cell_type": "markdown",
   "id": "226a83b1",
   "metadata": {},
   "source": [
    "### Stack is not reversed ;)"
   ]
  },
  {
   "cell_type": "code",
   "execution_count": 4,
   "id": "dcf5404e",
   "metadata": {},
   "outputs": [
    {
     "data": {
      "text/plain": [
       "[2]"
      ]
     },
     "execution_count": 4,
     "metadata": {},
     "output_type": "execute_result"
    }
   ],
   "source": [
    "SUB = \"te6ccgEBAQEAAwAAAqE=\"\n",
    "a = 3\n",
    "b = 1\n",
    "\n",
    "tvm = PyTVM(code=SUB)\n",
    "tvm.set_stack([a, b])\n",
    "tvm.run_vm()"
   ]
  },
  {
   "cell_type": "markdown",
   "id": "d609bc89",
   "metadata": {},
   "source": [
    "#### Balance can be really big integer"
   ]
  },
  {
   "cell_type": "code",
   "execution_count": 7,
   "id": "d30d3888",
   "metadata": {},
   "outputs": [],
   "source": [
    "tvm = PyTVM(code=SUB)\n",
    "\n",
    "tvm.set_c7(address=\"EQCI5yVsMccJDqrKH9knYAp0avK5fh-UBZ5Ns1xWOvIA2UKl\", # some contracts may use MYADDR in code\n",
    "           balanceGrams=\"9951186000\", # or trying get own balance from c7\n",
    "           randseed=\"1\") # or maybe you use random in your contract :)"
   ]
  },
  {
   "cell_type": "markdown",
   "id": "9192c0bc",
   "metadata": {},
   "source": [
    "# Disassembler"
   ]
  },
  {
   "cell_type": "code",
   "execution_count": 8,
   "id": "0cc5e117",
   "metadata": {},
   "outputs": [
    {
     "data": {
      "text/plain": [
       "'PUSHINT 1\\n'"
      ]
     },
     "execution_count": 8,
     "metadata": {},
     "output_type": "execute_result"
    }
   ],
   "source": [
    "code_disasseble(\"te6ccgEBAQEAAwAAAnE=\")"
   ]
  },
  {
   "cell_type": "markdown",
   "id": "f3815070",
   "metadata": {},
   "source": [
    "# Easy test examples"
   ]
  },
  {
   "cell_type": "code",
   "execution_count": 9,
   "id": "c7747bab",
   "metadata": {},
   "outputs": [
    {
     "name": "stdout",
     "output_type": "stream",
     "text": [
      "DEBUG: Start parse code\n",
      "DEBUG: Code parsed success\n",
      "Code loaded: 8810E73F1AA91EC4618658513623A56A18B5E2B2FDCA2F2A22000D2A14001B89\n",
      "DEBUG: Use code: 8810E73F1AA91EC4618658513623A56A18B5E2B2FDCA2F2A22000D2A14001B89\n",
      "DEBUG: Load cp0\n",
      "[ 4][t 0][2022-10-29 22:46:16.953755][arithops.cpp:34]\texecute PUSHINT 1\n",
      "\n",
      "[ 4][t 0][2022-10-29 22:46:16.954070][vm.cpp:478]\texecute implicit RET\n",
      "\n",
      "DEBUG: VM terminated with exit code -1\n",
      "DEBUG: Parse stack item #0\n",
      "Got 1 from TVM: 1\n"
     ]
    },
    {
     "name": "stderr",
     "output_type": "stream",
     "text": [
      " [ ] \n",
      " [ 1 ] \n"
     ]
    }
   ],
   "source": [
    "# Simple PUSHINT 1\n",
    "# You can define log_level if you want more stuff\n",
    "tvm_result = PyTVM(code=\"te6ccgEBAQEAAwAAAnE=\", log_level=4).run_vm()\n",
    "assert tvm_result[0] == 1\n",
    "\n",
    "print(f\"Got 1 from TVM: {tvm_result[0]}\")"
   ]
  },
  {
   "cell_type": "code",
   "execution_count": 10,
   "id": "b5809ec0",
   "metadata": {},
   "outputs": [
    {
     "data": {
      "text/plain": [
       "[1]"
      ]
     },
     "execution_count": 10,
     "metadata": {},
     "output_type": "execute_result"
    }
   ],
   "source": [
    "tvm_result"
   ]
  },
  {
   "cell_type": "code",
   "execution_count": 11,
   "id": "f4dee228",
   "metadata": {},
   "outputs": [
    {
     "data": {
      "text/plain": [
       "[1,\n",
       " {'type': 'continuation',\n",
       "  'value': 'te6ccuEBAgEADgASHAEMBAAAAAYAAQAGce1DB7kzoA=='}]"
      ]
     },
     "execution_count": 11,
     "metadata": {},
     "output_type": "execute_result"
    }
   ],
   "source": [
    "# c3 is continuation, but we just serialize it to base64 BOC\n",
    "# PUSHINT 1 PUSH c3\n",
    "tvm_result = PyTVM(code=\"te6ccgEBAQEABQAABnHtQw==\").run_vm()\n",
    "tvm_result"
   ]
  },
  {
   "cell_type": "code",
   "execution_count": 12,
   "id": "b2bbde25",
   "metadata": {},
   "outputs": [
    {
     "data": {
      "text/plain": [
       "<Cell refs_num: 1, data: b'\\x04\\x00\\x00\\x00\\x06\\x00'>"
      ]
     },
     "execution_count": 12,
     "metadata": {},
     "output_type": "execute_result"
    }
   ],
   "source": [
    "cell = Cell()\n",
    "b64 = tvm_result[1]['value']\n",
    "boc = codecs.decode(codecs.encode(b64, 'utf8'), 'base64')\n",
    "deserialize_boc(boc)"
   ]
  },
  {
   "cell_type": "code",
   "execution_count": 13,
   "id": "2e59a38a",
   "metadata": {},
   "outputs": [
    {
     "data": {
      "text/plain": [
       "[[124711402,\n",
       "  0,\n",
       "  0,\n",
       "  0,\n",
       "  0,\n",
       "  0,\n",
       "  0,\n",
       "  [101000000000, None],\n",
       "  {'type': 'cellSlice', 'value': 'te6ccuEBAQEACgAUABAAAAAAAAAAALfVArM='},\n",
       "  None]]"
      ]
     },
     "execution_count": 13,
     "metadata": {},
     "output_type": "execute_result"
    }
   ],
   "source": [
    "# c7 push (tuple)\n",
    "tvm_result = PyTVM(code=\"te6ccgEBAQEABAAABO1H\").run_vm()\n",
    "tvm_result[0] # just default c7"
   ]
  },
  {
   "cell_type": "markdown",
   "id": "950705d6",
   "metadata": {},
   "source": [
    "## Change c7"
   ]
  },
  {
   "cell_type": "code",
   "execution_count": 14,
   "id": "fb9d4961",
   "metadata": {},
   "outputs": [],
   "source": [
    "# c7 push (tuple)\n",
    "tvm = PyTVM(code=\"te6ccgEBAQEABAAABO1H\")"
   ]
  },
  {
   "cell_type": "code",
   "execution_count": 17,
   "id": "647451d2",
   "metadata": {},
   "outputs": [],
   "source": [
    "tvm.set_c7(translt=\"100\",\n",
    "           unixtime=179, \n",
    "           globalConfig=\"te6ccgEBAQEABAAABO1H\",\n",
    "           randseed=\"100\", \n",
    "           address=\"EQBq5JLG8-1juc-N95IFBnOM2NGrcJsMoFYFoWH-DaVJ2lVw\",\n",
    "           balanceGrams=str(100000000))"
   ]
  },
  {
   "cell_type": "code",
   "execution_count": 18,
   "id": "74f367f5",
   "metadata": {},
   "outputs": [
    {
     "data": {
      "text/plain": [
       "[[[124711402,\n",
       "   0,\n",
       "   0,\n",
       "   179,\n",
       "   0,\n",
       "   100,\n",
       "   100,\n",
       "   [100000000, None],\n",
       "   {'type': 'cellSlice',\n",
       "    'value': 'te6ccuEBAQEAJABIAEOADVySWN59rHc58b7yQKDOcZsaNW4TYZQKwLQsP8G0qTtQ5qaveg=='},\n",
       "   {'type': 'cell', 'value': 'te6ccuEBAQEABAAIAATtR+R0b2c='}]]]"
      ]
     },
     "execution_count": 18,
     "metadata": {},
     "output_type": "execute_result"
    }
   ],
   "source": [
    "tvm.run_vm()"
   ]
  },
  {
   "cell_type": "markdown",
   "id": "73174468",
   "metadata": {},
   "source": [
    "## Get detailed result"
   ]
  },
  {
   "cell_type": "code",
   "execution_count": 19,
   "id": "7aff416d",
   "metadata": {},
   "outputs": [
    {
     "name": "stdout",
     "output_type": "stream",
     "text": [
      "Exit code:  -1 \n",
      "C5:  te6ccuEBAQEAAgAEAABmLc6k \n",
      "Gas credit:  0 \n",
      "Gas used:  31 \n",
      "C4:  te6ccuEBAQEAAgAEAABmLc6k \n",
      "VM Steps:  2 \n",
      "VM final hash:  0000000000000000000000000000000000000000000000000000000000000000 \n",
      "VM init hash:  0000000000000000000000000000000000000000000000000000000000000000 \n",
      "VM success:  True\n"
     ]
    }
   ],
   "source": [
    "print(\"Exit code: \", tvm.exit_code,\n",
    "\"\\nC5: \", tvm.actions, \n",
    "\"\\nGas credit: \",tvm.gas_credit, \n",
    "\"\\nGas used: \",tvm.gas_used, \n",
    "\"\\nC4: \",tvm.new_data, \n",
    "\"\\nVM Steps: \",tvm.vm_steps,\n",
    "\"\\nVM final hash: \",tvm.vm_final_state_hash,\n",
    "\"\\nVM init hash: \",tvm.vm_init_state_hash,\n",
    "\"\\nVM success: \",tvm.success)"
   ]
  },
  {
   "cell_type": "markdown",
   "id": "def3bba6",
   "metadata": {},
   "source": [
    "## Set stack"
   ]
  },
  {
   "cell_type": "code",
   "execution_count": 20,
   "id": "b6631d0b",
   "metadata": {},
   "outputs": [
    {
     "name": "stdout",
     "output_type": "stream",
     "text": [
      "DEBUG: Start parse code\n",
      "DEBUG: Code parsed success\n",
      "Code loaded: 2F306EC2BCE112068F472B947E0F6524ADA3F47624DE1EBB0C2BC9304661640C\n"
     ]
    }
   ],
   "source": [
    "# c7 push (tuple)\n",
    "tvm = PyTVM(code=\"te6ccgEBAQEABAAABO1H\", log_level=6)"
   ]
  },
  {
   "cell_type": "code",
   "execution_count": 21,
   "id": "a3752cde",
   "metadata": {},
   "outputs": [],
   "source": [
    "# actually python3 & TON have really big integers :))\n",
    "tvm.set_stack([\n",
    "    190009329293929392939239293293929329392949949949299008888888880999999888, \n",
    "    {'type': \"cell\",\n",
    "     'value': 'te6ccgEBAQEABAAABO1H'}, \n",
    "    [{'type': \"cellSlice\",\n",
    "     'value': 'te6ccgEBAQEABAAABO1H'},\n",
    "     12312312313213132,\n",
    "     [1231232132, 1321231231, 57, 179]\n",
    "    ]])"
   ]
  },
  {
   "cell_type": "code",
   "execution_count": 22,
   "id": "d681060b",
   "metadata": {},
   "outputs": [
    {
     "name": "stdout",
     "output_type": "stream",
     "text": [
      "DEBUG: Use code: 2F306EC2BCE112068F472B947E0F6524ADA3F47624DE1EBB0C2BC9304661640C\n",
      "DEBUG: Load cp0\n",
      "[ 4][t 0][2022-10-29 22:46:38.643558][contops.cpp:694]\texecute PUSH c7\n",
      "\n",
      "[ 4][t 0][2022-10-29 22:46:38.643977][vm.cpp:478]\texecute implicit RET\n",
      "\n",
      "DEBUG: VM terminated with exit code -1\n",
      "DEBUG: Parse stack item #3\n",
      "DEBUG: Parse stack item #2\n",
      "DEBUG: Parse stack item #1\n",
      "DEBUG: Parse stack item #0\n"
     ]
    },
    {
     "name": "stderr",
     "output_type": "stream",
     "text": [
      " [ 190009329293929392939239293293929329392949949949299008888888880999999888 C{2F306EC2BCE112068F472B947E0F6524ADA3F47624DE1EBB0C2BC9304661640C} [CS{Cell{0004ed47} bits: 0..16; refs: 0..0} 12312312313213132 [1231232132 1321231231 57 179]] ] \n",
      " [ 190009329293929392939239293293929329392949949949299008888888880999999888 C{2F306EC2BCE112068F472B947E0F6524ADA3F47624DE1EBB0C2BC9304661640C} [CS{Cell{0004ed47} bits: 0..16; refs: 0..0} 12312312313213132 [1231232132 1321231231 57 179]] [[124711402 0 0 0 0 0 0 (101000000000) CS{Cell{00100000000000000000} bits: 0..64; refs: 0..0} ()]] ] \n"
     ]
    },
    {
     "data": {
      "text/plain": [
       "[190009329293929392939239293293929329392949949949299008888888880999999888,\n",
       " {'type': 'cell', 'value': 'te6ccuEBAQEABAAIAATtR+R0b2c='},\n",
       " [{'type': 'cellSlice', 'value': 'te6ccuEBAQEABAAIAATtR+R0b2c='},\n",
       "  12312312313213132,\n",
       "  [1231232132, 1321231231, 57, 179]],\n",
       " [[124711402,\n",
       "   0,\n",
       "   0,\n",
       "   0,\n",
       "   0,\n",
       "   0,\n",
       "   0,\n",
       "   [101000000000, None],\n",
       "   {'type': 'cellSlice', 'value': 'te6ccuEBAQEACgAUABAAAAAAAAAAALfVArM='},\n",
       "   None]]]"
      ]
     },
     "execution_count": 22,
     "metadata": {},
     "output_type": "execute_result"
    }
   ],
   "source": [
    "tvm.run_vm()"
   ]
  },
  {
   "cell_type": "markdown",
   "id": "a05f3b21",
   "metadata": {},
   "source": [
    "## C4 (Data) usage example"
   ]
  },
  {
   "cell_type": "code",
   "execution_count": 23,
   "id": "fdc0b315",
   "metadata": {},
   "outputs": [
    {
     "name": "stdout",
     "output_type": "stream",
     "text": [
      "DEBUG: Start parse code\n",
      "DEBUG: Code parsed success\n",
      "Code loaded: 893C09B4BEE71FD2D35901C5D2BE014A40E6D5613F3DAF187E1345201C5A5E11\n",
      "DEBUG: Start parse data\n",
      "DEBUG: Data parsed success\n",
      "Data loaded: E2851C5358AF7F0B5C101ED925CAC97CE1F59B117C6C8E1B9791A0B618C7C449\n"
     ]
    }
   ],
   "source": [
    "# C4 PUSH CTOS 64 LDU\n",
    "tvm = PyTVM(code=\"te6ccgEBAQEABwAACu1E0NM/\", \n",
    "            data=\"te6ccgEBAQEACgAAEAAAAAAAAACz\", \n",
    "            log_level=2)"
   ]
  },
  {
   "cell_type": "code",
   "execution_count": 24,
   "id": "f2802b3b",
   "metadata": {},
   "outputs": [
    {
     "name": "stdout",
     "output_type": "stream",
     "text": [
      "DEBUG: Use code: 893C09B4BEE71FD2D35901C5D2BE014A40E6D5613F3DAF187E1345201C5A5E11\n",
      "DEBUG: Load cp0\n",
      "[ 4][t 0][2022-10-29 22:46:40.080243][contops.cpp:694]\texecute PUSH c4\n",
      "\n",
      "[ 4][t 0][2022-10-29 22:46:40.080555][cellops.cpp:875]\texecute CTOS\n",
      "\n",
      "[ 4][t 0][2022-10-29 22:46:40.080704][cellops.cpp:940]\texecute LDU 64\n",
      "\n",
      "[ 4][t 0][2022-10-29 22:46:40.080803][vm.cpp:478]\texecute implicit RET\n",
      "\n",
      "DEBUG: VM terminated with exit code -1\n",
      "DEBUG: Parse stack item #1\n",
      "DEBUG: Parse stack item #0\n"
     ]
    },
    {
     "data": {
      "text/plain": [
       "[179, {'type': 'cellSlice', 'value': 'te6ccuEBAQEAAgAEAABmLc6k'}]"
      ]
     },
     "execution_count": 24,
     "metadata": {},
     "output_type": "execute_result"
    }
   ],
   "source": [
    "# You can see, that 179 was loaded from c4, and cellSlice on stack\n",
    "tvm.run_vm()"
   ]
  },
  {
   "cell_type": "markdown",
   "id": "12f438d3",
   "metadata": {},
   "source": [
    "## Gas Limit "
   ]
  },
  {
   "cell_type": "code",
   "execution_count": 25,
   "id": "1c7e8c29",
   "metadata": {},
   "outputs": [
    {
     "name": "stdout",
     "output_type": "stream",
     "text": [
      "DEBUG: Start parse code\n",
      "DEBUG: Code parsed success\n",
      "Code loaded: 893C09B4BEE71FD2D35901C5D2BE014A40E6D5613F3DAF187E1345201C5A5E11\n",
      "DEBUG: Start parse data\n",
      "DEBUG: Data parsed success\n",
      "Data loaded: E2851C5358AF7F0B5C101ED925CAC97CE1F59B117C6C8E1B9791A0B618C7C449\n"
     ]
    }
   ],
   "source": [
    "# C4 PUSH CTOS 64 LDU\n",
    "tvm = PyTVM(code=\"te6ccgEBAQEABwAACu1E0NM/\", \n",
    "            data=\"te6ccgEBAQEACgAAEAAAAAAAAACz\", \n",
    "            log_level=2)"
   ]
  },
  {
   "cell_type": "code",
   "execution_count": 26,
   "id": "8b41edd7",
   "metadata": {},
   "outputs": [
    {
     "name": "stdout",
     "output_type": "stream",
     "text": [
      "DEBUG: Use code: 893C09B4BEE71FD2D35901C5D2BE014A40E6D5613F3DAF187E1345201C5A5E11\n",
      "DEBUG: Load cp0\n",
      "[ 4][t 0][2022-10-29 22:46:41.861183][contops.cpp:694]\texecute PUSH c4\n",
      "\n",
      "[ 4][t 0][2022-10-29 22:46:41.861341][cellops.cpp:875]\texecute CTOS\n",
      "\n",
      "[ 4][t 0][2022-10-29 22:46:41.861745][vm.cpp:516]\tunhandled out-of-gas exception: gas consumed=144, limit=26\n",
      "\n",
      "DEBUG: VM terminated with exit code 13\n",
      "DEBUG: Parse stack item #0\n"
     ]
    },
    {
     "data": {
      "text/plain": [
       "[144]"
      ]
     },
     "execution_count": 26,
     "metadata": {},
     "output_type": "execute_result"
    }
   ],
   "source": [
    "tvm.set_gasLimit(26) # You can also pass max gas set_gasLimit(gas_limit=26, gas_max=26)\n",
    "tvm.run_vm() # out of gas"
   ]
  },
  {
   "cell_type": "markdown",
   "id": "0802a19e",
   "metadata": {},
   "source": [
    "## Libs \n",
    "\n",
    "This is just load example, they will pass to VM, but I'm little bussy to get code of loading libs, check out [akifoq](https://github.com/akifoq) github"
   ]
  },
  {
   "cell_type": "code",
   "execution_count": 27,
   "id": "a9012dd9",
   "metadata": {},
   "outputs": [],
   "source": [
    "tvm.set_libs([{'type': 'cell', 'value': 'te6ccgEBAQEABwAACu1E0NM/'}])"
   ]
  },
  {
   "cell_type": "markdown",
   "id": "95d922aa",
   "metadata": {},
   "source": [
    "## Stack dump log Level"
   ]
  },
  {
   "cell_type": "code",
   "execution_count": 28,
   "id": "279ac9bc",
   "metadata": {},
   "outputs": [
    {
     "name": "stdout",
     "output_type": "stream",
     "text": [
      "DEBUG: Start parse code\n",
      "DEBUG: Code parsed success\n",
      "Code loaded: 893C09B4BEE71FD2D35901C5D2BE014A40E6D5613F3DAF187E1345201C5A5E11\n",
      "DEBUG: Start parse data\n",
      "DEBUG: Data parsed success\n",
      "Data loaded: E2851C5358AF7F0B5C101ED925CAC97CE1F59B117C6C8E1B9791A0B618C7C449\n"
     ]
    }
   ],
   "source": [
    "# C4 PUSH CTOS 64 LDU\n",
    "tvm = PyTVM(code=\"te6ccgEBAQEABwAACu1E0NM/\", \n",
    "            data=\"te6ccgEBAQEACgAAEAAAAAAAAACz\", \n",
    "            log_level=4)"
   ]
  },
  {
   "cell_type": "code",
   "execution_count": 29,
   "id": "a4171b0e",
   "metadata": {},
   "outputs": [
    {
     "name": "stdout",
     "output_type": "stream",
     "text": [
      "DEBUG: Use code: 893C09B4BEE71FD2D35901C5D2BE014A40E6D5613F3DAF187E1345201C5A5E11\n",
      "DEBUG: Load cp0\n",
      "[ 4][t 0][2022-10-29 22:46:44.277603][contops.cpp:694]\texecute PUSH c4\n",
      "\n",
      "[ 4][t 0][2022-10-29 22:46:44.277740][cellops.cpp:875]\texecute CTOS\n",
      "\n",
      "[ 4][t 0][2022-10-29 22:46:44.277863][cellops.cpp:940]\texecute LDU 64\n",
      "\n",
      "[ 4][t 0][2022-10-29 22:46:44.277965][vm.cpp:478]\texecute implicit RET\n",
      "\n",
      "DEBUG: VM terminated with exit code -1\n",
      "DEBUG: Parse stack item #1\n",
      "DEBUG: Parse stack item #0\n"
     ]
    },
    {
     "name": "stderr",
     "output_type": "stream",
     "text": [
      " [ ] \n",
      " [ C{E2851C5358AF7F0B5C101ED925CAC97CE1F59B117C6C8E1B9791A0B618C7C449} ] \n",
      " [ CS{Cell{001000000000000000b3} bits: 0..64; refs: 0..0} ] \n",
      " [ 179 CS{Cell{001000000000000000b3} bits: 64..64; refs: 0..0} ] \n"
     ]
    },
    {
     "data": {
      "text/plain": [
       "[179, {'type': 'cellSlice', 'value': 'te6ccuEBAQEAAgAEAABmLc6k'}]"
      ]
     },
     "execution_count": 29,
     "metadata": {},
     "output_type": "execute_result"
    }
   ],
   "source": [
    "tvm.run_vm()"
   ]
  },
  {
   "cell_type": "markdown",
   "id": "93d62a2e",
   "metadata": {},
   "source": [
    "## Allow debug & same c3"
   ]
  },
  {
   "cell_type": "code",
   "execution_count": 30,
   "id": "ad42cc34",
   "metadata": {},
   "outputs": [
    {
     "name": "stdout",
     "output_type": "stream",
     "text": [
      "DEBUG: Start parse code\n",
      "DEBUG: Code parsed success\n",
      "Code loaded: 893C09B4BEE71FD2D35901C5D2BE014A40E6D5613F3DAF187E1345201C5A5E11\n",
      "DEBUG: Start parse data\n",
      "DEBUG: Data parsed success\n",
      "Data loaded: E2851C5358AF7F0B5C101ED925CAC97CE1F59B117C6C8E1B9791A0B618C7C449\n"
     ]
    }
   ],
   "source": [
    "# C4 PUSH CTOS 64 LDU\n",
    "tvm = PyTVM(code=\"te6ccgEBAQEABwAACu1E0NM/\", \n",
    "            data=\"te6ccgEBAQEACgAAEAAAAAAAAACz\", \n",
    "            log_level=4,\n",
    "            allow_debug=True,\n",
    "            same_c3=False)"
   ]
  },
  {
   "cell_type": "code",
   "execution_count": 31,
   "id": "32021009",
   "metadata": {},
   "outputs": [
    {
     "name": "stdout",
     "output_type": "stream",
     "text": [
      "DEBUG: Use code: 893C09B4BEE71FD2D35901C5D2BE014A40E6D5613F3DAF187E1345201C5A5E11\n",
      "DEBUG: Load cp0\n",
      "[ 4][t 0][2022-10-29 22:46:46.168985][contops.cpp:694]\texecute PUSH c4\n",
      "\n",
      "[ 4][t 0][2022-10-29 22:46:46.169131][cellops.cpp:875]\texecute CTOS\n",
      "\n",
      "[ 4][t 0][2022-10-29 22:46:46.169230][cellops.cpp:940]\texecute LDU 64\n",
      "\n",
      "[ 4][t 0][2022-10-29 22:46:46.169376][vm.cpp:478]\texecute implicit RET\n",
      "\n",
      "DEBUG: VM terminated with exit code -1\n",
      "DEBUG: Parse stack item #1\n",
      "DEBUG: Parse stack item #0\n"
     ]
    },
    {
     "name": "stderr",
     "output_type": "stream",
     "text": [
      " [ ] \n",
      " [ C{E2851C5358AF7F0B5C101ED925CAC97CE1F59B117C6C8E1B9791A0B618C7C449} ] \n",
      " [ CS{Cell{001000000000000000b3} bits: 0..64; refs: 0..0} ] \n",
      " [ 179 CS{Cell{001000000000000000b3} bits: 64..64; refs: 0..0} ] \n"
     ]
    },
    {
     "data": {
      "text/plain": [
       "[179, {'type': 'cellSlice', 'value': 'te6ccuEBAQEAAgAEAABmLc6k'}]"
      ]
     },
     "execution_count": 31,
     "metadata": {},
     "output_type": "execute_result"
    }
   ],
   "source": [
    "tvm.run_vm()"
   ]
  },
  {
   "cell_type": "markdown",
   "id": "db452389",
   "metadata": {},
   "source": [
    "## Accout get methods"
   ]
  },
  {
   "cell_type": "code",
   "execution_count": 32,
   "id": "0d9c2bac",
   "metadata": {},
   "outputs": [
    {
     "name": "stdout",
     "output_type": "stream",
     "text": [
      "DEBUG: Start parse code\n",
      "DEBUG: Code parsed success\n",
      "Code loaded: 8278F4C5233DE6FBEDC969AF519344A7A9BFFC544856DBA986A95C0BCF8571C9\n",
      "DEBUG: Start parse data\n",
      "DEBUG: Data parsed success\n",
      "Data loaded: 43D29B5E2CC2AD75F4FFC97C064E1B1EE126F11195B5ECE506B28FFDEDDC6AE6\n"
     ]
    }
   ],
   "source": [
    "# get account code & data from dton.io\n",
    "tvm = PyTVM(code=\"te6ccuECDAEAAikAABoAJAAuADYAQACWAZYClAKuAv4DzARSART/APSkE/S88sgLAQIBIAIDAgFIBAUABPIwAgLNBgcAUaA4WdqJoaYBpj/0gfSB9IH0AahhofSB9AH0gfQAYQQgjJKwoBWAAqsBAvfQDoaYGAuNhJL4JwfSAYdqJoaYBpj/0gfSB9IH0AahgTYAD5aMoRa6ThAVnHIBkcHCmg44LJL4RwKKJjgvlw+gJpj8EIAonGyIldeXD66Z+Y/SAYICsDZGWACuWPqAHniwDniwDniwD9AWZk9qpwGxPjgHGBA+mP6Z+YEMCAkB92YIQO5rKAFJgoFIwvvLhwiTQ+kD6APpA+gAwU5KhIaFQh6EWoFKQcIAQyMsFUAPPFgH6AstqyXH7ACXCACXXScICsI4XUEVwgBDIywVQA88WAfoCy2rJcfsAECOSNDTiWnCAEMjLBVADzxYB+gLLaslx+wBwIIIQX8w9FILABY3EDhHZRRDMHDwBQFKwAGSXwvgIcACnzEQSRA4R2AQJRAkECPwBeA6wAPjAl8JhA/y8AoAyoIQO5rKABi+8uHJU0bHBVFSxwUVsfLhynAgghBfzD0UIYAQyMsFKM8WIfoCy2rLHxnLPyfPFifPFhjKACf6AhfKAMmAQPsAcQZQREUVBsjLABXLH1ADzxYBzxYBzxYB+gLMye1UAIIhgBjIywUqzxYh+gLLassfE8s/I88WUAPPFsoAIfoCygDJgwb7AHFVUAbIywAVyx9QA88WAc8WAc8WAfoCzMntVHEzQWc=\", \n",
    "            data=\"te6ccuECAgEAAKEAAKIBQgGbMateFUAFhO5hst/wg3EW0Py1B42TlkvL6cBf1qFBsb/KXWpD4YgAdP2guq8i0ybWx7E2zTGM2WdwO9WauK3yzhASGFCjzN4wSMCWvrAEAQCbgBRyaww+87XrNCetowXCyAQhgF8xx74x+06XHrVig1fjCujOry8BAANKN8ZnM0OzYOENTkOEg7VVgFog5fBWdCtqQro1MRmU1dGdXl4CusI7qA==\", \n",
    "            log_level=4)"
   ]
  },
  {
   "cell_type": "code",
   "execution_count": 35,
   "id": "6eb43721",
   "metadata": {},
   "outputs": [],
   "source": [
    "tvm.set_c7(address=\"EQCI5yVsMccJDqrKH9knYAp0avK5fh-UBZ5Ns1xWOvIA2UKl\", # some contracts may use MYADDR in code\n",
    "           balanceGrams=str(100000000), # or trying get own balance from c7\n",
    "           randseed=\"1\") # or maybe you use random in your contract :)"
   ]
  },
  {
   "cell_type": "code",
   "execution_count": 36,
   "id": "9176d245",
   "metadata": {},
   "outputs": [
    {
     "data": {
      "text/plain": [
       "72748"
      ]
     },
     "execution_count": 36,
     "metadata": {},
     "output_type": "execute_result"
    }
   ],
   "source": [
    "method_name_to_id(\"get_sale_data\") # get methods have own numbers :)"
   ]
  },
  {
   "cell_type": "code",
   "execution_count": 37,
   "id": "f20db539",
   "metadata": {},
   "outputs": [],
   "source": [
    "tvm.set_stack([method_name_to_id(\"get_sale_data\")]) # long story short, you need to pass method_id to stack"
   ]
  },
  {
   "cell_type": "code",
   "execution_count": 38,
   "id": "dfc606b5",
   "metadata": {},
   "outputs": [
    {
     "name": "stdout",
     "output_type": "stream",
     "text": [
      "DEBUG: Use code: 8278F4C5233DE6FBEDC969AF519344A7A9BFFC544856DBA986A95C0BCF8571C9\n",
      "DEBUG: Load cp0\n",
      "[ 4][t 0][2022-10-29 22:46:55.029593][contops.cpp:1129]\texecute SETCP 0\n",
      "\n",
      "[ 4][t 0][2022-10-29 22:46:55.029687][dictops.cpp:631]\texecute DICTPUSHCONST 19 (xC_,1)\n",
      "\n",
      "[ 4][t 0][2022-10-29 22:46:55.029835][dictops.cpp:595]\texecute DICTIGETJMPZ\n",
      "\n",
      "[ 4][t 0][2022-10-29 22:46:55.030395][contops.cpp:694]\texecute PUSH c4\n",
      "\n",
      "[ 4][t 0][2022-10-29 22:46:55.030534][cellops.cpp:875]\texecute CTOS\n",
      "\n",
      "[ 4][t 0][2022-10-29 22:46:55.030792][cellops.cpp:940]\texecute LDU 1\n",
      "\n",
      "[ 4][t 0][2022-10-29 22:46:55.030977][cellops.cpp:940]\texecute LDU 32\n",
      "\n",
      "[ 4][t 0][2022-10-29 22:46:55.033808][tonops.cpp:532]\texecute LDMSGADDR\n",
      "\n",
      "[ 4][t 0][2022-10-29 22:46:55.034158][tonops.cpp:532]\texecute LDMSGADDR\n",
      "\n",
      "[ 4][t 0][2022-10-29 22:46:55.036017][tonops.cpp:532]\texecute LDMSGADDR\n",
      "\n",
      "[ 4][t 0][2022-10-29 22:46:55.036343][tonops.cpp:443]\texecute LDGRAMS\n",
      "\n",
      "[ 4][t 0][2022-10-29 22:46:55.036662][cellops.cpp:971]\texecute LDREF\n",
      "\n",
      "[ 4][t 0][2022-10-29 22:46:55.037015][stackops.cpp:129]\texecute DROP\n",
      "\n",
      "[ 4][t 0][2022-10-29 22:46:55.037259][cellops.cpp:875]\texecute CTOS\n",
      "\n",
      "[ 4][t 0][2022-10-29 22:46:55.041383][tonops.cpp:532]\texecute LDMSGADDR\n",
      "\n",
      "[ 4][t 0][2022-10-29 22:46:55.041782][tonops.cpp:443]\texecute LDGRAMS\n",
      "\n",
      "[ 4][t 0][2022-10-29 22:46:55.042148][tonops.cpp:532]\texecute LDMSGADDR\n",
      "\n",
      "[ 4][t 0][2022-10-29 22:46:55.042485][tonops.cpp:443]\texecute LDGRAMS\n",
      "\n",
      "[ 4][t 0][2022-10-29 22:46:55.042743][stackops.cpp:129]\texecute DROP\n",
      "\n",
      "[ 4][t 0][2022-10-29 22:46:55.042958][arithops.cpp:84]\texecute PUSHINT 1179211856\n",
      "\n",
      "[ 4][t 0][2022-10-29 22:46:55.043173][stackops.cpp:46]\texecute XCHG s10\n",
      "\n",
      "[ 4][t 0][2022-10-29 22:46:55.043389][arithops.cpp:869]\texecute EQINT 1\n",
      "\n",
      "[ 4][t 0][2022-10-29 22:46:55.043752][stackops.cpp:302]\texecute BLKSWAP 9,1\n",
      "\n",
      "[ 4][t 0][2022-10-29 22:46:55.043968][vm.cpp:478]\texecute implicit RET\n",
      "\n",
      "DEBUG: VM terminated with exit code -1\n",
      "DEBUG: Parse stack item #10\n",
      "DEBUG: Parse stack item #9\n",
      "DEBUG: Parse stack item #8\n",
      "DEBUG: Parse stack item #7\n",
      "DEBUG: Parse stack item #6\n",
      "DEBUG: Parse stack item #5\n",
      "DEBUG: Parse stack item #4\n",
      "DEBUG: Parse stack item #3\n",
      "DEBUG: Parse stack item #2\n",
      "DEBUG: Parse stack item #1\n",
      "DEBUG: Parse stack item #0\n"
     ]
    },
    {
     "name": "stderr",
     "output_type": "stream",
     "text": [
      " [ 72748 ] \n",
      " [ 72748 ] \n",
      " [ 72748 C{C631CA807ADDEBA16F1FCF99863574F748D8C5A4B74BD6E6BE8E26D289BE6CB7} 19 ] \n",
      " [ ] \n",
      " [ C{43D29B5E2CC2AD75F4FFC97C064E1B1EE126F11195B5ECE506B28FFDEDDC6AE6} ] \n",
      " [ CS{Cell{019b31ab5e15400584ee61b2dff0837116d0fcb5078d93964bcbe9c05fd6a141b1bfca5d6a43e1880074fda0baaf22d326d6c7b136cd318cd967703bd59ab8adf2ce10121850a3ccde3048c096beb004} bits: 0..621; refs: 0..1} ] \n",
      " [ 0 CS{Cell{019b31ab5e15400584ee61b2dff0837116d0fcb5078d93964bcbe9c05fd6a141b1bfca5d6a43e1880074fda0baaf22d326d6c7b136cd318cd967703bd59ab8adf2ce10121850a3ccde3048c096beb004} bits: 1..621; refs: 0..1} ] \n",
      " [ 0 1666628650 CS{Cell{019b31ab5e15400584ee61b2dff0837116d0fcb5078d93964bcbe9c05fd6a141b1bfca5d6a43e1880074fda0baaf22d326d6c7b136cd318cd967703bd59ab8adf2ce10121850a3ccde3048c096beb004} bits: 33..621; refs: 0..1} ] \n",
      " [ 0 1666628650 CS{Cell{019b31ab5e15400584ee61b2dff0837116d0fcb5078d93964bcbe9c05fd6a141b1bfca5d6a43e1880074fda0baaf22d326d6c7b136cd318cd967703bd59ab8adf2ce10121850a3ccde3048c096beb004} bits: 33..300; refs: 0..0} CS{Cell{019b31ab5e15400584ee61b2dff0837116d0fcb5078d93964bcbe9c05fd6a141b1bfca5d6a43e1880074fda0baaf22d326d6c7b136cd318cd967703bd59ab8adf2ce10121850a3ccde3048c096beb004} bits: 300..621; refs: 0..1} ] \n",
      " [ 0 1666628650 CS{Cell{019b31ab5e15400584ee61b2dff0837116d0fcb5078d93964bcbe9c05fd6a141b1bfca5d6a43e1880074fda0baaf22d326d6c7b136cd318cd967703bd59ab8adf2ce10121850a3ccde3048c096beb004} bits: 33..300; refs: 0..0} CS{Cell{019b31ab5e15400584ee61b2dff0837116d0fcb5078d93964bcbe9c05fd6a141b1bfca5d6a43e1880074fda0baaf22d326d6c7b136cd318cd967703bd59ab8adf2ce10121850a3ccde3048c096beb004} bits: 300..567; refs: 0..0} CS{Cell{019b31ab5e15400584ee61b2dff0837116d0fcb5078d93964bcbe9c05fd6a141b1bfca5d6a43e1880074fda0baaf22d326d6c7b136cd318cd967703bd59ab8adf2ce10121850a3ccde3048c096beb004} bits: 567..621; refs: 0..1} ] \n",
      " [ 0 1666628650 CS{Cell{019b31ab5e15400584ee61b2dff0837116d0fcb5078d93964bcbe9c05fd6a141b1bfca5d6a43e1880074fda0baaf22d326d6c7b136cd318cd967703bd59ab8adf2ce10121850a3ccde3048c096beb004} bits: 33..300; refs: 0..0} CS{Cell{019b31ab5e15400584ee61b2dff0837116d0fcb5078d93964bcbe9c05fd6a141b1bfca5d6a43e1880074fda0baaf22d326d6c7b136cd318cd967703bd59ab8adf2ce10121850a3ccde3048c096beb004} bits: 300..567; refs: 0..0} CS{Cell{019b31ab5e15400584ee61b2dff0837116d0fcb5078d93964bcbe9c05fd6a141b1bfca5d6a43e1880074fda0baaf22d326d6c7b136cd318cd967703bd59ab8adf2ce10121850a3ccde3048c096beb004} bits: 567..569; refs: 0..0} CS{Cell{019b31ab5e15400584ee61b2dff0837116d0fcb5078d93964bcbe9c05fd6a141b1bfca5d6a43e1880074fda0baaf22d326d6c7b136cd318cd967703bd59ab8adf2ce10121850a3ccde3048c096beb004} bits: 569..621; refs: 0..1} ] \n",
      " [ 0 1666628650 CS{Cell{019b31ab5e15400584ee61b2dff0837116d0fcb5078d93964bcbe9c05fd6a141b1bfca5d6a43e1880074fda0baaf22d326d6c7b136cd318cd967703bd59ab8adf2ce10121850"
     ]
    },
    {
     "data": {
      "text/plain": [
       "[1179211856,\n",
       " 0,\n",
       " 1666628650,\n",
       " {'type': 'cellSlice',\n",
       "  'value': 'te6ccuEBAQEAJABIAEOACwncw2W/4QbiLaH5ag8bJyyXl9OAv61Cg2N/lLrUh8MQhD770g=='},\n",
       " {'type': 'cellSlice',\n",
       "  'value': 'te6ccuEBAQEAJABIAEOAB0/aC6ryLTJtbHsTbNMYzZZ3A71Zq4rfLOEBIYUKPM3wm/BsZg=='},\n",
       " {'type': 'cellSlice', 'value': 'te6ccuEBAQEAAwAGAAEgx7f2dg=='},\n",
       " 9999000000000,\n",
       " {'type': 'cellSlice',\n",
       "  'value': 'te6ccuEBAQEAJABIAEOAFHJrDD7ztes0J62jBcLIBCGAXzHHvjH7TpcetWKDV+MQHJgoPA=='},\n",
       " 499950000000,\n",
       " {'type': 'cellSlice',\n",
       "  'value': 'te6ccuEBAQEAJABIAEOAAaUb4zOZodmwcIanIcJB2qrALRBy+Cs6FbUhXRqYjMpwrjERzg=='},\n",
       " 499950000000]"
      ]
     },
     "execution_count": 38,
     "metadata": {},
     "output_type": "execute_result"
    },
    {
     "name": "stderr",
     "output_type": "stream",
     "text": [
      "a3ccde3048c096beb004} bits: 33..300; refs: 0..0} CS{Cell{019b31ab5e15400584ee61b2dff0837116d0fcb5078d93964bcbe9c05fd6a141b1bfca5d6a43e1880074fda0baaf22d326d6c7b136cd318cd967703bd59ab8adf2ce10121850a3ccde3048c096beb004} bits: 300..567; refs: 0..0} CS{Cell{019b31ab5e15400584ee61b2dff0837116d0fcb5078d93964bcbe9c05fd6a141b1bfca5d6a43e1880074fda0baaf22d326d6c7b136cd318cd967703bd59ab8adf2ce10121850a3ccde3048c096beb004} bits: 567..569; refs: 0..0} 9999000000000 CS{Cell{019b31ab5e15400584ee61b2dff0837116d0fcb5078d93964bcbe9c05fd6a141b1bfca5d6a43e1880074fda0baaf22d326d6c7b136cd318cd967703bd59ab8adf2ce10121850a3ccde3048c096beb004} bits: 621..621; refs: 0..1} ] \n",
      " [ 0 1666628650 CS{Cell{019b31ab5e15400584ee61b2dff0837116d0fcb5078d93964bcbe9c05fd6a141b1bfca5d6a43e1880074fda0baaf22d326d6c7b136cd318cd967703bd59ab8adf2ce10121850a3ccde3048c096beb004} bits: 33..300; refs: 0..0} CS{Cell{019b31ab5e15400584ee61b2dff0837116d0fcb5078d93964bcbe9c05fd6a141b1bfca5d6a43e1880074fda0baaf22d326d6c7b136cd318cd967703bd59ab8adf2ce10121850a3ccde3048c096beb004} bits: 300..567; refs: 0..0} CS{Cell{019b31ab5e15400584ee61b2dff0837116d0fcb5078d93964bcbe9c05fd6a141b1bfca5d6a43e1880074fda0baaf22d326d6c7b136cd318cd967703bd59ab8adf2ce10121850a3ccde3048c096beb004} bits: 567..569; refs: 0..0} 9999000000000 C{3C9F92A4B9361EFDD3949273BFE5FD7D7671463F4CD71CBD7D21988EAC352989} CS{Cell{019b31ab5e15400584ee61b2dff0837116d0fcb5078d93964bcbe9c05fd6a141b1bfca5d6a43e1880074fda0baaf22d326d6c7b136cd318cd967703bd59ab8adf2ce10121850a3ccde3048c096beb004} bits: 621..621; refs: 1..1} ] \n",
      " [ 0 1666628650 CS{Cell{019b31ab5e15400584ee61b2dff0837116d0fcb5078d93964bcbe9c05fd6a141b1bfca5d6a43e1880074fda0baaf22d326d6c7b136cd318cd967703bd59ab8adf2ce10121850a3ccde3048c096beb004} bits: 33..300; refs: 0..0} CS{Cell{019b31ab5e15400584ee61b2dff0837116d0fcb5078d93964bcbe9c05fd6a141b1bfca5d6a43e1880074fda0baaf22d326d6c7b136cd318cd967703bd59ab8adf2ce10121850a3ccde3048c096beb004} bits: 300..567; refs: 0..0} CS{Cell{019b31ab5e15400584ee61b2dff0837116d0fcb5078d93964bcbe9c05fd6a141b1bfca5d6a43e1880074fda0baaf22d326d6c7b136cd318cd967703bd59ab8adf2ce10121850a3ccde3048c096beb004} bits: 567..569; refs: 0..0} 9999000000000 C{3C9F92A4B9361EFDD3949273BFE5FD7D7671463F4CD71CBD7D21988EAC352989} ] \n",
      " [ 0 1666628650 CS{Cell{019b31ab5e15400584ee61b2dff0837116d0fcb5078d93964bcbe9c05fd6a141b1bfca5d6a43e1880074fda0baaf22d326d6c7b136cd318cd967703bd59ab8adf2ce10121850a3ccde3048c096beb004} bits: 33..300; refs: 0..0} CS{Cell{019b31ab5e15400584ee61b2dff0837116d0fcb5078d93964bcbe9c05fd6a141b1bfca5d6a43e1880074fda0baaf22d326d6c7b136cd318cd967703bd59ab8adf2ce10121850a3ccde3048c096beb004} bits: 300..567; refs: 0..0} CS{Cell{019b31ab5e15400584ee61b2dff0837116d0fcb5078d93964bcbe9c05fd6a141b1bfca5d6a43e1880074fda0baaf22d326d6c7b136cd318cd967703bd59ab8adf2ce10121850a3ccde3048c096beb004} bits: 567..569; refs: 0..0} 9999000000000 CS{Cell{009b8014726b0c3ef3b5eb3427ada305c2c80421805f31c7be31fb4e971eb5628357e30ae8ceaf2f0100034a37c6673343b360e10d4e438483b555805a20e5f056742b6a42ba35311994d5d19d5e5e02} bits: 0..622; refs: 0..0} ] \n",
      " [ 0 1666628650 CS{Cell{019b31ab5e15400584ee61b2dff0837116d0fcb5078d93964bcbe9c05fd6a141b1bfca5d6a43e1880074fda0baaf22d326d6c7b136cd318cd967703bd59ab8adf2ce10121850a3ccde3048c096beb004} bits: 33..300; refs: 0..0} CS{Cell{019b31ab5e15400584ee61b2dff0837116d0fcb5078d93964bcbe9c05fd6a141b1bfca5d6a43e1880074fda0baaf22d326d6c7b136cd318cd967703bd59ab8adf2ce10121850a3ccde3048c096beb004} bits: 300..567; refs: 0..0} CS{Cell{019b31ab5e15400584ee61b2dff0837116d0fcb5078d93964bcbe9c05fd6a141b1bfca5d6a43e1880074fda0baaf22d326d6c7b136cd318cd967703bd59ab8adf2ce10121850a3ccde3048c096beb004} bits: 567..569; refs: 0..0} 9999000000000 CS{Cell{009b8014726b0c3ef3b5eb3427ada305c2c80421805f31c7be31fb4e971eb5628357e30ae8ceaf2f0100034a37c6673343b360e10d4e438483b555805a20e5f056742b6a42ba35311994d5d19d5e5e02} bits: 0..267; refs: 0..0} CS{Cell{009b8014726b0c3ef3b5eb3427ada305c2c80421805f31c7be31fb4e971eb5628357e30ae8ceaf2f0100034a37c6673343b360e10d4e438483b555805a20e5f056742b6a42ba35311994d5d19d5e5e02} bits: 267..622; refs: 0..0} ] \n",
      " [ 0 1666628650 CS{Cell{019b31ab5e15400584ee61b2dff0837116d0fcb5078d93964bcbe9c05fd6a141b1bfca5d6a43e1880074fda0baaf22d326d6c7b136cd318cd967703bd59ab8adf2ce10121850a3ccde3048c096beb004} bits: 33..300; refs: 0..0} CS{Cell{019b31ab5e15400584ee61b2dff0837116d0fcb5078d93964bcbe9c05fd6a141b1bfca5d6a43e1880074fda0baaf22d326d6c7b136cd318cd967703bd59ab8adf2ce10121850a3ccde3048c096beb004} bits: 300..567; refs: 0..0} CS{Cell{019b31ab5e15400584ee61b2dff0837116d0fcb5078d93964bcbe9c05fd6a141b1bfca5d6a43e1880074fda0baaf22d326d6c7b136cd318cd967703bd59ab8adf2ce10121850a3ccde3048c096beb004} bits: 567..569; refs: 0..0} 9999000000000 CS{Cell{009b8014726b0c3ef3b5eb3427ada305c2c80421805f31c7be31fb4e971eb5628357e30ae8ceaf2f0100034a37c6673343b360e10d4e438483b555805a20e5f056742b6a42ba35311994d5d19d5e5e02} bits: 0..267; refs: 0..0} 499950000000 CS{Cell{009b8014726b0c3ef3b5eb3427ada305c2c80421805f31c7be31fb4e971eb5628357e30ae8ceaf2f0100034a37c6673343b360e10d4e438483b555805a20e5f056742b6a42ba35311994d5d19d5e5e02} bits: 311..622; refs: 0..0} ] \n",
      " [ 0 1666628650 CS{Cell{019b31ab5e15400584ee61b2dff0837116d0fcb5078d93964bcbe9c05fd6a141b1bfca5d6a43e1880074fda0baaf22d326d6c7b136cd318cd967703bd59ab8adf2ce10121850a3ccde3048c096beb004} bits: 33..300; refs: 0..0} CS{Cell{019b31ab5e15400584ee61b2dff0837116d0fcb5078d93964bcbe9c05fd6a141b1bfca5d6a43e1880074fda0baaf22d326d6c7b136cd318cd967703bd59ab8adf2ce10121850a3ccde3048c096beb004} bits: 300..567; refs: 0..0} CS{Cell{019b31ab5e15400584ee61b2dff0837116d0fcb5078d93964bcbe9c05fd6a141b1bfca5d6a43e1880074fda0baaf22d326d6c7b136cd318cd967703bd59ab8adf2ce10121850a3ccde3048c096beb004} bits: 567..569; refs: 0..0} 9999000000000 CS{Cell{009b8014726b0c3ef3b5eb3427ada305c2c80421805f31c7be31fb4e971eb5628357e30ae8ceaf2f0100034a37c6673343b360e10d4e438483b555805a20e5f056742b6a42ba35311994d5d19d5e5e02} bits: 0..267; refs: 0..0} 499950000000 CS{Cell{009b8014726b0c3ef3b5eb3427ada305c2c80421805f31c7be31fb4e971eb5628357e30ae8ceaf2f0100034a37c6673343b360e10d4e438483b555805a20e5f056742b6a42ba35311994d5d19d5e5e02} bits: 311..578; refs: 0..0} CS{Cell{009b8014726b0c3ef3b5eb3427ada305c2c80421805f31c7be31fb4e971eb5628357e30ae8ceaf2f0100034a37c6673343b360e10d4e438483b555805a20e5f056742b6a42ba35311994d5d19d5e5e02} bits: 578..622; refs: 0..0} ] \n",
      " [ 0 1666628650 CS{Cell{019b31ab5e15400584ee61b2dff0837116d0fcb5078d93964bcbe9c05fd6a141b1bfca5d6a43e1880074fda0baaf22d326d6c7b136cd318cd967703bd59ab8adf2ce10121850a3ccde3048c096beb004} bits: 33..300; refs: 0..0} CS{Cell{019b31ab5e15400584ee61b2dff0837116d0fcb5078d93964bcbe9c05fd6a141b1bfca5d6a43e1880074fda0baaf22d326d6c7b136cd318cd967703bd59ab8adf2ce10121850a3ccde3048c096beb004} bits: 300..567; refs: 0..0} CS{Cell{019b31ab5e15400584ee61b2dff0837116d0fcb5078d93964bcbe9c05fd6a141b1bfca5d6a43e1880074fda0baaf22d326d6c7b136cd318cd967703bd59ab8adf2ce10121850a3ccde3048c096beb004} bits: 567..569; refs: 0..0} 9999000000000 CS{Cell{009b8014726b0c3ef3b5eb3427ada305c2c80421805f31c7be31fb4e971eb5628357e30ae8ceaf2f0100034a37c6673343b360e10d4e438483b555805a20e5f056742b6a42ba35311994d5d19d5e5e02} bits: 0..267; refs: 0..0} 499950000000 CS{Cell{009b8014726b0c3ef3b5eb3427ada305c2c80421805f31c7be31fb4e971eb5628357e30ae8ceaf2f0100034a37c6673343b360e10d4e438483b555805a20e5f056742b6a42ba35311994d5d19d5e5e02} bits: 311..578; refs: 0..0} 499950000000 CS{Cell{009b8014726b0c3ef3b5eb3427ada305c2c80421805f31c7be31fb4e971eb5628357e30ae8ceaf2f0100034a37c6673343b360e10d4e438483b555805a20e5f056742b6a42ba35311994d5d19d5e5e02} bits: 622..622; refs: 0..0} ] \n",
      " [ 0 1666628650 CS{Cell{019b31ab5e15400584ee61b2dff0837116d0fcb5078d93964bcbe9c05fd6a141b1bfca5d6a43e1880074fda0baaf22d326d6c7b136cd318cd967703bd59ab8adf2ce10121850a3ccde3048c096beb004} bits: 33..300; refs: 0..0} CS{Cell{019b31ab5e15400584ee61b2dff0837116d0fcb5078d93964bcbe9c05fd6a141b1bfca5d6a43e1880074fda0baaf22d326d6c7b136cd318cd967703bd59ab8adf2ce10121850a3ccde3048c096beb004} bits: 300..567; refs: 0..0} CS{Cell{019b31ab5e15400584ee61b2dff0837116d0fcb5078d93964bcbe9c05fd6a141b1bfca5d6a43e1880074fda0baaf22d326d6c7b136cd318cd967703bd59ab8adf2ce10121850a3ccde3048c096beb004} bits: 567..569; refs: 0..0} 9999000000000 CS{Cell{009b8014726b0c3ef3b5eb3427ada305c2c80421805f31c7be31fb4e971eb5628357e30ae8ceaf2f0100034a37c6673343b360e10d4e438483b555805a20e5f056742b6a42ba35311994d5d19d5e5e02} bits: 0..267; refs: 0..0} 499950000000 CS{Cell{009b8014726b0c3ef3b5eb3427ada305c2c80421805f31c7be31fb4e971eb5628357e30ae8ceaf2f0100034a37c6673343b360e10d4e438483b555805a20e5f056742b6a42ba35311994d5d19d5e5e02} bits: 311..578; refs: 0..0} 499950000000 ] \n",
      " [ 0 1666628650 CS{Cell{019b31ab5e15400584ee61b2dff0837116d0fcb5078d93964bcbe9c05fd6a141b1bfca5d6a43e1880074fda0baaf22d326d6c7b136cd318cd967703bd59ab8adf2ce10121850a3ccde3048c096beb004} bits: 33..300; refs: 0..0} CS{Cell{019b31ab5e15400584ee61b2dff0837116d0fcb5078d93964bcbe9c05fd6a141b1bfca5d6a43e1880074fda0baaf22d326d6c7b136cd318cd967703bd59ab8adf2ce10121850a3ccde3048c096beb004} bits: 300..567; refs: 0..0} CS{Cell{019b31ab5e15400584ee61b2dff0837116d0fcb5078d93964bcbe9c05fd6a141b1bfca5d6a43e1880074fda0baaf22d326d6c7b136cd318cd967703bd59ab8adf2ce10121850a3ccde3048c096beb004} bits: 567..569; refs: 0..0} 9999000000000 CS{Cell{009b8014726b0c3ef3b5eb3427ada305c2c80421805f31c7be31fb4e971eb5628357e30ae8ceaf2f0100034a37c6673343b360e10d4e438483b555805a20e5f056742b6a42ba35311994d5d19d5e5e02} bits: 0..267; refs: 0..0} 499950000000 CS{Cell{009b8014726b0c3ef3b5eb3427ada305c2c80421805f31c7be31fb4e971eb5628357e30ae8ceaf2f0100034a37c6673343b360e10d4e438483b555805a20e5f056742b6a42ba35311994d5d19d5e5e02} bits: 311..578; refs: 0..0} 499950000000 1179211856 ] \n",
      " [ 1179211856 1666628650 CS{Cell{019b31ab5e15400584ee61b2dff0837116d0fcb5078d93964bcbe9c05fd6a141b1bfca5d6a43e1880074fda0baaf22d326d6c7b136cd318cd967703bd59ab8adf2ce10121850a3ccde3048c096beb004} bits: 33..300; refs: 0..0} CS{Cell{019b31ab5e15400584ee61b2dff0837116d0fcb5078d93964bcbe9c05fd6a141b1bfca5d6a43e1880074fda0baaf22d326d6c7b136cd318cd967703bd59ab8adf2ce10121850a3ccde3048c096beb004} bits: 300..567; refs: 0..0} CS{Cell{019b31ab5e15400584ee61b2dff0837116d0fcb5078d93964bcbe9c05fd6a141b1bfca5d6a43e1880074fda0baaf22d326d6c7b136cd318cd967703bd59ab8adf2ce10121850a3ccde3048c096beb004} bits: 567..569; refs: 0..0} 9999000000000 CS{Cell{009b8014726b0c3ef3b5eb3427ada305c2c80421805f31c7be31fb4e971eb5628357e30ae8ceaf2f0100034a37c6673343b360e10d4e438483b555805a20e5f056742b6a42ba35311994d5d19d5e5e02} bits: 0..267; refs: 0..0} 499950000000 CS{Cell{009b8014726b0c3ef3b5eb3427ada305c2c80421805f31c7be31fb4e971eb5628357e30ae8ceaf2f0100034a37c6673343b360e10d4e438483b555805a20e5f056742b6a42ba35311994d5d19d5e5e02} bits: 311..578; refs: 0..0} 499950000000 0 ] \n",
      " [ 1179211856 1666628650 CS{Cell{019b31ab5e15400584ee61b2dff0837116d0fcb5078d93964bcbe9c05fd6a141b1bfca5d6a43e1880074fda0baaf22d326d6c7b136cd318cd967703bd59ab8adf2ce10121850a3ccde3048c096beb004} bits: 33..300; refs: 0..0} CS{Cell{019b31ab5e15400584ee61b2dff0837116d0fcb5078d93964bcbe9c05fd6a141b1bfca5d6a43e1880074fda0baaf22d326d6c7b136cd318cd967703bd59ab8adf2ce10121850a3ccde3048c096beb004} bits: 300..567; refs: 0..0} CS{Cell{019b31ab5e15400584ee61b2dff0837116d0fcb5078d93964bcbe9c05fd6a141b1bfca5d6a43e1880074fda0baaf22d326d6c7b136cd318cd967703bd59ab8adf2ce10121850a3ccde3048c096beb004} bits: 567..569; refs: 0..0} 9999000000000 CS{Cell{009b8014726b0c3ef3b5eb3427ada305c2c80421805f31c7be31fb4e971eb5628357e30ae8ceaf2f0100034a37c6673343b360e10d4e438483b555805a20e5f056742b6a42ba35311994d5d19d5e5e02} bits: 0..267; refs: 0..0} 499950000000 CS{Cell{009b8014726b0c3ef3b5eb3427ada305c2c80421805f31c7be31fb4e971eb5628357e30ae8ceaf2f0100034a37c6673343b360e10d4e438483b555805a20e5f056742b6a42ba35311994d5d19d5e5e02} bits: 311..578; refs: 0..0} 499950000000 0 ] \n",
      " [ 1179211856 0 1666628650 CS{Cell{019b31ab5e15400584ee61b2dff0837116d0fcb5078d93964bcbe9c05fd6a141b1bfca5d6a43e1880074fda0baaf22d326d6c7b136cd318cd967703bd59ab8adf2ce10121850a3ccde3048c096beb004} bits: 33..300; refs: 0..0} CS{Cell{019b31ab5e15400584ee61b2dff0837116d0fcb5078d93964bcbe9c05fd6a141b1bfca5d6a43e1880074fda0baaf22d326d6c7b136cd318cd967703bd59ab8adf2ce10121850a3ccde3048c096beb004} bits: 300..567; refs: 0..0} CS{Cell{019b31ab5e15400584ee61b2dff0837116d0fcb5078d93964bcbe9c05fd6a141b1bfca5d6a43e1880074fda0baaf22d326d6c7b136cd318cd967703bd59ab8adf2ce10121850a3ccde3048c096beb004} bits: 567..569; refs: 0..0} 9999000000000 CS{Cell{009b8014726b0c3ef3b5eb3427ada305c2c80421805f31c7be31fb4e971eb5628357e30ae8ceaf2f0100034a37c6673343b360e10d4e438483b555805a20e5f056742b6a42ba35311994d5d19d5e5e02} bits: 0..267; refs: 0..0} 499950000000 CS{Cell{009b8014726b0c3ef3b5eb3427ada305c2c80421805f31c7be31fb4e971eb5628357e30ae8ceaf2f0100034a37c6673343b360e10d4e438483b555805a20e5f056742b6a42ba35311994d5d19d5e5e02} bits: 311..578; refs: 0..0} 499950000000 ] \n"
     ]
    }
   ],
   "source": [
    "tvm.run_vm() # this is seqno of this wallet :)"
   ]
  },
  {
   "cell_type": "markdown",
   "id": "f53944f1",
   "metadata": {},
   "source": [
    "## Method names"
   ]
  },
  {
   "cell_type": "code",
   "execution_count": 39,
   "id": "4cac323d",
   "metadata": {},
   "outputs": [],
   "source": [
    "smart_methods = {}\n",
    "\n",
    "for name in [\"dnsresolve\", \"get_jetton_data\", \"get_wallet_address\", \"get_collection_data\",\n",
    "             \"get_nft_address_by_index\", \"get_nft_data\", \"get_royalty_params\", \"hello_world\",\n",
    "             \"get_owner\", \"seqno\", \"get_public_key\", \"get_version\",\n",
    "             \"get_marketplace_address\", \"get_sale_data\", \"get_plugin_list\", \"is_plugin_installed\",\n",
    "             \"get_subwallet_id\", \"get_editor\", \"get_is_closed\", \n",
    "             'get_reveal_mode', 'get_reveal_data', \n",
    "             \n",
    "             'get_full_domain', 'get_username', 'get_auction_info', \n",
    "             'get_telemint_token_name', 'get_telemint_auction_state', \n",
    "             'get_telemint_auction_config', 'get_offer_data',\n",
    "            ]:\n",
    "\n",
    "    smart_methods[name] = method_name_to_id(name)"
   ]
  },
  {
   "cell_type": "code",
   "execution_count": 40,
   "id": "79b0df0f",
   "metadata": {},
   "outputs": [
    {
     "data": {
      "text/plain": [
       "{'dnsresolve': 123660,\n",
       " 'get_jetton_data': 106029,\n",
       " 'get_wallet_address': 103289,\n",
       " 'get_collection_data': 102491,\n",
       " 'get_nft_address_by_index': 92067,\n",
       " 'get_nft_data': 102351,\n",
       " 'get_royalty_params': 128411,\n",
       " 'hello_world': 113531,\n",
       " 'get_owner': 80293,\n",
       " 'seqno': 85143,\n",
       " 'get_public_key': 78748,\n",
       " 'get_version': 82320,\n",
       " 'get_marketplace_address': 91689,\n",
       " 'get_sale_data': 72748,\n",
       " 'get_plugin_list': 107653,\n",
       " 'is_plugin_installed': 76407,\n",
       " 'get_subwallet_id': 81467,\n",
       " 'get_editor': 90228,\n",
       " 'get_is_closed': 110449,\n",
       " 'get_reveal_mode': 116695,\n",
       " 'get_reveal_data': 93270,\n",
       " 'get_full_domain': 66763,\n",
       " 'get_username': 118054,\n",
       " 'get_auction_info': 80697,\n",
       " 'get_telemint_token_name': 69506,\n",
       " 'get_telemint_auction_state': 122498,\n",
       " 'get_telemint_auction_config': 129619,\n",
       " 'get_offer_data': 107279}"
      ]
     },
     "execution_count": 40,
     "metadata": {},
     "output_type": "execute_result"
    }
   ],
   "source": [
    "smart_methods"
   ]
  },
  {
   "cell_type": "markdown",
   "id": "2bc1091f",
   "metadata": {},
   "source": [
    "# Run transaction & stack step dump"
   ]
  },
  {
   "cell_type": "code",
   "execution_count": 43,
   "id": "6cfec527",
   "metadata": {},
   "outputs": [
    {
     "data": {
      "text/plain": [
       "[3503394350113822,\n",
       " 0,\n",
       " {'type': 'cell',\n",
       "  'value': 'te6ccuECAgEAALgAAOYBcAHfiAELXvHRoGvSQCL5tMqMK5vm46jIkBbFPCIaeKYhsLVmxAUv1tIPUGD5rk63+HQIldqZpKMW5papR2c6Je1YCY71+7WGOJg9/+Tmmk+6PG/8ACrE9tk+bE8f6fVUpmDc3uBZTU0YuxrwtygAAL4oHAEAhkIAQGoJHCCLPlTE1kiSIeZM0lzg1DrCKbIT/7fsLkkcrXSovBvI3AAAAAAAAAAAAAAAAAAAAAAAADE5MjY1MjUwNjX5zgaJ'}]"
      ]
     },
     "execution_count": 43,
     "metadata": {},
     "output_type": "execute_result"
    }
   ],
   "source": [
    "#%load_ext autoreload\n",
    "#%autoreload 2\n",
    "from tvm_python import PyTVM, method_name_to_id, code_disasseble\n",
    "import codecs\n",
    "from tvm_valuetypes import Cell, deserialize_boc\n",
    "from dateutil.parser import parse \n",
    "\n",
    "transaction = {\n",
    "        \"account_state_state_init_code\": \"te6ccuEBAQEAYgDEAMD/ACDdIIIBTJe6lzDtRNDXCx/gpPJggwjXGCDTH9Mf0x/4IxO78mPtRNDTH9Mf0//RUTK68qFRRLryogT5AVQQVfkQ8qP4AJMg10qW0wfUAvsA6NEBpMjLH8sfy//J7VRcWvJx\",\n",
    "        \"account_state_state_init_data\": \"te6ccuEBAQEAKgBUAFAAABfFKamjF1EWudQc3BYnnT5cgwKbbuOMnLoj2nddsBRI8MyLn7VbLd5twQ==\",\n",
    "        \"gen_utime\": \"2022-10-29 23:17:14\",\n",
    "        \"account_storage_balance_grams\": 3503394350113822,\n",
    "        \"in_msg_cell\": \"te6ccuECAgEAALgAAOYBcAHfiAELXvHRoGvSQCL5tMqMK5vm46jIkBbFPCIaeKYhsLVmxAUv1tIPUGD5rk63+HQIldqZpKMW5papR2c6Je1YCY71+7WGOJg9/+Tmmk+6PG/8ACrE9tk+bE8f6fVUpmDc3uBZTU0YuxrwtygAAL4oHAEAhkIAQGoJHCCLPlTE1kiSIeZM0lzg1DrCKbIT/7fsLkkcrXSovBvI3AAAAAAAAAAAAAAAAAAAAAAAADE5MjY1MjUwNjX5zgaJ\",\n",
    "        \"in_msg_body\": \"te6ccuECAgEAAJUAAKABKgGapfraQeoMHzXJ1v8OgRK7UzSUYtzS1Sjs50S9qwEx3r92sMcTB7/8nNNJ90eN/4AFWJ7bJ82J4/0+qpTMG5vcCympoxdjXhblAAAXxQMBAIZCAEBqCRwgiz5UxNZIkiHmTNJc4NQ6wimyE/+37C5JHK10qLwbyNwAAAAAAAAAAAAAAAAAAAAAAAAxOTI2NTI1MDY1lbIkmg==\",\n",
    "        \"in_msg_value_grams\": None,\n",
    "        \"in_msg_type\": \"ext_in_msg_info\",\n",
    "        \"in_msg_dest_addr_address_hex\": \"85AF78E8D035E920117CDA654615CDF371D464480B629E110D3C5310D85AB362\",\n",
    "        \"in_msg_dest_addr_workchain_id\": 0,\n",
    "        \"lt\": 32426921000001,\n",
    "        \"in_msg_created_lt\": None\n",
    "      }\n",
    "\n",
    "\n",
    "transaction['in_msg_cell'] = {'type': 'cell', 'value': transaction['in_msg_cell']}\n",
    "transaction['in_msg_body'] = {'type': 'cellSlice', 'value': transaction['in_msg_body']}\n",
    "\n",
    "tvm = PyTVM(code=transaction['account_state_state_init_code'], \n",
    "            data=transaction['account_state_state_init_data'])\n",
    "\n",
    "tvm.set_c7(unixtime=int(parse(transaction['gen_utime']).timestamp()), \n",
    "           translt=str(int(transaction['lt'])), \n",
    "           balanceGrams=str(int(transaction['account_storage_balance_grams'])),\n",
    "           address=str(transaction['in_msg_dest_addr_workchain_id']) + ':' + transaction['in_msg_dest_addr_address_hex'])\n",
    "\n",
    "tvm.set_stack([\n",
    "    str(int(transaction['account_storage_balance_grams'])),\n",
    "    str(int(transaction['in_msg_value_grams'] if transaction['in_msg_value_grams'] else 0)),\n",
    "    transaction['in_msg_cell'],\n",
    "    transaction['in_msg_body'],\n",
    "    -1 if 'ext' in transaction['in_msg_type'] else 0\n",
    "])\n",
    "\n",
    "tvm.run_vm()\n"
   ]
  },
  {
   "cell_type": "code",
   "execution_count": 44,
   "id": "88c4bf63",
   "metadata": {
    "scrolled": true
   },
   "outputs": [
    {
     "data": {
      "text/plain": [
       "['SETCP 0',\n",
       " 'DUP',\n",
       " 'IFNOTRET',\n",
       " 'DUP',\n",
       " 'PUSHINT 85143',\n",
       " 'EQUAL',\n",
       " 'PUSHCONT x30ED44D0D70B1F',\n",
       " 'IFJMP',\n",
       " 'INC',\n",
       " 'THROWIF 32',\n",
       " 'PUSHPOW2 9',\n",
       " 'LDSLICEX',\n",
       " 'DUP',\n",
       " 'LDU 32',\n",
       " 'LDU 32',\n",
       " 'LDU 32',\n",
       " 'NOW',\n",
       " 'XCHG s1,s3',\n",
       " 'LEQ',\n",
       " 'THROWIF 35',\n",
       " 'PUSH c4',\n",
       " 'CTOS',\n",
       " 'LDU 32',\n",
       " 'LDU 32',\n",
       " 'LDU 256',\n",
       " 'ENDS',\n",
       " 'XCPU s3,s2',\n",
       " 'EQUAL',\n",
       " 'THROWIFNOT 33',\n",
       " 'XCPU s4,s4',\n",
       " 'EQUAL',\n",
       " 'THROWIFNOT 34',\n",
       " 'XCHG s4',\n",
       " 'HASHSU',\n",
       " 'XC2PU s0,s5,s5',\n",
       " 'CHKSIGNU',\n",
       " 'THROWIFNOT 35',\n",
       " 'ACCEPT',\n",
       " 'PUSHCONT x20D74A',\n",
       " 'PUSHCONT xD307D402FB00',\n",
       " 'WHILE',\n",
       " 'DUP',\n",
       " 'SREFS',\n",
       " 'implicit RET',\n",
       " 'LDU 8',\n",
       " 'LDREF',\n",
       " 'XCHG s2',\n",
       " 'SENDRAWMSG',\n",
       " 'implicit RET',\n",
       " 'DUP',\n",
       " 'SREFS',\n",
       " 'implicit RET',\n",
       " 'ENDS',\n",
       " 'SWAP',\n",
       " 'INC',\n",
       " 'NEWC',\n",
       " 'STU 32',\n",
       " 'STU 32',\n",
       " 'STU 256',\n",
       " 'ENDC',\n",
       " 'POP c4',\n",
       " 'implicit RET']"
      ]
     },
     "execution_count": 44,
     "metadata": {},
     "output_type": "execute_result"
    }
   ],
   "source": [
    "list(map(fix_op, tvm.get_ops()))"
   ]
  },
  {
   "cell_type": "code",
   "execution_count": 45,
   "id": "dc656884",
   "metadata": {},
   "outputs": [
    {
     "data": {
      "text/plain": [
       "[[3503394350113822,\n",
       "  0,\n",
       "  {'type': 'cell',\n",
       "   'value': 'te6ccuECAgEAALgAAOYBcAHfiAELXvHRoGvSQCL5tMqMK5vm46jIkBbFPCIaeKYhsLVmxAUv1tIPUGD5rk63+HQIldqZpKMW5papR2c6Je1YCY71+7WGOJg9/+Tmmk+6PG/8ACrE9tk+bE8f6fVUpmDc3uBZTU0YuxrwtygAAL4oHAEAhkIAQGoJHCCLPlTE1kiSIeZM0lzg1DrCKbIT/7fsLkkcrXSovBvI3AAAAAAAAAAAAAAAAAAAAAAAADE5MjY1MjUwNjX5zgaJ'},\n",
       "  {'type': 'cellSlice',\n",
       "   'value': 'te6ccuECAgEAAJUAAKABKgGapfraQeoMHzXJ1v8OgRK7UzSUYtzS1Sjs50S9qwEx3r92sMcTB7/8nNNJ90eN/4AFWJ7bJ82J4/0+qpTMG5vcCympoxdjXhblAAAXxQMBAIZCAEBqCRwgiz5UxNZIkiHmTNJc4NQ6wimyE/+37C5JHK10qLwbyNwAAAAAAAAAAAAAAAAAAAAAAAAxOTI2NTI1MDY1lbIkmg=='},\n",
       "  -1],\n",
       " [3503394350113822,\n",
       "  0,\n",
       "  {'type': 'cell',\n",
       "   'value': 'te6ccuECAgEAALgAAOYBcAHfiAELXvHRoGvSQCL5tMqMK5vm46jIkBbFPCIaeKYhsLVmxAUv1tIPUGD5rk63+HQIldqZpKMW5papR2c6Je1YCY71+7WGOJg9/+Tmmk+6PG/8ACrE9tk+bE8f6fVUpmDc3uBZTU0YuxrwtygAAL4oHAEAhkIAQGoJHCCLPlTE1kiSIeZM0lzg1DrCKbIT/7fsLkkcrXSovBvI3AAAAAAAAAAAAAAAAAAAAAAAADE5MjY1MjUwNjX5zgaJ'},\n",
       "  {'type': 'cellSlice',\n",
       "   'value': 'te6ccuECAgEAAJUAAKABKgGapfraQeoMHzXJ1v8OgRK7UzSUYtzS1Sjs50S9qwEx3r92sMcTB7/8nNNJ90eN/4AFWJ7bJ82J4/0+qpTMG5vcCympoxdjXhblAAAXxQMBAIZCAEBqCRwgiz5UxNZIkiHmTNJc4NQ6wimyE/+37C5JHK10qLwbyNwAAAAAAAAAAAAAAAAAAAAAAAAxOTI2NTI1MDY1lbIkmg=='},\n",
       "  -1],\n",
       " [3503394350113822,\n",
       "  0,\n",
       "  {'type': 'cell',\n",
       "   'value': 'te6ccuECAgEAALgAAOYBcAHfiAELXvHRoGvSQCL5tMqMK5vm46jIkBbFPCIaeKYhsLVmxAUv1tIPUGD5rk63+HQIldqZpKMW5papR2c6Je1YCY71+7WGOJg9/+Tmmk+6PG/8ACrE9tk+bE8f6fVUpmDc3uBZTU0YuxrwtygAAL4oHAEAhkIAQGoJHCCLPlTE1kiSIeZM0lzg1DrCKbIT/7fsLkkcrXSovBvI3AAAAAAAAAAAAAAAAAAAAAAAADE5MjY1MjUwNjX5zgaJ'},\n",
       "  {'type': 'cellSlice',\n",
       "   'value': 'te6ccuECAgEAAJUAAKABKgGapfraQeoMHzXJ1v8OgRK7UzSUYtzS1Sjs50S9qwEx3r92sMcTB7/8nNNJ90eN/4AFWJ7bJ82J4/0+qpTMG5vcCympoxdjXhblAAAXxQMBAIZCAEBqCRwgiz5UxNZIkiHmTNJc4NQ6wimyE/+37C5JHK10qLwbyNwAAAAAAAAAAAAAAAAAAAAAAAAxOTI2NTI1MDY1lbIkmg=='},\n",
       "  -1,\n",
       "  -1],\n",
       " [3503394350113822,\n",
       "  0,\n",
       "  {'type': 'cell',\n",
       "   'value': 'te6ccuECAgEAALgAAOYBcAHfiAELXvHRoGvSQCL5tMqMK5vm46jIkBbFPCIaeKYhsLVmxAUv1tIPUGD5rk63+HQIldqZpKMW5papR2c6Je1YCY71+7WGOJg9/+Tmmk+6PG/8ACrE9tk+bE8f6fVUpmDc3uBZTU0YuxrwtygAAL4oHAEAhkIAQGoJHCCLPlTE1kiSIeZM0lzg1DrCKbIT/7fsLkkcrXSovBvI3AAAAAAAAAAAAAAAAAAAAAAAADE5MjY1MjUwNjX5zgaJ'},\n",
       "  {'type': 'cellSlice',\n",
       "   'value': 'te6ccuECAgEAAJUAAKABKgGapfraQeoMHzXJ1v8OgRK7UzSUYtzS1Sjs50S9qwEx3r92sMcTB7/8nNNJ90eN/4AFWJ7bJ82J4/0+qpTMG5vcCympoxdjXhblAAAXxQMBAIZCAEBqCRwgiz5UxNZIkiHmTNJc4NQ6wimyE/+37C5JHK10qLwbyNwAAAAAAAAAAAAAAAAAAAAAAAAxOTI2NTI1MDY1lbIkmg=='},\n",
       "  -1],\n",
       " [3503394350113822,\n",
       "  0,\n",
       "  {'type': 'cell',\n",
       "   'value': 'te6ccuECAgEAALgAAOYBcAHfiAELXvHRoGvSQCL5tMqMK5vm46jIkBbFPCIaeKYhsLVmxAUv1tIPUGD5rk63+HQIldqZpKMW5papR2c6Je1YCY71+7WGOJg9/+Tmmk+6PG/8ACrE9tk+bE8f6fVUpmDc3uBZTU0YuxrwtygAAL4oHAEAhkIAQGoJHCCLPlTE1kiSIeZM0lzg1DrCKbIT/7fsLkkcrXSovBvI3AAAAAAAAAAAAAAAAAAAAAAAADE5MjY1MjUwNjX5zgaJ'},\n",
       "  {'type': 'cellSlice',\n",
       "   'value': 'te6ccuECAgEAAJUAAKABKgGapfraQeoMHzXJ1v8OgRK7UzSUYtzS1Sjs50S9qwEx3r92sMcTB7/8nNNJ90eN/4AFWJ7bJ82J4/0+qpTMG5vcCympoxdjXhblAAAXxQMBAIZCAEBqCRwgiz5UxNZIkiHmTNJc4NQ6wimyE/+37C5JHK10qLwbyNwAAAAAAAAAAAAAAAAAAAAAAAAxOTI2NTI1MDY1lbIkmg=='},\n",
       "  -1,\n",
       "  -1],\n",
       " [3503394350113822,\n",
       "  0,\n",
       "  {'type': 'cell',\n",
       "   'value': 'te6ccuECAgEAALgAAOYBcAHfiAELXvHRoGvSQCL5tMqMK5vm46jIkBbFPCIaeKYhsLVmxAUv1tIPUGD5rk63+HQIldqZpKMW5papR2c6Je1YCY71+7WGOJg9/+Tmmk+6PG/8ACrE9tk+bE8f6fVUpmDc3uBZTU0YuxrwtygAAL4oHAEAhkIAQGoJHCCLPlTE1kiSIeZM0lzg1DrCKbIT/7fsLkkcrXSovBvI3AAAAAAAAAAAAAAAAAAAAAAAADE5MjY1MjUwNjX5zgaJ'},\n",
       "  {'type': 'cellSlice',\n",
       "   'value': 'te6ccuECAgEAAJUAAKABKgGapfraQeoMHzXJ1v8OgRK7UzSUYtzS1Sjs50S9qwEx3r92sMcTB7/8nNNJ90eN/4AFWJ7bJ82J4/0+qpTMG5vcCympoxdjXhblAAAXxQMBAIZCAEBqCRwgiz5UxNZIkiHmTNJc4NQ6wimyE/+37C5JHK10qLwbyNwAAAAAAAAAAAAAAAAAAAAAAAAxOTI2NTI1MDY1lbIkmg=='},\n",
       "  -1,\n",
       "  -1,\n",
       "  85143],\n",
       " [3503394350113822,\n",
       "  0,\n",
       "  {'type': 'cell',\n",
       "   'value': 'te6ccuECAgEAALgAAOYBcAHfiAELXvHRoGvSQCL5tMqMK5vm46jIkBbFPCIaeKYhsLVmxAUv1tIPUGD5rk63+HQIldqZpKMW5papR2c6Je1YCY71+7WGOJg9/+Tmmk+6PG/8ACrE9tk+bE8f6fVUpmDc3uBZTU0YuxrwtygAAL4oHAEAhkIAQGoJHCCLPlTE1kiSIeZM0lzg1DrCKbIT/7fsLkkcrXSovBvI3AAAAAAAAAAAAAAAAAAAAAAAADE5MjY1MjUwNjX5zgaJ'},\n",
       "  {'type': 'cellSlice',\n",
       "   'value': 'te6ccuECAgEAAJUAAKABKgGapfraQeoMHzXJ1v8OgRK7UzSUYtzS1Sjs50S9qwEx3r92sMcTB7/8nNNJ90eN/4AFWJ7bJ82J4/0+qpTMG5vcCympoxdjXhblAAAXxQMBAIZCAEBqCRwgiz5UxNZIkiHmTNJc4NQ6wimyE/+37C5JHK10qLwbyNwAAAAAAAAAAAAAAAAAAAAAAAAxOTI2NTI1MDY1lbIkmg=='},\n",
       "  -1,\n",
       "  0],\n",
       " [3503394350113822,\n",
       "  0,\n",
       "  {'type': 'cell',\n",
       "   'value': 'te6ccuECAgEAALgAAOYBcAHfiAELXvHRoGvSQCL5tMqMK5vm46jIkBbFPCIaeKYhsLVmxAUv1tIPUGD5rk63+HQIldqZpKMW5papR2c6Je1YCY71+7WGOJg9/+Tmmk+6PG/8ACrE9tk+bE8f6fVUpmDc3uBZTU0YuxrwtygAAL4oHAEAhkIAQGoJHCCLPlTE1kiSIeZM0lzg1DrCKbIT/7fsLkkcrXSovBvI3AAAAAAAAAAAAAAAAAAAAAAAADE5MjY1MjUwNjX5zgaJ'},\n",
       "  {'type': 'cellSlice',\n",
       "   'value': 'te6ccuECAgEAAJUAAKABKgGapfraQeoMHzXJ1v8OgRK7UzSUYtzS1Sjs50S9qwEx3r92sMcTB7/8nNNJ90eN/4AFWJ7bJ82J4/0+qpTMG5vcCympoxdjXhblAAAXxQMBAIZCAEBqCRwgiz5UxNZIkiHmTNJc4NQ6wimyE/+37C5JHK10qLwbyNwAAAAAAAAAAAAAAAAAAAAAAAAxOTI2NTI1MDY1lbIkmg=='},\n",
       "  -1,\n",
       "  0,\n",
       "  {'type': 'continuation',\n",
       "   'value': 'te6ccuEBAgEAawAS1gEMBAAAWCQAAQDA/wAg3SCCAUyXupcw7UTQ1wsf4KTyYIMI1xgg0x/TH9Mf+CMTu/Jj7UTQ0x/TH9P/0VEyuvKhUUS68qIE+QFUEFX5EPKj+ACTINdKltMH1AL7AOjRAaTIyx/LH8v/ye1Ua6WAPg=='}],\n",
       " [3503394350113822,\n",
       "  0,\n",
       "  {'type': 'cell',\n",
       "   'value': 'te6ccuECAgEAALgAAOYBcAHfiAELXvHRoGvSQCL5tMqMK5vm46jIkBbFPCIaeKYhsLVmxAUv1tIPUGD5rk63+HQIldqZpKMW5papR2c6Je1YCY71+7WGOJg9/+Tmmk+6PG/8ACrE9tk+bE8f6fVUpmDc3uBZTU0YuxrwtygAAL4oHAEAhkIAQGoJHCCLPlTE1kiSIeZM0lzg1DrCKbIT/7fsLkkcrXSovBvI3AAAAAAAAAAAAAAAAAAAAAAAADE5MjY1MjUwNjX5zgaJ'},\n",
       "  {'type': 'cellSlice',\n",
       "   'value': 'te6ccuECAgEAAJUAAKABKgGapfraQeoMHzXJ1v8OgRK7UzSUYtzS1Sjs50S9qwEx3r92sMcTB7/8nNNJ90eN/4AFWJ7bJ82J4/0+qpTMG5vcCympoxdjXhblAAAXxQMBAIZCAEBqCRwgiz5UxNZIkiHmTNJc4NQ6wimyE/+37C5JHK10qLwbyNwAAAAAAAAAAAAAAAAAAAAAAAAxOTI2NTI1MDY1lbIkmg=='},\n",
       "  -1],\n",
       " [3503394350113822,\n",
       "  0,\n",
       "  {'type': 'cell',\n",
       "   'value': 'te6ccuECAgEAALgAAOYBcAHfiAELXvHRoGvSQCL5tMqMK5vm46jIkBbFPCIaeKYhsLVmxAUv1tIPUGD5rk63+HQIldqZpKMW5papR2c6Je1YCY71+7WGOJg9/+Tmmk+6PG/8ACrE9tk+bE8f6fVUpmDc3uBZTU0YuxrwtygAAL4oHAEAhkIAQGoJHCCLPlTE1kiSIeZM0lzg1DrCKbIT/7fsLkkcrXSovBvI3AAAAAAAAAAAAAAAAAAAAAAAADE5MjY1MjUwNjX5zgaJ'},\n",
       "  {'type': 'cellSlice',\n",
       "   'value': 'te6ccuECAgEAAJUAAKABKgGapfraQeoMHzXJ1v8OgRK7UzSUYtzS1Sjs50S9qwEx3r92sMcTB7/8nNNJ90eN/4AFWJ7bJ82J4/0+qpTMG5vcCympoxdjXhblAAAXxQMBAIZCAEBqCRwgiz5UxNZIkiHmTNJc4NQ6wimyE/+37C5JHK10qLwbyNwAAAAAAAAAAAAAAAAAAAAAAAAxOTI2NTI1MDY1lbIkmg=='},\n",
       "  0],\n",
       " [3503394350113822,\n",
       "  0,\n",
       "  {'type': 'cell',\n",
       "   'value': 'te6ccuECAgEAALgAAOYBcAHfiAELXvHRoGvSQCL5tMqMK5vm46jIkBbFPCIaeKYhsLVmxAUv1tIPUGD5rk63+HQIldqZpKMW5papR2c6Je1YCY71+7WGOJg9/+Tmmk+6PG/8ACrE9tk+bE8f6fVUpmDc3uBZTU0YuxrwtygAAL4oHAEAhkIAQGoJHCCLPlTE1kiSIeZM0lzg1DrCKbIT/7fsLkkcrXSovBvI3AAAAAAAAAAAAAAAAAAAAAAAADE5MjY1MjUwNjX5zgaJ'},\n",
       "  {'type': 'cellSlice',\n",
       "   'value': 'te6ccuECAgEAAJUAAKABKgGapfraQeoMHzXJ1v8OgRK7UzSUYtzS1Sjs50S9qwEx3r92sMcTB7/8nNNJ90eN/4AFWJ7bJ82J4/0+qpTMG5vcCympoxdjXhblAAAXxQMBAIZCAEBqCRwgiz5UxNZIkiHmTNJc4NQ6wimyE/+37C5JHK10qLwbyNwAAAAAAAAAAAAAAAAAAAAAAAAxOTI2NTI1MDY1lbIkmg=='}],\n",
       " [3503394350113822,\n",
       "  0,\n",
       "  {'type': 'cell',\n",
       "   'value': 'te6ccuECAgEAALgAAOYBcAHfiAELXvHRoGvSQCL5tMqMK5vm46jIkBbFPCIaeKYhsLVmxAUv1tIPUGD5rk63+HQIldqZpKMW5papR2c6Je1YCY71+7WGOJg9/+Tmmk+6PG/8ACrE9tk+bE8f6fVUpmDc3uBZTU0YuxrwtygAAL4oHAEAhkIAQGoJHCCLPlTE1kiSIeZM0lzg1DrCKbIT/7fsLkkcrXSovBvI3AAAAAAAAAAAAAAAAAAAAAAAADE5MjY1MjUwNjX5zgaJ'},\n",
       "  {'type': 'cellSlice',\n",
       "   'value': 'te6ccuECAgEAAJUAAKABKgGapfraQeoMHzXJ1v8OgRK7UzSUYtzS1Sjs50S9qwEx3r92sMcTB7/8nNNJ90eN/4AFWJ7bJ82J4/0+qpTMG5vcCympoxdjXhblAAAXxQMBAIZCAEBqCRwgiz5UxNZIkiHmTNJc4NQ6wimyE/+37C5JHK10qLwbyNwAAAAAAAAAAAAAAAAAAAAAAAAxOTI2NTI1MDY1lbIkmg=='},\n",
       "  512],\n",
       " [3503394350113822,\n",
       "  0,\n",
       "  {'type': 'cell',\n",
       "   'value': 'te6ccuECAgEAALgAAOYBcAHfiAELXvHRoGvSQCL5tMqMK5vm46jIkBbFPCIaeKYhsLVmxAUv1tIPUGD5rk63+HQIldqZpKMW5papR2c6Je1YCY71+7WGOJg9/+Tmmk+6PG/8ACrE9tk+bE8f6fVUpmDc3uBZTU0YuxrwtygAAL4oHAEAhkIAQGoJHCCLPlTE1kiSIeZM0lzg1DrCKbIT/7fsLkkcrXSovBvI3AAAAAAAAAAAAAAAAAAAAAAAADE5MjY1MjUwNjX5zgaJ'},\n",
       "  {'type': 'cellSlice',\n",
       "   'value': 'te6ccuEBAQEAQgCEAICl+tpB6gwfNcnW/w6BErtTNJRi3NLVKOznRL2rATHev3awxxMHv/yc00n3R43/gAVYntsnzYnj/T6qlMwbm9wLMJCX4g=='},\n",
       "  {'type': 'cellSlice',\n",
       "   'value': 'te6ccuEBAgEAVQAgqgEaKamjF2NeFuUAABfFAwEAhkIAQGoJHCCLPlTE1kiSIeZM0lzg1DrCKbIT/7fsLkkcrXSovBvI3AAAAAAAAAAAAAAAAAAAAAAAADE5MjY1MjUwNjUNNlL8'}],\n",
       " [3503394350113822,\n",
       "  0,\n",
       "  {'type': 'cell',\n",
       "   'value': 'te6ccuECAgEAALgAAOYBcAHfiAELXvHRoGvSQCL5tMqMK5vm46jIkBbFPCIaeKYhsLVmxAUv1tIPUGD5rk63+HQIldqZpKMW5papR2c6Je1YCY71+7WGOJg9/+Tmmk+6PG/8ACrE9tk+bE8f6fVUpmDc3uBZTU0YuxrwtygAAL4oHAEAhkIAQGoJHCCLPlTE1kiSIeZM0lzg1DrCKbIT/7fsLkkcrXSovBvI3AAAAAAAAAAAAAAAAAAAAAAAADE5MjY1MjUwNjX5zgaJ'},\n",
       "  {'type': 'cellSlice',\n",
       "   'value': 'te6ccuEBAQEAQgCEAICl+tpB6gwfNcnW/w6BErtTNJRi3NLVKOznRL2rATHev3awxxMHv/yc00n3R43/gAVYntsnzYnj/T6qlMwbm9wLMJCX4g=='},\n",
       "  {'type': 'cellSlice',\n",
       "   'value': 'te6ccuEBAgEAVQAgqgEaKamjF2NeFuUAABfFAwEAhkIAQGoJHCCLPlTE1kiSIeZM0lzg1DrCKbIT/7fsLkkcrXSovBvI3AAAAAAAAAAAAAAAAAAAAAAAADE5MjY1MjUwNjUNNlL8'},\n",
       "  {'type': 'cellSlice',\n",
       "   'value': 'te6ccuEBAgEAVQAgqgEaKamjF2NeFuUAABfFAwEAhkIAQGoJHCCLPlTE1kiSIeZM0lzg1DrCKbIT/7fsLkkcrXSovBvI3AAAAAAAAAAAAAAAAAAAAAAAADE5MjY1MjUwNjUNNlL8'}],\n",
       " [3503394350113822,\n",
       "  0,\n",
       "  {'type': 'cell',\n",
       "   'value': 'te6ccuECAgEAALgAAOYBcAHfiAELXvHRoGvSQCL5tMqMK5vm46jIkBbFPCIaeKYhsLVmxAUv1tIPUGD5rk63+HQIldqZpKMW5papR2c6Je1YCY71+7WGOJg9/+Tmmk+6PG/8ACrE9tk+bE8f6fVUpmDc3uBZTU0YuxrwtygAAL4oHAEAhkIAQGoJHCCLPlTE1kiSIeZM0lzg1DrCKbIT/7fsLkkcrXSovBvI3AAAAAAAAAAAAAAAAAAAAAAAADE5MjY1MjUwNjX5zgaJ'},\n",
       "  {'type': 'cellSlice',\n",
       "   'value': 'te6ccuEBAQEAQgCEAICl+tpB6gwfNcnW/w6BErtTNJRi3NLVKOznRL2rATHev3awxxMHv/yc00n3R43/gAVYntsnzYnj/T6qlMwbm9wLMJCX4g=='},\n",
       "  {'type': 'cellSlice',\n",
       "   'value': 'te6ccuEBAgEAVQAgqgEaKamjF2NeFuUAABfFAwEAhkIAQGoJHCCLPlTE1kiSIeZM0lzg1DrCKbIT/7fsLkkcrXSovBvI3AAAAAAAAAAAAAAAAAAAAAAAADE5MjY1MjUwNjUNNlL8'},\n",
       "  698983191,\n",
       "  {'type': 'cellSlice',\n",
       "   'value': 'te6ccuEBAgEAUQAYogESY14W5QAAF8UDAQCGQgBAagkcIIs+VMTWSJIh5kzSXODUOsIpshP/t+wuSRytdKi8G8jcAAAAAAAAAAAAAAAAAAAAAAAAMTkyNjUyNTA2NfhIAxs='}],\n",
       " [3503394350113822,\n",
       "  0,\n",
       "  {'type': 'cell',\n",
       "   'value': 'te6ccuECAgEAALgAAOYBcAHfiAELXvHRoGvSQCL5tMqMK5vm46jIkBbFPCIaeKYhsLVmxAUv1tIPUGD5rk63+HQIldqZpKMW5papR2c6Je1YCY71+7WGOJg9/+Tmmk+6PG/8ACrE9tk+bE8f6fVUpmDc3uBZTU0YuxrwtygAAL4oHAEAhkIAQGoJHCCLPlTE1kiSIeZM0lzg1DrCKbIT/7fsLkkcrXSovBvI3AAAAAAAAAAAAAAAAAAAAAAAADE5MjY1MjUwNjX5zgaJ'},\n",
       "  {'type': 'cellSlice',\n",
       "   'value': 'te6ccuEBAQEAQgCEAICl+tpB6gwfNcnW/w6BErtTNJRi3NLVKOznRL2rATHev3awxxMHv/yc00n3R43/gAVYntsnzYnj/T6qlMwbm9wLMJCX4g=='},\n",
       "  {'type': 'cellSlice',\n",
       "   'value': 'te6ccuEBAgEAVQAgqgEaKamjF2NeFuUAABfFAwEAhkIAQGoJHCCLPlTE1kiSIeZM0lzg1DrCKbIT/7fsLkkcrXSovBvI3AAAAAAAAAAAAAAAAAAAAAAAADE5MjY1MjUwNjUNNlL8'},\n",
       "  698983191,\n",
       "  1667110629,\n",
       "  {'type': 'cellSlice',\n",
       "   'value': 'te6ccuEBAgEATQAQmgEKAAAXxQMBAIZCAEBqCRwgiz5UxNZIkiHmTNJc4NQ6wimyE/+37C5JHK10qLwbyNwAAAAAAAAAAAAAAAAAAAAAAAAxOTI2NTI1MDY1WLBV9w=='}],\n",
       " [3503394350113822,\n",
       "  0,\n",
       "  {'type': 'cell',\n",
       "   'value': 'te6ccuECAgEAALgAAOYBcAHfiAELXvHRoGvSQCL5tMqMK5vm46jIkBbFPCIaeKYhsLVmxAUv1tIPUGD5rk63+HQIldqZpKMW5papR2c6Je1YCY71+7WGOJg9/+Tmmk+6PG/8ACrE9tk+bE8f6fVUpmDc3uBZTU0YuxrwtygAAL4oHAEAhkIAQGoJHCCLPlTE1kiSIeZM0lzg1DrCKbIT/7fsLkkcrXSovBvI3AAAAAAAAAAAAAAAAAAAAAAAADE5MjY1MjUwNjX5zgaJ'},\n",
       "  {'type': 'cellSlice',\n",
       "   'value': 'te6ccuEBAQEAQgCEAICl+tpB6gwfNcnW/w6BErtTNJRi3NLVKOznRL2rATHev3awxxMHv/yc00n3R43/gAVYntsnzYnj/T6qlMwbm9wLMJCX4g=='},\n",
       "  {'type': 'cellSlice',\n",
       "   'value': 'te6ccuEBAgEAVQAgqgEaKamjF2NeFuUAABfFAwEAhkIAQGoJHCCLPlTE1kiSIeZM0lzg1DrCKbIT/7fsLkkcrXSovBvI3AAAAAAAAAAAAAAAAAAAAAAAADE5MjY1MjUwNjUNNlL8'},\n",
       "  698983191,\n",
       "  1667110629,\n",
       "  6085,\n",
       "  {'type': 'cellSlice',\n",
       "   'value': 'te6ccuEBAgEASQAIkgECAwEAhkIAQGoJHCCLPlTE1kiSIeZM0lzg1DrCKbIT/7fsLkkcrXSovBvI3AAAAAAAAAAAAAAAAAAAAAAAADE5MjY1MjUwNjWbXFVt'}],\n",
       " [3503394350113822,\n",
       "  0,\n",
       "  {'type': 'cell',\n",
       "   'value': 'te6ccuECAgEAALgAAOYBcAHfiAELXvHRoGvSQCL5tMqMK5vm46jIkBbFPCIaeKYhsLVmxAUv1tIPUGD5rk63+HQIldqZpKMW5papR2c6Je1YCY71+7WGOJg9/+Tmmk+6PG/8ACrE9tk+bE8f6fVUpmDc3uBZTU0YuxrwtygAAL4oHAEAhkIAQGoJHCCLPlTE1kiSIeZM0lzg1DrCKbIT/7fsLkkcrXSovBvI3AAAAAAAAAAAAAAAAAAAAAAAADE5MjY1MjUwNjX5zgaJ'},\n",
       "  {'type': 'cellSlice',\n",
       "   'value': 'te6ccuEBAQEAQgCEAICl+tpB6gwfNcnW/w6BErtTNJRi3NLVKOznRL2rATHev3awxxMHv/yc00n3R43/gAVYntsnzYnj/T6qlMwbm9wLMJCX4g=='},\n",
       "  {'type': 'cellSlice',\n",
       "   'value': 'te6ccuEBAgEAVQAgqgEaKamjF2NeFuUAABfFAwEAhkIAQGoJHCCLPlTE1kiSIeZM0lzg1DrCKbIT/7fsLkkcrXSovBvI3AAAAAAAAAAAAAAAAAAAAAAAADE5MjY1MjUwNjUNNlL8'},\n",
       "  698983191,\n",
       "  1667110629,\n",
       "  6085,\n",
       "  {'type': 'cellSlice',\n",
       "   'value': 'te6ccuEBAgEASQAIkgECAwEAhkIAQGoJHCCLPlTE1kiSIeZM0lzg1DrCKbIT/7fsLkkcrXSovBvI3AAAAAAAAAAAAAAAAAAAAAAAADE5MjY1MjUwNjWbXFVt'},\n",
       "  1667063834],\n",
       " [3503394350113822,\n",
       "  0,\n",
       "  {'type': 'cell',\n",
       "   'value': 'te6ccuECAgEAALgAAOYBcAHfiAELXvHRoGvSQCL5tMqMK5vm46jIkBbFPCIaeKYhsLVmxAUv1tIPUGD5rk63+HQIldqZpKMW5papR2c6Je1YCY71+7WGOJg9/+Tmmk+6PG/8ACrE9tk+bE8f6fVUpmDc3uBZTU0YuxrwtygAAL4oHAEAhkIAQGoJHCCLPlTE1kiSIeZM0lzg1DrCKbIT/7fsLkkcrXSovBvI3AAAAAAAAAAAAAAAAAAAAAAAADE5MjY1MjUwNjX5zgaJ'},\n",
       "  {'type': 'cellSlice',\n",
       "   'value': 'te6ccuEBAQEAQgCEAICl+tpB6gwfNcnW/w6BErtTNJRi3NLVKOznRL2rATHev3awxxMHv/yc00n3R43/gAVYntsnzYnj/T6qlMwbm9wLMJCX4g=='},\n",
       "  {'type': 'cellSlice',\n",
       "   'value': 'te6ccuEBAgEAVQAgqgEaKamjF2NeFuUAABfFAwEAhkIAQGoJHCCLPlTE1kiSIeZM0lzg1DrCKbIT/7fsLkkcrXSovBvI3AAAAAAAAAAAAAAAAAAAAAAAADE5MjY1MjUwNjUNNlL8'},\n",
       "  698983191,\n",
       "  {'type': 'cellSlice',\n",
       "   'value': 'te6ccuEBAgEASQAIkgECAwEAhkIAQGoJHCCLPlTE1kiSIeZM0lzg1DrCKbIT/7fsLkkcrXSovBvI3AAAAAAAAAAAAAAAAAAAAAAAADE5MjY1MjUwNjWbXFVt'},\n",
       "  6085,\n",
       "  1667110629,\n",
       "  1667063834],\n",
       " [3503394350113822,\n",
       "  0,\n",
       "  {'type': 'cell',\n",
       "   'value': 'te6ccuECAgEAALgAAOYBcAHfiAELXvHRoGvSQCL5tMqMK5vm46jIkBbFPCIaeKYhsLVmxAUv1tIPUGD5rk63+HQIldqZpKMW5papR2c6Je1YCY71+7WGOJg9/+Tmmk+6PG/8ACrE9tk+bE8f6fVUpmDc3uBZTU0YuxrwtygAAL4oHAEAhkIAQGoJHCCLPlTE1kiSIeZM0lzg1DrCKbIT/7fsLkkcrXSovBvI3AAAAAAAAAAAAAAAAAAAAAAAADE5MjY1MjUwNjX5zgaJ'},\n",
       "  {'type': 'cellSlice',\n",
       "   'value': 'te6ccuEBAQEAQgCEAICl+tpB6gwfNcnW/w6BErtTNJRi3NLVKOznRL2rATHev3awxxMHv/yc00n3R43/gAVYntsnzYnj/T6qlMwbm9wLMJCX4g=='},\n",
       "  {'type': 'cellSlice',\n",
       "   'value': 'te6ccuEBAgEAVQAgqgEaKamjF2NeFuUAABfFAwEAhkIAQGoJHCCLPlTE1kiSIeZM0lzg1DrCKbIT/7fsLkkcrXSovBvI3AAAAAAAAAAAAAAAAAAAAAAAADE5MjY1MjUwNjUNNlL8'},\n",
       "  698983191,\n",
       "  {'type': 'cellSlice',\n",
       "   'value': 'te6ccuEBAgEASQAIkgECAwEAhkIAQGoJHCCLPlTE1kiSIeZM0lzg1DrCKbIT/7fsLkkcrXSovBvI3AAAAAAAAAAAAAAAAAAAAAAAADE5MjY1MjUwNjWbXFVt'},\n",
       "  6085,\n",
       "  0],\n",
       " [3503394350113822,\n",
       "  0,\n",
       "  {'type': 'cell',\n",
       "   'value': 'te6ccuECAgEAALgAAOYBcAHfiAELXvHRoGvSQCL5tMqMK5vm46jIkBbFPCIaeKYhsLVmxAUv1tIPUGD5rk63+HQIldqZpKMW5papR2c6Je1YCY71+7WGOJg9/+Tmmk+6PG/8ACrE9tk+bE8f6fVUpmDc3uBZTU0YuxrwtygAAL4oHAEAhkIAQGoJHCCLPlTE1kiSIeZM0lzg1DrCKbIT/7fsLkkcrXSovBvI3AAAAAAAAAAAAAAAAAAAAAAAADE5MjY1MjUwNjX5zgaJ'},\n",
       "  {'type': 'cellSlice',\n",
       "   'value': 'te6ccuEBAQEAQgCEAICl+tpB6gwfNcnW/w6BErtTNJRi3NLVKOznRL2rATHev3awxxMHv/yc00n3R43/gAVYntsnzYnj/T6qlMwbm9wLMJCX4g=='},\n",
       "  {'type': 'cellSlice',\n",
       "   'value': 'te6ccuEBAgEAVQAgqgEaKamjF2NeFuUAABfFAwEAhkIAQGoJHCCLPlTE1kiSIeZM0lzg1DrCKbIT/7fsLkkcrXSovBvI3AAAAAAAAAAAAAAAAAAAAAAAADE5MjY1MjUwNjUNNlL8'},\n",
       "  698983191,\n",
       "  {'type': 'cellSlice',\n",
       "   'value': 'te6ccuEBAgEASQAIkgECAwEAhkIAQGoJHCCLPlTE1kiSIeZM0lzg1DrCKbIT/7fsLkkcrXSovBvI3AAAAAAAAAAAAAAAAAAAAAAAADE5MjY1MjUwNjWbXFVt'},\n",
       "  6085],\n",
       " [3503394350113822,\n",
       "  0,\n",
       "  {'type': 'cell',\n",
       "   'value': 'te6ccuECAgEAALgAAOYBcAHfiAELXvHRoGvSQCL5tMqMK5vm46jIkBbFPCIaeKYhsLVmxAUv1tIPUGD5rk63+HQIldqZpKMW5papR2c6Je1YCY71+7WGOJg9/+Tmmk+6PG/8ACrE9tk+bE8f6fVUpmDc3uBZTU0YuxrwtygAAL4oHAEAhkIAQGoJHCCLPlTE1kiSIeZM0lzg1DrCKbIT/7fsLkkcrXSovBvI3AAAAAAAAAAAAAAAAAAAAAAAADE5MjY1MjUwNjX5zgaJ'},\n",
       "  {'type': 'cellSlice',\n",
       "   'value': 'te6ccuEBAQEAQgCEAICl+tpB6gwfNcnW/w6BErtTNJRi3NLVKOznRL2rATHev3awxxMHv/yc00n3R43/gAVYntsnzYnj/T6qlMwbm9wLMJCX4g=='},\n",
       "  {'type': 'cellSlice',\n",
       "   'value': 'te6ccuEBAgEAVQAgqgEaKamjF2NeFuUAABfFAwEAhkIAQGoJHCCLPlTE1kiSIeZM0lzg1DrCKbIT/7fsLkkcrXSovBvI3AAAAAAAAAAAAAAAAAAAAAAAADE5MjY1MjUwNjUNNlL8'},\n",
       "  698983191,\n",
       "  {'type': 'cellSlice',\n",
       "   'value': 'te6ccuEBAgEASQAIkgECAwEAhkIAQGoJHCCLPlTE1kiSIeZM0lzg1DrCKbIT/7fsLkkcrXSovBvI3AAAAAAAAAAAAAAAAAAAAAAAADE5MjY1MjUwNjWbXFVt'},\n",
       "  6085,\n",
       "  {'type': 'cell',\n",
       "   'value': 'te6ccuEBAQEAKgBUAFAAABfFKamjF1EWudQc3BYnnT5cgwKbbuOMnLoj2nddsBRI8MyLn7VbLd5twQ=='}],\n",
       " [3503394350113822,\n",
       "  0,\n",
       "  {'type': 'cell',\n",
       "   'value': 'te6ccuECAgEAALgAAOYBcAHfiAELXvHRoGvSQCL5tMqMK5vm46jIkBbFPCIaeKYhsLVmxAUv1tIPUGD5rk63+HQIldqZpKMW5papR2c6Je1YCY71+7WGOJg9/+Tmmk+6PG/8ACrE9tk+bE8f6fVUpmDc3uBZTU0YuxrwtygAAL4oHAEAhkIAQGoJHCCLPlTE1kiSIeZM0lzg1DrCKbIT/7fsLkkcrXSovBvI3AAAAAAAAAAAAAAAAAAAAAAAADE5MjY1MjUwNjX5zgaJ'},\n",
       "  {'type': 'cellSlice',\n",
       "   'value': 'te6ccuEBAQEAQgCEAICl+tpB6gwfNcnW/w6BErtTNJRi3NLVKOznRL2rATHev3awxxMHv/yc00n3R43/gAVYntsnzYnj/T6qlMwbm9wLMJCX4g=='},\n",
       "  {'type': 'cellSlice',\n",
       "   'value': 'te6ccuEBAgEAVQAgqgEaKamjF2NeFuUAABfFAwEAhkIAQGoJHCCLPlTE1kiSIeZM0lzg1DrCKbIT/7fsLkkcrXSovBvI3AAAAAAAAAAAAAAAAAAAAAAAADE5MjY1MjUwNjUNNlL8'},\n",
       "  698983191,\n",
       "  {'type': 'cellSlice',\n",
       "   'value': 'te6ccuEBAgEASQAIkgECAwEAhkIAQGoJHCCLPlTE1kiSIeZM0lzg1DrCKbIT/7fsLkkcrXSovBvI3AAAAAAAAAAAAAAAAAAAAAAAADE5MjY1MjUwNjWbXFVt'},\n",
       "  6085,\n",
       "  {'type': 'cellSlice',\n",
       "   'value': 'te6ccuEBAQEAKgBUAFAAABfFKamjF1EWudQc3BYnnT5cgwKbbuOMnLoj2nddsBRI8MyLn7VbLd5twQ=='}],\n",
       " [3503394350113822,\n",
       "  0,\n",
       "  {'type': 'cell',\n",
       "   'value': 'te6ccuECAgEAALgAAOYBcAHfiAELXvHRoGvSQCL5tMqMK5vm46jIkBbFPCIaeKYhsLVmxAUv1tIPUGD5rk63+HQIldqZpKMW5papR2c6Je1YCY71+7WGOJg9/+Tmmk+6PG/8ACrE9tk+bE8f6fVUpmDc3uBZTU0YuxrwtygAAL4oHAEAhkIAQGoJHCCLPlTE1kiSIeZM0lzg1DrCKbIT/7fsLkkcrXSovBvI3AAAAAAAAAAAAAAAAAAAAAAAADE5MjY1MjUwNjX5zgaJ'},\n",
       "  {'type': 'cellSlice',\n",
       "   'value': 'te6ccuEBAQEAQgCEAICl+tpB6gwfNcnW/w6BErtTNJRi3NLVKOznRL2rATHev3awxxMHv/yc00n3R43/gAVYntsnzYnj/T6qlMwbm9wLMJCX4g=='},\n",
       "  {'type': 'cellSlice',\n",
       "   'value': 'te6ccuEBAgEAVQAgqgEaKamjF2NeFuUAABfFAwEAhkIAQGoJHCCLPlTE1kiSIeZM0lzg1DrCKbIT/7fsLkkcrXSovBvI3AAAAAAAAAAAAAAAAAAAAAAAADE5MjY1MjUwNjUNNlL8'},\n",
       "  698983191,\n",
       "  {'type': 'cellSlice',\n",
       "   'value': 'te6ccuEBAgEASQAIkgECAwEAhkIAQGoJHCCLPlTE1kiSIeZM0lzg1DrCKbIT/7fsLkkcrXSovBvI3AAAAAAAAAAAAAAAAAAAAAAAADE5MjY1MjUwNjWbXFVt'},\n",
       "  6085,\n",
       "  6085,\n",
       "  {'type': 'cellSlice',\n",
       "   'value': 'te6ccuEBAQEAJgBMAEgpqaMXURa51BzcFiedPlyDAptu44ycuiPad12wFEjwzIuftVstF3ab'}],\n",
       " [3503394350113822,\n",
       "  0,\n",
       "  {'type': 'cell',\n",
       "   'value': 'te6ccuECAgEAALgAAOYBcAHfiAELXvHRoGvSQCL5tMqMK5vm46jIkBbFPCIaeKYhsLVmxAUv1tIPUGD5rk63+HQIldqZpKMW5papR2c6Je1YCY71+7WGOJg9/+Tmmk+6PG/8ACrE9tk+bE8f6fVUpmDc3uBZTU0YuxrwtygAAL4oHAEAhkIAQGoJHCCLPlTE1kiSIeZM0lzg1DrCKbIT/7fsLkkcrXSovBvI3AAAAAAAAAAAAAAAAAAAAAAAADE5MjY1MjUwNjX5zgaJ'},\n",
       "  {'type': 'cellSlice',\n",
       "   'value': 'te6ccuEBAQEAQgCEAICl+tpB6gwfNcnW/w6BErtTNJRi3NLVKOznRL2rATHev3awxxMHv/yc00n3R43/gAVYntsnzYnj/T6qlMwbm9wLMJCX4g=='},\n",
       "  {'type': 'cellSlice',\n",
       "   'value': 'te6ccuEBAgEAVQAgqgEaKamjF2NeFuUAABfFAwEAhkIAQGoJHCCLPlTE1kiSIeZM0lzg1DrCKbIT/7fsLkkcrXSovBvI3AAAAAAAAAAAAAAAAAAAAAAAADE5MjY1MjUwNjUNNlL8'},\n",
       "  698983191,\n",
       "  {'type': 'cellSlice',\n",
       "   'value': 'te6ccuEBAgEASQAIkgECAwEAhkIAQGoJHCCLPlTE1kiSIeZM0lzg1DrCKbIT/7fsLkkcrXSovBvI3AAAAAAAAAAAAAAAAAAAAAAAADE5MjY1MjUwNjWbXFVt'},\n",
       "  6085,\n",
       "  6085,\n",
       "  698983191,\n",
       "  {'type': 'cellSlice',\n",
       "   'value': 'te6ccuEBAQEAIgBEAEBRFrnUHNwWJ50+XIMCm27jjJy6I9p3XbAUSPDMi5+1W7TtjM0='}],\n",
       " [3503394350113822,\n",
       "  0,\n",
       "  {'type': 'cell',\n",
       "   'value': 'te6ccuECAgEAALgAAOYBcAHfiAELXvHRoGvSQCL5tMqMK5vm46jIkBbFPCIaeKYhsLVmxAUv1tIPUGD5rk63+HQIldqZpKMW5papR2c6Je1YCY71+7WGOJg9/+Tmmk+6PG/8ACrE9tk+bE8f6fVUpmDc3uBZTU0YuxrwtygAAL4oHAEAhkIAQGoJHCCLPlTE1kiSIeZM0lzg1DrCKbIT/7fsLkkcrXSovBvI3AAAAAAAAAAAAAAAAAAAAAAAADE5MjY1MjUwNjX5zgaJ'},\n",
       "  {'type': 'cellSlice',\n",
       "   'value': 'te6ccuEBAQEAQgCEAICl+tpB6gwfNcnW/w6BErtTNJRi3NLVKOznRL2rATHev3awxxMHv/yc00n3R43/gAVYntsnzYnj/T6qlMwbm9wLMJCX4g=='},\n",
       "  {'type': 'cellSlice',\n",
       "   'value': 'te6ccuEBAgEAVQAgqgEaKamjF2NeFuUAABfFAwEAhkIAQGoJHCCLPlTE1kiSIeZM0lzg1DrCKbIT/7fsLkkcrXSovBvI3AAAAAAAAAAAAAAAAAAAAAAAADE5MjY1MjUwNjUNNlL8'},\n",
       "  698983191,\n",
       "  {'type': 'cellSlice',\n",
       "   'value': 'te6ccuEBAgEASQAIkgECAwEAhkIAQGoJHCCLPlTE1kiSIeZM0lzg1DrCKbIT/7fsLkkcrXSovBvI3AAAAAAAAAAAAAAAAAAAAAAAADE5MjY1MjUwNjWbXFVt'},\n",
       "  6085,\n",
       "  6085,\n",
       "  698983191,\n",
       "  36677493912291834122398212189024191338488555939161773948324000902099823998299,\n",
       "  {'type': 'cellSlice', 'value': 'te6ccuEBAQEAAgAEAABmLc6k'}],\n",
       " [3503394350113822,\n",
       "  0,\n",
       "  {'type': 'cell',\n",
       "   'value': 'te6ccuECAgEAALgAAOYBcAHfiAELXvHRoGvSQCL5tMqMK5vm46jIkBbFPCIaeKYhsLVmxAUv1tIPUGD5rk63+HQIldqZpKMW5papR2c6Je1YCY71+7WGOJg9/+Tmmk+6PG/8ACrE9tk+bE8f6fVUpmDc3uBZTU0YuxrwtygAAL4oHAEAhkIAQGoJHCCLPlTE1kiSIeZM0lzg1DrCKbIT/7fsLkkcrXSovBvI3AAAAAAAAAAAAAAAAAAAAAAAADE5MjY1MjUwNjX5zgaJ'},\n",
       "  {'type': 'cellSlice',\n",
       "   'value': 'te6ccuEBAQEAQgCEAICl+tpB6gwfNcnW/w6BErtTNJRi3NLVKOznRL2rATHev3awxxMHv/yc00n3R43/gAVYntsnzYnj/T6qlMwbm9wLMJCX4g=='},\n",
       "  {'type': 'cellSlice',\n",
       "   'value': 'te6ccuEBAgEAVQAgqgEaKamjF2NeFuUAABfFAwEAhkIAQGoJHCCLPlTE1kiSIeZM0lzg1DrCKbIT/7fsLkkcrXSovBvI3AAAAAAAAAAAAAAAAAAAAAAAADE5MjY1MjUwNjUNNlL8'},\n",
       "  698983191,\n",
       "  {'type': 'cellSlice',\n",
       "   'value': 'te6ccuEBAgEASQAIkgECAwEAhkIAQGoJHCCLPlTE1kiSIeZM0lzg1DrCKbIT/7fsLkkcrXSovBvI3AAAAAAAAAAAAAAAAAAAAAAAADE5MjY1MjUwNjWbXFVt'},\n",
       "  6085,\n",
       "  6085,\n",
       "  698983191,\n",
       "  36677493912291834122398212189024191338488555939161773948324000902099823998299],\n",
       " [3503394350113822,\n",
       "  0,\n",
       "  {'type': 'cell',\n",
       "   'value': 'te6ccuECAgEAALgAAOYBcAHfiAELXvHRoGvSQCL5tMqMK5vm46jIkBbFPCIaeKYhsLVmxAUv1tIPUGD5rk63+HQIldqZpKMW5papR2c6Je1YCY71+7WGOJg9/+Tmmk+6PG/8ACrE9tk+bE8f6fVUpmDc3uBZTU0YuxrwtygAAL4oHAEAhkIAQGoJHCCLPlTE1kiSIeZM0lzg1DrCKbIT/7fsLkkcrXSovBvI3AAAAAAAAAAAAAAAAAAAAAAAADE5MjY1MjUwNjX5zgaJ'},\n",
       "  {'type': 'cellSlice',\n",
       "   'value': 'te6ccuEBAQEAQgCEAICl+tpB6gwfNcnW/w6BErtTNJRi3NLVKOznRL2rATHev3awxxMHv/yc00n3R43/gAVYntsnzYnj/T6qlMwbm9wLMJCX4g=='},\n",
       "  {'type': 'cellSlice',\n",
       "   'value': 'te6ccuEBAgEAVQAgqgEaKamjF2NeFuUAABfFAwEAhkIAQGoJHCCLPlTE1kiSIeZM0lzg1DrCKbIT/7fsLkkcrXSovBvI3AAAAAAAAAAAAAAAAAAAAAAAADE5MjY1MjUwNjUNNlL8'},\n",
       "  698983191,\n",
       "  {'type': 'cellSlice',\n",
       "   'value': 'te6ccuEBAgEASQAIkgECAwEAhkIAQGoJHCCLPlTE1kiSIeZM0lzg1DrCKbIT/7fsLkkcrXSovBvI3AAAAAAAAAAAAAAAAAAAAAAAADE5MjY1MjUwNjWbXFVt'},\n",
       "  36677493912291834122398212189024191338488555939161773948324000902099823998299,\n",
       "  6085,\n",
       "  698983191,\n",
       "  6085,\n",
       "  6085],\n",
       " [3503394350113822,\n",
       "  0,\n",
       "  {'type': 'cell',\n",
       "   'value': 'te6ccuECAgEAALgAAOYBcAHfiAELXvHRoGvSQCL5tMqMK5vm46jIkBbFPCIaeKYhsLVmxAUv1tIPUGD5rk63+HQIldqZpKMW5papR2c6Je1YCY71+7WGOJg9/+Tmmk+6PG/8ACrE9tk+bE8f6fVUpmDc3uBZTU0YuxrwtygAAL4oHAEAhkIAQGoJHCCLPlTE1kiSIeZM0lzg1DrCKbIT/7fsLkkcrXSovBvI3AAAAAAAAAAAAAAAAAAAAAAAADE5MjY1MjUwNjX5zgaJ'},\n",
       "  {'type': 'cellSlice',\n",
       "   'value': 'te6ccuEBAQEAQgCEAICl+tpB6gwfNcnW/w6BErtTNJRi3NLVKOznRL2rATHev3awxxMHv/yc00n3R43/gAVYntsnzYnj/T6qlMwbm9wLMJCX4g=='},\n",
       "  {'type': 'cellSlice',\n",
       "   'value': 'te6ccuEBAgEAVQAgqgEaKamjF2NeFuUAABfFAwEAhkIAQGoJHCCLPlTE1kiSIeZM0lzg1DrCKbIT/7fsLkkcrXSovBvI3AAAAAAAAAAAAAAAAAAAAAAAADE5MjY1MjUwNjUNNlL8'},\n",
       "  698983191,\n",
       "  {'type': 'cellSlice',\n",
       "   'value': 'te6ccuEBAgEASQAIkgECAwEAhkIAQGoJHCCLPlTE1kiSIeZM0lzg1DrCKbIT/7fsLkkcrXSovBvI3AAAAAAAAAAAAAAAAAAAAAAAADE5MjY1MjUwNjWbXFVt'},\n",
       "  36677493912291834122398212189024191338488555939161773948324000902099823998299,\n",
       "  6085,\n",
       "  698983191,\n",
       "  -1],\n",
       " [3503394350113822,\n",
       "  0,\n",
       "  {'type': 'cell',\n",
       "   'value': 'te6ccuECAgEAALgAAOYBcAHfiAELXvHRoGvSQCL5tMqMK5vm46jIkBbFPCIaeKYhsLVmxAUv1tIPUGD5rk63+HQIldqZpKMW5papR2c6Je1YCY71+7WGOJg9/+Tmmk+6PG/8ACrE9tk+bE8f6fVUpmDc3uBZTU0YuxrwtygAAL4oHAEAhkIAQGoJHCCLPlTE1kiSIeZM0lzg1DrCKbIT/7fsLkkcrXSovBvI3AAAAAAAAAAAAAAAAAAAAAAAADE5MjY1MjUwNjX5zgaJ'},\n",
       "  {'type': 'cellSlice',\n",
       "   'value': 'te6ccuEBAQEAQgCEAICl+tpB6gwfNcnW/w6BErtTNJRi3NLVKOznRL2rATHev3awxxMHv/yc00n3R43/gAVYntsnzYnj/T6qlMwbm9wLMJCX4g=='},\n",
       "  {'type': 'cellSlice',\n",
       "   'value': 'te6ccuEBAgEAVQAgqgEaKamjF2NeFuUAABfFAwEAhkIAQGoJHCCLPlTE1kiSIeZM0lzg1DrCKbIT/7fsLkkcrXSovBvI3AAAAAAAAAAAAAAAAAAAAAAAADE5MjY1MjUwNjUNNlL8'},\n",
       "  698983191,\n",
       "  {'type': 'cellSlice',\n",
       "   'value': 'te6ccuEBAgEASQAIkgECAwEAhkIAQGoJHCCLPlTE1kiSIeZM0lzg1DrCKbIT/7fsLkkcrXSovBvI3AAAAAAAAAAAAAAAAAAAAAAAADE5MjY1MjUwNjWbXFVt'},\n",
       "  36677493912291834122398212189024191338488555939161773948324000902099823998299,\n",
       "  6085,\n",
       "  698983191],\n",
       " [3503394350113822,\n",
       "  0,\n",
       "  {'type': 'cell',\n",
       "   'value': 'te6ccuECAgEAALgAAOYBcAHfiAELXvHRoGvSQCL5tMqMK5vm46jIkBbFPCIaeKYhsLVmxAUv1tIPUGD5rk63+HQIldqZpKMW5papR2c6Je1YCY71+7WGOJg9/+Tmmk+6PG/8ACrE9tk+bE8f6fVUpmDc3uBZTU0YuxrwtygAAL4oHAEAhkIAQGoJHCCLPlTE1kiSIeZM0lzg1DrCKbIT/7fsLkkcrXSovBvI3AAAAAAAAAAAAAAAAAAAAAAAADE5MjY1MjUwNjX5zgaJ'},\n",
       "  {'type': 'cellSlice',\n",
       "   'value': 'te6ccuEBAQEAQgCEAICl+tpB6gwfNcnW/w6BErtTNJRi3NLVKOznRL2rATHev3awxxMHv/yc00n3R43/gAVYntsnzYnj/T6qlMwbm9wLMJCX4g=='},\n",
       "  {'type': 'cellSlice',\n",
       "   'value': 'te6ccuEBAgEAVQAgqgEaKamjF2NeFuUAABfFAwEAhkIAQGoJHCCLPlTE1kiSIeZM0lzg1DrCKbIT/7fsLkkcrXSovBvI3AAAAAAAAAAAAAAAAAAAAAAAADE5MjY1MjUwNjUNNlL8'},\n",
       "  698983191,\n",
       "  {'type': 'cellSlice',\n",
       "   'value': 'te6ccuEBAgEASQAIkgECAwEAhkIAQGoJHCCLPlTE1kiSIeZM0lzg1DrCKbIT/7fsLkkcrXSovBvI3AAAAAAAAAAAAAAAAAAAAAAAADE5MjY1MjUwNjWbXFVt'},\n",
       "  36677493912291834122398212189024191338488555939161773948324000902099823998299,\n",
       "  6085,\n",
       "  698983191,\n",
       "  698983191],\n",
       " [3503394350113822,\n",
       "  0,\n",
       "  {'type': 'cell',\n",
       "   'value': 'te6ccuECAgEAALgAAOYBcAHfiAELXvHRoGvSQCL5tMqMK5vm46jIkBbFPCIaeKYhsLVmxAUv1tIPUGD5rk63+HQIldqZpKMW5papR2c6Je1YCY71+7WGOJg9/+Tmmk+6PG/8ACrE9tk+bE8f6fVUpmDc3uBZTU0YuxrwtygAAL4oHAEAhkIAQGoJHCCLPlTE1kiSIeZM0lzg1DrCKbIT/7fsLkkcrXSovBvI3AAAAAAAAAAAAAAAAAAAAAAAADE5MjY1MjUwNjX5zgaJ'},\n",
       "  {'type': 'cellSlice',\n",
       "   'value': 'te6ccuEBAQEAQgCEAICl+tpB6gwfNcnW/w6BErtTNJRi3NLVKOznRL2rATHev3awxxMHv/yc00n3R43/gAVYntsnzYnj/T6qlMwbm9wLMJCX4g=='},\n",
       "  {'type': 'cellSlice',\n",
       "   'value': 'te6ccuEBAgEAVQAgqgEaKamjF2NeFuUAABfFAwEAhkIAQGoJHCCLPlTE1kiSIeZM0lzg1DrCKbIT/7fsLkkcrXSovBvI3AAAAAAAAAAAAAAAAAAAAAAAADE5MjY1MjUwNjUNNlL8'},\n",
       "  698983191,\n",
       "  {'type': 'cellSlice',\n",
       "   'value': 'te6ccuEBAgEASQAIkgECAwEAhkIAQGoJHCCLPlTE1kiSIeZM0lzg1DrCKbIT/7fsLkkcrXSovBvI3AAAAAAAAAAAAAAAAAAAAAAAADE5MjY1MjUwNjWbXFVt'},\n",
       "  36677493912291834122398212189024191338488555939161773948324000902099823998299,\n",
       "  6085,\n",
       "  -1],\n",
       " [3503394350113822,\n",
       "  0,\n",
       "  {'type': 'cell',\n",
       "   'value': 'te6ccuECAgEAALgAAOYBcAHfiAELXvHRoGvSQCL5tMqMK5vm46jIkBbFPCIaeKYhsLVmxAUv1tIPUGD5rk63+HQIldqZpKMW5papR2c6Je1YCY71+7WGOJg9/+Tmmk+6PG/8ACrE9tk+bE8f6fVUpmDc3uBZTU0YuxrwtygAAL4oHAEAhkIAQGoJHCCLPlTE1kiSIeZM0lzg1DrCKbIT/7fsLkkcrXSovBvI3AAAAAAAAAAAAAAAAAAAAAAAADE5MjY1MjUwNjX5zgaJ'},\n",
       "  {'type': 'cellSlice',\n",
       "   'value': 'te6ccuEBAQEAQgCEAICl+tpB6gwfNcnW/w6BErtTNJRi3NLVKOznRL2rATHev3awxxMHv/yc00n3R43/gAVYntsnzYnj/T6qlMwbm9wLMJCX4g=='},\n",
       "  {'type': 'cellSlice',\n",
       "   'value': 'te6ccuEBAgEAVQAgqgEaKamjF2NeFuUAABfFAwEAhkIAQGoJHCCLPlTE1kiSIeZM0lzg1DrCKbIT/7fsLkkcrXSovBvI3AAAAAAAAAAAAAAAAAAAAAAAADE5MjY1MjUwNjUNNlL8'},\n",
       "  698983191,\n",
       "  {'type': 'cellSlice',\n",
       "   'value': 'te6ccuEBAgEASQAIkgECAwEAhkIAQGoJHCCLPlTE1kiSIeZM0lzg1DrCKbIT/7fsLkkcrXSovBvI3AAAAAAAAAAAAAAAAAAAAAAAADE5MjY1MjUwNjWbXFVt'},\n",
       "  36677493912291834122398212189024191338488555939161773948324000902099823998299,\n",
       "  6085],\n",
       " [3503394350113822,\n",
       "  0,\n",
       "  {'type': 'cell',\n",
       "   'value': 'te6ccuECAgEAALgAAOYBcAHfiAELXvHRoGvSQCL5tMqMK5vm46jIkBbFPCIaeKYhsLVmxAUv1tIPUGD5rk63+HQIldqZpKMW5papR2c6Je1YCY71+7WGOJg9/+Tmmk+6PG/8ACrE9tk+bE8f6fVUpmDc3uBZTU0YuxrwtygAAL4oHAEAhkIAQGoJHCCLPlTE1kiSIeZM0lzg1DrCKbIT/7fsLkkcrXSovBvI3AAAAAAAAAAAAAAAAAAAAAAAADE5MjY1MjUwNjX5zgaJ'},\n",
       "  {'type': 'cellSlice',\n",
       "   'value': 'te6ccuEBAQEAQgCEAICl+tpB6gwfNcnW/w6BErtTNJRi3NLVKOznRL2rATHev3awxxMHv/yc00n3R43/gAVYntsnzYnj/T6qlMwbm9wLMJCX4g=='},\n",
       "  6085,\n",
       "  698983191,\n",
       "  {'type': 'cellSlice',\n",
       "   'value': 'te6ccuEBAgEASQAIkgECAwEAhkIAQGoJHCCLPlTE1kiSIeZM0lzg1DrCKbIT/7fsLkkcrXSovBvI3AAAAAAAAAAAAAAAAAAAAAAAADE5MjY1MjUwNjWbXFVt'},\n",
       "  36677493912291834122398212189024191338488555939161773948324000902099823998299,\n",
       "  {'type': 'cellSlice',\n",
       "   'value': 'te6ccuEBAgEAVQAgqgEaKamjF2NeFuUAABfFAwEAhkIAQGoJHCCLPlTE1kiSIeZM0lzg1DrCKbIT/7fsLkkcrXSovBvI3AAAAAAAAAAAAAAAAAAAAAAAADE5MjY1MjUwNjUNNlL8'}],\n",
       " [3503394350113822,\n",
       "  0,\n",
       "  {'type': 'cell',\n",
       "   'value': 'te6ccuECAgEAALgAAOYBcAHfiAELXvHRoGvSQCL5tMqMK5vm46jIkBbFPCIaeKYhsLVmxAUv1tIPUGD5rk63+HQIldqZpKMW5papR2c6Je1YCY71+7WGOJg9/+Tmmk+6PG/8ACrE9tk+bE8f6fVUpmDc3uBZTU0YuxrwtygAAL4oHAEAhkIAQGoJHCCLPlTE1kiSIeZM0lzg1DrCKbIT/7fsLkkcrXSovBvI3AAAAAAAAAAAAAAAAAAAAAAAADE5MjY1MjUwNjX5zgaJ'},\n",
       "  {'type': 'cellSlice',\n",
       "   'value': 'te6ccuEBAQEAQgCEAICl+tpB6gwfNcnW/w6BErtTNJRi3NLVKOznRL2rATHev3awxxMHv/yc00n3R43/gAVYntsnzYnj/T6qlMwbm9wLMJCX4g=='},\n",
       "  6085,\n",
       "  698983191,\n",
       "  {'type': 'cellSlice',\n",
       "   'value': 'te6ccuEBAgEASQAIkgECAwEAhkIAQGoJHCCLPlTE1kiSIeZM0lzg1DrCKbIT/7fsLkkcrXSovBvI3AAAAAAAAAAAAAAAAAAAAAAAADE5MjY1MjUwNjWbXFVt'},\n",
       "  36677493912291834122398212189024191338488555939161773948324000902099823998299,\n",
       "  4161212365431304288669219053138475956057333348289443587949551624065945501444],\n",
       " [3503394350113822,\n",
       "  0,\n",
       "  {'type': 'cell',\n",
       "   'value': 'te6ccuECAgEAALgAAOYBcAHfiAELXvHRoGvSQCL5tMqMK5vm46jIkBbFPCIaeKYhsLVmxAUv1tIPUGD5rk63+HQIldqZpKMW5papR2c6Je1YCY71+7WGOJg9/+Tmmk+6PG/8ACrE9tk+bE8f6fVUpmDc3uBZTU0YuxrwtygAAL4oHAEAhkIAQGoJHCCLPlTE1kiSIeZM0lzg1DrCKbIT/7fsLkkcrXSovBvI3AAAAAAAAAAAAAAAAAAAAAAAADE5MjY1MjUwNjX5zgaJ'},\n",
       "  36677493912291834122398212189024191338488555939161773948324000902099823998299,\n",
       "  6085,\n",
       "  698983191,\n",
       "  {'type': 'cellSlice',\n",
       "   'value': 'te6ccuEBAgEASQAIkgECAwEAhkIAQGoJHCCLPlTE1kiSIeZM0lzg1DrCKbIT/7fsLkkcrXSovBvI3AAAAAAAAAAAAAAAAAAAAAAAADE5MjY1MjUwNjWbXFVt'},\n",
       "  4161212365431304288669219053138475956057333348289443587949551624065945501444,\n",
       "  {'type': 'cellSlice',\n",
       "   'value': 'te6ccuEBAQEAQgCEAICl+tpB6gwfNcnW/w6BErtTNJRi3NLVKOznRL2rATHev3awxxMHv/yc00n3R43/gAVYntsnzYnj/T6qlMwbm9wLMJCX4g=='},\n",
       "  36677493912291834122398212189024191338488555939161773948324000902099823998299],\n",
       " [3503394350113822,\n",
       "  0,\n",
       "  {'type': 'cell',\n",
       "   'value': 'te6ccuECAgEAALgAAOYBcAHfiAELXvHRoGvSQCL5tMqMK5vm46jIkBbFPCIaeKYhsLVmxAUv1tIPUGD5rk63+HQIldqZpKMW5papR2c6Je1YCY71+7WGOJg9/+Tmmk+6PG/8ACrE9tk+bE8f6fVUpmDc3uBZTU0YuxrwtygAAL4oHAEAhkIAQGoJHCCLPlTE1kiSIeZM0lzg1DrCKbIT/7fsLkkcrXSovBvI3AAAAAAAAAAAAAAAAAAAAAAAADE5MjY1MjUwNjX5zgaJ'},\n",
       "  36677493912291834122398212189024191338488555939161773948324000902099823998299,\n",
       "  6085,\n",
       "  698983191,\n",
       "  {'type': 'cellSlice',\n",
       "   'value': 'te6ccuEBAgEASQAIkgECAwEAhkIAQGoJHCCLPlTE1kiSIeZM0lzg1DrCKbIT/7fsLkkcrXSovBvI3AAAAAAAAAAAAAAAAAAAAAAAADE5MjY1MjUwNjWbXFVt'},\n",
       "  -1],\n",
       " [3503394350113822,\n",
       "  0,\n",
       "  {'type': 'cell',\n",
       "   'value': 'te6ccuECAgEAALgAAOYBcAHfiAELXvHRoGvSQCL5tMqMK5vm46jIkBbFPCIaeKYhsLVmxAUv1tIPUGD5rk63+HQIldqZpKMW5papR2c6Je1YCY71+7WGOJg9/+Tmmk+6PG/8ACrE9tk+bE8f6fVUpmDc3uBZTU0YuxrwtygAAL4oHAEAhkIAQGoJHCCLPlTE1kiSIeZM0lzg1DrCKbIT/7fsLkkcrXSovBvI3AAAAAAAAAAAAAAAAAAAAAAAADE5MjY1MjUwNjX5zgaJ'},\n",
       "  36677493912291834122398212189024191338488555939161773948324000902099823998299,\n",
       "  6085,\n",
       "  698983191,\n",
       "  {'type': 'cellSlice',\n",
       "   'value': 'te6ccuEBAgEASQAIkgECAwEAhkIAQGoJHCCLPlTE1kiSIeZM0lzg1DrCKbIT/7fsLkkcrXSovBvI3AAAAAAAAAAAAAAAAAAAAAAAADE5MjY1MjUwNjWbXFVt'}],\n",
       " [3503394350113822,\n",
       "  0,\n",
       "  {'type': 'cell',\n",
       "   'value': 'te6ccuECAgEAALgAAOYBcAHfiAELXvHRoGvSQCL5tMqMK5vm46jIkBbFPCIaeKYhsLVmxAUv1tIPUGD5rk63+HQIldqZpKMW5papR2c6Je1YCY71+7WGOJg9/+Tmmk+6PG/8ACrE9tk+bE8f6fVUpmDc3uBZTU0YuxrwtygAAL4oHAEAhkIAQGoJHCCLPlTE1kiSIeZM0lzg1DrCKbIT/7fsLkkcrXSovBvI3AAAAAAAAAAAAAAAAAAAAAAAADE5MjY1MjUwNjX5zgaJ'},\n",
       "  36677493912291834122398212189024191338488555939161773948324000902099823998299,\n",
       "  6085,\n",
       "  698983191,\n",
       "  {'type': 'cellSlice',\n",
       "   'value': 'te6ccuEBAgEASQAIkgECAwEAhkIAQGoJHCCLPlTE1kiSIeZM0lzg1DrCKbIT/7fsLkkcrXSovBvI3AAAAAAAAAAAAAAAAAAAAAAAADE5MjY1MjUwNjWbXFVt'}],\n",
       " [3503394350113822,\n",
       "  0,\n",
       "  {'type': 'cell',\n",
       "   'value': 'te6ccuECAgEAALgAAOYBcAHfiAELXvHRoGvSQCL5tMqMK5vm46jIkBbFPCIaeKYhsLVmxAUv1tIPUGD5rk63+HQIldqZpKMW5papR2c6Je1YCY71+7WGOJg9/+Tmmk+6PG/8ACrE9tk+bE8f6fVUpmDc3uBZTU0YuxrwtygAAL4oHAEAhkIAQGoJHCCLPlTE1kiSIeZM0lzg1DrCKbIT/7fsLkkcrXSovBvI3AAAAAAAAAAAAAAAAAAAAAAAADE5MjY1MjUwNjX5zgaJ'},\n",
       "  36677493912291834122398212189024191338488555939161773948324000902099823998299,\n",
       "  6085,\n",
       "  698983191,\n",
       "  {'type': 'cellSlice',\n",
       "   'value': 'te6ccuEBAgEASQAIkgECAwEAhkIAQGoJHCCLPlTE1kiSIeZM0lzg1DrCKbIT/7fsLkkcrXSovBvI3AAAAAAAAAAAAAAAAAAAAAAAADE5MjY1MjUwNjWbXFVt'},\n",
       "  {'type': 'continuation',\n",
       "   'value': 'te6ccuEBAgEAawAS1gEMBAACQJYAAQDA/wAg3SCCAUyXupcw7UTQ1wsf4KTyYIMI1xgg0x/TH9Mf+CMTu/Jj7UTQ0x/TH9P/0VEyuvKhUUS68qIE+QFUEFX5EPKj+ACTINdKltMH1AL7AOjRAaTIyx/LH8v/ye1Uo03PCg=='}],\n",
       " [3503394350113822,\n",
       "  0,\n",
       "  {'type': 'cell',\n",
       "   'value': 'te6ccuECAgEAALgAAOYBcAHfiAELXvHRoGvSQCL5tMqMK5vm46jIkBbFPCIaeKYhsLVmxAUv1tIPUGD5rk63+HQIldqZpKMW5papR2c6Je1YCY71+7WGOJg9/+Tmmk+6PG/8ACrE9tk+bE8f6fVUpmDc3uBZTU0YuxrwtygAAL4oHAEAhkIAQGoJHCCLPlTE1kiSIeZM0lzg1DrCKbIT/7fsLkkcrXSovBvI3AAAAAAAAAAAAAAAAAAAAAAAADE5MjY1MjUwNjX5zgaJ'},\n",
       "  36677493912291834122398212189024191338488555939161773948324000902099823998299,\n",
       "  6085,\n",
       "  698983191,\n",
       "  {'type': 'cellSlice',\n",
       "   'value': 'te6ccuEBAgEASQAIkgECAwEAhkIAQGoJHCCLPlTE1kiSIeZM0lzg1DrCKbIT/7fsLkkcrXSovBvI3AAAAAAAAAAAAAAAAAAAAAAAADE5MjY1MjUwNjWbXFVt'},\n",
       "  {'type': 'continuation',\n",
       "   'value': 'te6ccuEBAgEAawAS1gEMBAACQJYAAQDA/wAg3SCCAUyXupcw7UTQ1wsf4KTyYIMI1xgg0x/TH9Mf+CMTu/Jj7UTQ0x/TH9P/0VEyuvKhUUS68qIE+QFUEFX5EPKj+ACTINdKltMH1AL7AOjRAaTIyx/LH8v/ye1Uo03PCg=='},\n",
       "  {'type': 'continuation',\n",
       "   'value': 'te6ccuEBAgEAawAS1gEMBAACYKQAAQDA/wAg3SCCAUyXupcw7UTQ1wsf4KTyYIMI1xgg0x/TH9Mf+CMTu/Jj7UTQ0x/TH9P/0VEyuvKhUUS68qIE+QFUEFX5EPKj+ACTINdKltMH1AL7AOjRAaTIyx/LH8v/ye1U2VUXUg=='}],\n",
       " [3503394350113822,\n",
       "  0,\n",
       "  {'type': 'cell',\n",
       "   'value': 'te6ccuECAgEAALgAAOYBcAHfiAELXvHRoGvSQCL5tMqMK5vm46jIkBbFPCIaeKYhsLVmxAUv1tIPUGD5rk63+HQIldqZpKMW5papR2c6Je1YCY71+7WGOJg9/+Tmmk+6PG/8ACrE9tk+bE8f6fVUpmDc3uBZTU0YuxrwtygAAL4oHAEAhkIAQGoJHCCLPlTE1kiSIeZM0lzg1DrCKbIT/7fsLkkcrXSovBvI3AAAAAAAAAAAAAAAAAAAAAAAADE5MjY1MjUwNjX5zgaJ'},\n",
       "  36677493912291834122398212189024191338488555939161773948324000902099823998299,\n",
       "  6085,\n",
       "  698983191,\n",
       "  {'type': 'cellSlice',\n",
       "   'value': 'te6ccuEBAgEASQAIkgECAwEAhkIAQGoJHCCLPlTE1kiSIeZM0lzg1DrCKbIT/7fsLkkcrXSovBvI3AAAAAAAAAAAAAAAAAAAAAAAADE5MjY1MjUwNjWbXFVt'}],\n",
       " [3503394350113822,\n",
       "  0,\n",
       "  {'type': 'cell',\n",
       "   'value': 'te6ccuECAgEAALgAAOYBcAHfiAELXvHRoGvSQCL5tMqMK5vm46jIkBbFPCIaeKYhsLVmxAUv1tIPUGD5rk63+HQIldqZpKMW5papR2c6Je1YCY71+7WGOJg9/+Tmmk+6PG/8ACrE9tk+bE8f6fVUpmDc3uBZTU0YuxrwtygAAL4oHAEAhkIAQGoJHCCLPlTE1kiSIeZM0lzg1DrCKbIT/7fsLkkcrXSovBvI3AAAAAAAAAAAAAAAAAAAAAAAADE5MjY1MjUwNjX5zgaJ'},\n",
       "  36677493912291834122398212189024191338488555939161773948324000902099823998299,\n",
       "  6085,\n",
       "  698983191,\n",
       "  {'type': 'cellSlice',\n",
       "   'value': 'te6ccuEBAgEASQAIkgECAwEAhkIAQGoJHCCLPlTE1kiSIeZM0lzg1DrCKbIT/7fsLkkcrXSovBvI3AAAAAAAAAAAAAAAAAAAAAAAADE5MjY1MjUwNjWbXFVt'},\n",
       "  {'type': 'cellSlice',\n",
       "   'value': 'te6ccuEBAgEASQAIkgECAwEAhkIAQGoJHCCLPlTE1kiSIeZM0lzg1DrCKbIT/7fsLkkcrXSovBvI3AAAAAAAAAAAAAAAAAAAAAAAADE5MjY1MjUwNjWbXFVt'}],\n",
       " [3503394350113822,\n",
       "  0,\n",
       "  {'type': 'cell',\n",
       "   'value': 'te6ccuECAgEAALgAAOYBcAHfiAELXvHRoGvSQCL5tMqMK5vm46jIkBbFPCIaeKYhsLVmxAUv1tIPUGD5rk63+HQIldqZpKMW5papR2c6Je1YCY71+7WGOJg9/+Tmmk+6PG/8ACrE9tk+bE8f6fVUpmDc3uBZTU0YuxrwtygAAL4oHAEAhkIAQGoJHCCLPlTE1kiSIeZM0lzg1DrCKbIT/7fsLkkcrXSovBvI3AAAAAAAAAAAAAAAAAAAAAAAADE5MjY1MjUwNjX5zgaJ'},\n",
       "  36677493912291834122398212189024191338488555939161773948324000902099823998299,\n",
       "  6085,\n",
       "  698983191,\n",
       "  {'type': 'cellSlice',\n",
       "   'value': 'te6ccuEBAgEASQAIkgECAwEAhkIAQGoJHCCLPlTE1kiSIeZM0lzg1DrCKbIT/7fsLkkcrXSovBvI3AAAAAAAAAAAAAAAAAAAAAAAADE5MjY1MjUwNjWbXFVt'},\n",
       "  1],\n",
       " [3503394350113822,\n",
       "  0,\n",
       "  {'type': 'cell',\n",
       "   'value': 'te6ccuECAgEAALgAAOYBcAHfiAELXvHRoGvSQCL5tMqMK5vm46jIkBbFPCIaeKYhsLVmxAUv1tIPUGD5rk63+HQIldqZpKMW5papR2c6Je1YCY71+7WGOJg9/+Tmmk+6PG/8ACrE9tk+bE8f6fVUpmDc3uBZTU0YuxrwtygAAL4oHAEAhkIAQGoJHCCLPlTE1kiSIeZM0lzg1DrCKbIT/7fsLkkcrXSovBvI3AAAAAAAAAAAAAAAAAAAAAAAADE5MjY1MjUwNjX5zgaJ'},\n",
       "  36677493912291834122398212189024191338488555939161773948324000902099823998299,\n",
       "  6085,\n",
       "  698983191,\n",
       "  {'type': 'cellSlice',\n",
       "   'value': 'te6ccuEBAgEASQAIkgECAwEAhkIAQGoJHCCLPlTE1kiSIeZM0lzg1DrCKbIT/7fsLkkcrXSovBvI3AAAAAAAAAAAAAAAAAAAAAAAADE5MjY1MjUwNjWbXFVt'}],\n",
       " [3503394350113822,\n",
       "  0,\n",
       "  {'type': 'cell',\n",
       "   'value': 'te6ccuECAgEAALgAAOYBcAHfiAELXvHRoGvSQCL5tMqMK5vm46jIkBbFPCIaeKYhsLVmxAUv1tIPUGD5rk63+HQIldqZpKMW5papR2c6Je1YCY71+7WGOJg9/+Tmmk+6PG/8ACrE9tk+bE8f6fVUpmDc3uBZTU0YuxrwtygAAL4oHAEAhkIAQGoJHCCLPlTE1kiSIeZM0lzg1DrCKbIT/7fsLkkcrXSovBvI3AAAAAAAAAAAAAAAAAAAAAAAADE5MjY1MjUwNjX5zgaJ'},\n",
       "  36677493912291834122398212189024191338488555939161773948324000902099823998299,\n",
       "  6085,\n",
       "  698983191,\n",
       "  3,\n",
       "  {'type': 'cellSlice',\n",
       "   'value': 'te6ccuEBAgEASAAGkAEAAQCGQgBAagkcIIs+VMTWSJIh5kzSXODUOsIpshP/t+wuSRytdKi8G8jcAAAAAAAAAAAAAAAAAAAAAAAAMTkyNjUyNTA2NYiTyi0='}],\n",
       " [3503394350113822,\n",
       "  0,\n",
       "  {'type': 'cell',\n",
       "   'value': 'te6ccuECAgEAALgAAOYBcAHfiAELXvHRoGvSQCL5tMqMK5vm46jIkBbFPCIaeKYhsLVmxAUv1tIPUGD5rk63+HQIldqZpKMW5papR2c6Je1YCY71+7WGOJg9/+Tmmk+6PG/8ACrE9tk+bE8f6fVUpmDc3uBZTU0YuxrwtygAAL4oHAEAhkIAQGoJHCCLPlTE1kiSIeZM0lzg1DrCKbIT/7fsLkkcrXSovBvI3AAAAAAAAAAAAAAAAAAAAAAAADE5MjY1MjUwNjX5zgaJ'},\n",
       "  36677493912291834122398212189024191338488555939161773948324000902099823998299,\n",
       "  6085,\n",
       "  698983191,\n",
       "  3,\n",
       "  {'type': 'cell',\n",
       "   'value': 'te6ccuEBAQEARQCKAIZCAEBqCRwgiz5UxNZIkiHmTNJc4NQ6wimyE/+37C5JHK10qLwbyNwAAAAAAAAAAAAAAAAAAAAAAAAxOTI2NTI1MDY1zxswsQ=='},\n",
       "  {'type': 'cellSlice', 'value': 'te6ccuEBAQEAAgAEAABmLc6k'}],\n",
       " [3503394350113822,\n",
       "  0,\n",
       "  {'type': 'cell',\n",
       "   'value': 'te6ccuECAgEAALgAAOYBcAHfiAELXvHRoGvSQCL5tMqMK5vm46jIkBbFPCIaeKYhsLVmxAUv1tIPUGD5rk63+HQIldqZpKMW5papR2c6Je1YCY71+7WGOJg9/+Tmmk+6PG/8ACrE9tk+bE8f6fVUpmDc3uBZTU0YuxrwtygAAL4oHAEAhkIAQGoJHCCLPlTE1kiSIeZM0lzg1DrCKbIT/7fsLkkcrXSovBvI3AAAAAAAAAAAAAAAAAAAAAAAADE5MjY1MjUwNjX5zgaJ'},\n",
       "  36677493912291834122398212189024191338488555939161773948324000902099823998299,\n",
       "  6085,\n",
       "  698983191,\n",
       "  {'type': 'cellSlice', 'value': 'te6ccuEBAQEAAgAEAABmLc6k'},\n",
       "  {'type': 'cell',\n",
       "   'value': 'te6ccuEBAQEARQCKAIZCAEBqCRwgiz5UxNZIkiHmTNJc4NQ6wimyE/+37C5JHK10qLwbyNwAAAAAAAAAAAAAAAAAAAAAAAAxOTI2NTI1MDY1zxswsQ=='},\n",
       "  3],\n",
       " [3503394350113822,\n",
       "  0,\n",
       "  {'type': 'cell',\n",
       "   'value': 'te6ccuECAgEAALgAAOYBcAHfiAELXvHRoGvSQCL5tMqMK5vm46jIkBbFPCIaeKYhsLVmxAUv1tIPUGD5rk63+HQIldqZpKMW5papR2c6Je1YCY71+7WGOJg9/+Tmmk+6PG/8ACrE9tk+bE8f6fVUpmDc3uBZTU0YuxrwtygAAL4oHAEAhkIAQGoJHCCLPlTE1kiSIeZM0lzg1DrCKbIT/7fsLkkcrXSovBvI3AAAAAAAAAAAAAAAAAAAAAAAADE5MjY1MjUwNjX5zgaJ'},\n",
       "  36677493912291834122398212189024191338488555939161773948324000902099823998299,\n",
       "  6085,\n",
       "  698983191,\n",
       "  {'type': 'cellSlice', 'value': 'te6ccuEBAQEAAgAEAABmLc6k'}],\n",
       " [3503394350113822,\n",
       "  0,\n",
       "  {'type': 'cell',\n",
       "   'value': 'te6ccuECAgEAALgAAOYBcAHfiAELXvHRoGvSQCL5tMqMK5vm46jIkBbFPCIaeKYhsLVmxAUv1tIPUGD5rk63+HQIldqZpKMW5papR2c6Je1YCY71+7WGOJg9/+Tmmk+6PG/8ACrE9tk+bE8f6fVUpmDc3uBZTU0YuxrwtygAAL4oHAEAhkIAQGoJHCCLPlTE1kiSIeZM0lzg1DrCKbIT/7fsLkkcrXSovBvI3AAAAAAAAAAAAAAAAAAAAAAAADE5MjY1MjUwNjX5zgaJ'},\n",
       "  36677493912291834122398212189024191338488555939161773948324000902099823998299,\n",
       "  6085,\n",
       "  698983191,\n",
       "  {'type': 'cellSlice', 'value': 'te6ccuEBAQEAAgAEAABmLc6k'}],\n",
       " [3503394350113822,\n",
       "  0,\n",
       "  {'type': 'cell',\n",
       "   'value': 'te6ccuECAgEAALgAAOYBcAHfiAELXvHRoGvSQCL5tMqMK5vm46jIkBbFPCIaeKYhsLVmxAUv1tIPUGD5rk63+HQIldqZpKMW5papR2c6Je1YCY71+7WGOJg9/+Tmmk+6PG/8ACrE9tk+bE8f6fVUpmDc3uBZTU0YuxrwtygAAL4oHAEAhkIAQGoJHCCLPlTE1kiSIeZM0lzg1DrCKbIT/7fsLkkcrXSovBvI3AAAAAAAAAAAAAAAAAAAAAAAADE5MjY1MjUwNjX5zgaJ'},\n",
       "  36677493912291834122398212189024191338488555939161773948324000902099823998299,\n",
       "  6085,\n",
       "  698983191,\n",
       "  {'type': 'cellSlice', 'value': 'te6ccuEBAQEAAgAEAABmLc6k'},\n",
       "  {'type': 'cellSlice', 'value': 'te6ccuEBAQEAAgAEAABmLc6k'}],\n",
       " [3503394350113822,\n",
       "  0,\n",
       "  {'type': 'cell',\n",
       "   'value': 'te6ccuECAgEAALgAAOYBcAHfiAELXvHRoGvSQCL5tMqMK5vm46jIkBbFPCIaeKYhsLVmxAUv1tIPUGD5rk63+HQIldqZpKMW5papR2c6Je1YCY71+7WGOJg9/+Tmmk+6PG/8ACrE9tk+bE8f6fVUpmDc3uBZTU0YuxrwtygAAL4oHAEAhkIAQGoJHCCLPlTE1kiSIeZM0lzg1DrCKbIT/7fsLkkcrXSovBvI3AAAAAAAAAAAAAAAAAAAAAAAADE5MjY1MjUwNjX5zgaJ'},\n",
       "  36677493912291834122398212189024191338488555939161773948324000902099823998299,\n",
       "  6085,\n",
       "  698983191,\n",
       "  {'type': 'cellSlice', 'value': 'te6ccuEBAQEAAgAEAABmLc6k'},\n",
       "  0],\n",
       " [3503394350113822,\n",
       "  0,\n",
       "  {'type': 'cell',\n",
       "   'value': 'te6ccuECAgEAALgAAOYBcAHfiAELXvHRoGvSQCL5tMqMK5vm46jIkBbFPCIaeKYhsLVmxAUv1tIPUGD5rk63+HQIldqZpKMW5papR2c6Je1YCY71+7WGOJg9/+Tmmk+6PG/8ACrE9tk+bE8f6fVUpmDc3uBZTU0YuxrwtygAAL4oHAEAhkIAQGoJHCCLPlTE1kiSIeZM0lzg1DrCKbIT/7fsLkkcrXSovBvI3AAAAAAAAAAAAAAAAAAAAAAAADE5MjY1MjUwNjX5zgaJ'},\n",
       "  36677493912291834122398212189024191338488555939161773948324000902099823998299,\n",
       "  6085,\n",
       "  698983191,\n",
       "  {'type': 'cellSlice', 'value': 'te6ccuEBAQEAAgAEAABmLc6k'}],\n",
       " [3503394350113822,\n",
       "  0,\n",
       "  {'type': 'cell',\n",
       "   'value': 'te6ccuECAgEAALgAAOYBcAHfiAELXvHRoGvSQCL5tMqMK5vm46jIkBbFPCIaeKYhsLVmxAUv1tIPUGD5rk63+HQIldqZpKMW5papR2c6Je1YCY71+7WGOJg9/+Tmmk+6PG/8ACrE9tk+bE8f6fVUpmDc3uBZTU0YuxrwtygAAL4oHAEAhkIAQGoJHCCLPlTE1kiSIeZM0lzg1DrCKbIT/7fsLkkcrXSovBvI3AAAAAAAAAAAAAAAAAAAAAAAADE5MjY1MjUwNjX5zgaJ'},\n",
       "  36677493912291834122398212189024191338488555939161773948324000902099823998299,\n",
       "  6085,\n",
       "  698983191],\n",
       " [3503394350113822,\n",
       "  0,\n",
       "  {'type': 'cell',\n",
       "   'value': 'te6ccuECAgEAALgAAOYBcAHfiAELXvHRoGvSQCL5tMqMK5vm46jIkBbFPCIaeKYhsLVmxAUv1tIPUGD5rk63+HQIldqZpKMW5papR2c6Je1YCY71+7WGOJg9/+Tmmk+6PG/8ACrE9tk+bE8f6fVUpmDc3uBZTU0YuxrwtygAAL4oHAEAhkIAQGoJHCCLPlTE1kiSIeZM0lzg1DrCKbIT/7fsLkkcrXSovBvI3AAAAAAAAAAAAAAAAAAAAAAAADE5MjY1MjUwNjX5zgaJ'},\n",
       "  36677493912291834122398212189024191338488555939161773948324000902099823998299,\n",
       "  698983191,\n",
       "  6085],\n",
       " [3503394350113822,\n",
       "  0,\n",
       "  {'type': 'cell',\n",
       "   'value': 'te6ccuECAgEAALgAAOYBcAHfiAELXvHRoGvSQCL5tMqMK5vm46jIkBbFPCIaeKYhsLVmxAUv1tIPUGD5rk63+HQIldqZpKMW5papR2c6Je1YCY71+7WGOJg9/+Tmmk+6PG/8ACrE9tk+bE8f6fVUpmDc3uBZTU0YuxrwtygAAL4oHAEAhkIAQGoJHCCLPlTE1kiSIeZM0lzg1DrCKbIT/7fsLkkcrXSovBvI3AAAAAAAAAAAAAAAAAAAAAAAADE5MjY1MjUwNjX5zgaJ'},\n",
       "  36677493912291834122398212189024191338488555939161773948324000902099823998299,\n",
       "  698983191,\n",
       "  6086],\n",
       " [3503394350113822,\n",
       "  0,\n",
       "  {'type': 'cell',\n",
       "   'value': 'te6ccuECAgEAALgAAOYBcAHfiAELXvHRoGvSQCL5tMqMK5vm46jIkBbFPCIaeKYhsLVmxAUv1tIPUGD5rk63+HQIldqZpKMW5papR2c6Je1YCY71+7WGOJg9/+Tmmk+6PG/8ACrE9tk+bE8f6fVUpmDc3uBZTU0YuxrwtygAAL4oHAEAhkIAQGoJHCCLPlTE1kiSIeZM0lzg1DrCKbIT/7fsLkkcrXSovBvI3AAAAAAAAAAAAAAAAAAAAAAAADE5MjY1MjUwNjX5zgaJ'},\n",
       "  36677493912291834122398212189024191338488555939161773948324000902099823998299,\n",
       "  698983191,\n",
       "  6086,\n",
       "  {'type': 'builder', 'value': 'te6ccuEBAQEAAgAEAABmLc6k'}],\n",
       " [3503394350113822,\n",
       "  0,\n",
       "  {'type': 'cell',\n",
       "   'value': 'te6ccuECAgEAALgAAOYBcAHfiAELXvHRoGvSQCL5tMqMK5vm46jIkBbFPCIaeKYhsLVmxAUv1tIPUGD5rk63+HQIldqZpKMW5papR2c6Je1YCY71+7WGOJg9/+Tmmk+6PG/8ACrE9tk+bE8f6fVUpmDc3uBZTU0YuxrwtygAAL4oHAEAhkIAQGoJHCCLPlTE1kiSIeZM0lzg1DrCKbIT/7fsLkkcrXSovBvI3AAAAAAAAAAAAAAAAAAAAAAAADE5MjY1MjUwNjX5zgaJ'},\n",
       "  36677493912291834122398212189024191338488555939161773948324000902099823998299,\n",
       "  698983191,\n",
       "  {'type': 'builder', 'value': 'te6ccuEBAQEABgAMAAgAABfGu6D0cg=='}],\n",
       " [3503394350113822,\n",
       "  0,\n",
       "  {'type': 'cell',\n",
       "   'value': 'te6ccuECAgEAALgAAOYBcAHfiAELXvHRoGvSQCL5tMqMK5vm46jIkBbFPCIaeKYhsLVmxAUv1tIPUGD5rk63+HQIldqZpKMW5papR2c6Je1YCY71+7WGOJg9/+Tmmk+6PG/8ACrE9tk+bE8f6fVUpmDc3uBZTU0YuxrwtygAAL4oHAEAhkIAQGoJHCCLPlTE1kiSIeZM0lzg1DrCKbIT/7fsLkkcrXSovBvI3AAAAAAAAAAAAAAAAAAAAAAAADE5MjY1MjUwNjX5zgaJ'},\n",
       "  36677493912291834122398212189024191338488555939161773948324000902099823998299,\n",
       "  {'type': 'builder', 'value': 'te6ccuEBAQEACgAUABAAABfGKamjF+Eov0M='}],\n",
       " [3503394350113822,\n",
       "  0,\n",
       "  {'type': 'cell',\n",
       "   'value': 'te6ccuECAgEAALgAAOYBcAHfiAELXvHRoGvSQCL5tMqMK5vm46jIkBbFPCIaeKYhsLVmxAUv1tIPUGD5rk63+HQIldqZpKMW5papR2c6Je1YCY71+7WGOJg9/+Tmmk+6PG/8ACrE9tk+bE8f6fVUpmDc3uBZTU0YuxrwtygAAL4oHAEAhkIAQGoJHCCLPlTE1kiSIeZM0lzg1DrCKbIT/7fsLkkcrXSovBvI3AAAAAAAAAAAAAAAAAAAAAAAADE5MjY1MjUwNjX5zgaJ'},\n",
       "  {'type': 'builder',\n",
       "   'value': 'te6ccuEBAQEAKgBUAFAAABfGKamjF1EWudQc3BYnnT5cgwKbbuOMnLoj2nddsBRI8MyLn7VbOjouxQ=='}],\n",
       " [3503394350113822,\n",
       "  0,\n",
       "  {'type': 'cell',\n",
       "   'value': 'te6ccuECAgEAALgAAOYBcAHfiAELXvHRoGvSQCL5tMqMK5vm46jIkBbFPCIaeKYhsLVmxAUv1tIPUGD5rk63+HQIldqZpKMW5papR2c6Je1YCY71+7WGOJg9/+Tmmk+6PG/8ACrE9tk+bE8f6fVUpmDc3uBZTU0YuxrwtygAAL4oHAEAhkIAQGoJHCCLPlTE1kiSIeZM0lzg1DrCKbIT/7fsLkkcrXSovBvI3AAAAAAAAAAAAAAAAAAAAAAAADE5MjY1MjUwNjX5zgaJ'},\n",
       "  {'type': 'cell',\n",
       "   'value': 'te6ccuEBAQEAKgBUAFAAABfGKamjF1EWudQc3BYnnT5cgwKbbuOMnLoj2nddsBRI8MyLn7VbOjouxQ=='}],\n",
       " [3503394350113822,\n",
       "  0,\n",
       "  {'type': 'cell',\n",
       "   'value': 'te6ccuECAgEAALgAAOYBcAHfiAELXvHRoGvSQCL5tMqMK5vm46jIkBbFPCIaeKYhsLVmxAUv1tIPUGD5rk63+HQIldqZpKMW5papR2c6Je1YCY71+7WGOJg9/+Tmmk+6PG/8ACrE9tk+bE8f6fVUpmDc3uBZTU0YuxrwtygAAL4oHAEAhkIAQGoJHCCLPlTE1kiSIeZM0lzg1DrCKbIT/7fsLkkcrXSovBvI3AAAAAAAAAAAAAAAAAAAAAAAADE5MjY1MjUwNjX5zgaJ'}]]"
      ]
     },
     "execution_count": 45,
     "metadata": {},
     "output_type": "execute_result"
    }
   ],
   "source": [
    "tvm.get_stacks()"
   ]
  },
  {
   "cell_type": "code",
   "execution_count": null,
   "id": "15b22267",
   "metadata": {},
   "outputs": [],
   "source": []
  }
 ],
 "metadata": {
  "kernelspec": {
   "display_name": "Python 3 (ipykernel)",
   "language": "python",
   "name": "python3"
  },
  "language_info": {
   "codemirror_mode": {
    "name": "ipython",
    "version": 3
   },
   "file_extension": ".py",
   "mimetype": "text/x-python",
   "name": "python",
   "nbconvert_exporter": "python",
   "pygments_lexer": "ipython3",
   "version": "3.9.12"
  }
 },
 "nbformat": 4,
 "nbformat_minor": 5
}
