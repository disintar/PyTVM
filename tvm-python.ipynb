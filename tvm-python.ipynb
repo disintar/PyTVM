{
 "cells": [
  {
   "cell_type": "code",
   "execution_count": null,
   "id": "33ae7c28",
   "metadata": {},
   "outputs": [],
   "source": [
    "!pip install tvm_valuetypes"
   ]
  },
  {
   "cell_type": "code",
   "execution_count": 1,
   "id": "655f3256",
   "metadata": {},
   "outputs": [],
   "source": [
    "#%load_ext autoreload\n",
    "#%autoreload 2\n",
    "from tvm_python import PyTVM, method_name_to_id, code_disasseble\n",
    "import codecs\n",
    "from tvm_valuetypes import Cell, deserialize_boc"
   ]
  },
  {
   "cell_type": "markdown",
   "id": "a8fbd55b",
   "metadata": {},
   "source": [
    "# Just code"
   ]
  },
  {
   "cell_type": "code",
   "execution_count": 2,
   "id": "7519f77c",
   "metadata": {},
   "outputs": [
    {
     "data": {
      "text/plain": [
       "[1]"
      ]
     },
     "execution_count": 2,
     "metadata": {},
     "output_type": "execute_result"
    }
   ],
   "source": [
    "PyTVM(code=\"te6ccgEBAQEAAwAAAnE=\").run_vm()"
   ]
  },
  {
   "cell_type": "code",
   "execution_count": 3,
   "id": "d678d6fa",
   "metadata": {},
   "outputs": [
    {
     "data": {
      "text/plain": [
       "[2]"
      ]
     },
     "execution_count": 3,
     "metadata": {},
     "output_type": "execute_result"
    }
   ],
   "source": [
    "SUB = \"te6ccgEBAQEAAwAAAqE=\"\n",
    "a = 3\n",
    "b = 1\n",
    "\n",
    "tvm = PyTVM(code=SUB)\n",
    "tvm.set_stack([a, b])\n",
    "tvm.run_vm()"
   ]
  },
  {
   "cell_type": "markdown",
   "id": "9192c0bc",
   "metadata": {},
   "source": [
    "# Disassembler"
   ]
  },
  {
   "cell_type": "code",
   "execution_count": 4,
   "id": "0cc5e117",
   "metadata": {},
   "outputs": [
    {
     "data": {
      "text/plain": [
       "'PUSHINT 1\\n'"
      ]
     },
     "execution_count": 4,
     "metadata": {},
     "output_type": "execute_result"
    }
   ],
   "source": [
    "code_disasseble(\"te6ccgEBAQEAAwAAAnE=\")"
   ]
  },
  {
   "cell_type": "markdown",
   "id": "f3815070",
   "metadata": {},
   "source": [
    "# Easy test examples"
   ]
  },
  {
   "cell_type": "code",
   "execution_count": 5,
   "id": "c7747bab",
   "metadata": {},
   "outputs": [
    {
     "name": "stdout",
     "output_type": "stream",
     "text": [
      "DEBUG: Start parse code\n",
      "DEBUG: Code parsed success\n",
      "Code loaded: 8810E73F1AA91EC4618658513623A56A18B5E2B2FDCA2F2A22000D2A14001B89\n",
      "DEBUG: Use code: 8810E73F1AA91EC4618658513623A56A18B5E2B2FDCA2F2A22000D2A14001B89\n",
      "DEBUG: Load cp0\n",
      "[ 4][t 0][2022-10-21 16:23:10.647932][arithops.cpp:34]\texecute PUSHINT 1\n",
      "\n",
      "[ 4][t 0][2022-10-21 16:23:10.648107][vm.cpp:450]\texecute implicit RET\n",
      "\n",
      "DEBUG: VM terminated with exit code -1\n",
      "DEBUG: Parse stack item #0\n",
      "Got 1 from TVM: 1\n"
     ]
    },
    {
     "name": "stderr",
     "output_type": "stream",
     "text": [
      " [ ] \n",
      " [ 1 ] \n"
     ]
    }
   ],
   "source": [
    "# Simple PUSHINT 1\n",
    "# You can define log_level if you want more stuff\n",
    "tvm_result = PyTVM(code=\"te6ccgEBAQEAAwAAAnE=\", log_level=4).run_vm()\n",
    "assert tvm_result[0] == 1\n",
    "\n",
    "print(f\"Got 1 from TVM: {tvm_result[0]}\")"
   ]
  },
  {
   "cell_type": "code",
   "execution_count": 6,
   "id": "b5809ec0",
   "metadata": {},
   "outputs": [
    {
     "data": {
      "text/plain": [
       "[1]"
      ]
     },
     "execution_count": 6,
     "metadata": {},
     "output_type": "execute_result"
    }
   ],
   "source": [
    "tvm_result"
   ]
  },
  {
   "cell_type": "code",
   "execution_count": 7,
   "id": "f4dee228",
   "metadata": {},
   "outputs": [
    {
     "data": {
      "text/plain": [
       "[1,\n",
       " {'type': 'continuation',\n",
       "  'value': 'te6ccuEBAgEADgASHAEMBAAAAAYAAQAGce1DB7kzoA=='}]"
      ]
     },
     "execution_count": 7,
     "metadata": {},
     "output_type": "execute_result"
    }
   ],
   "source": [
    "# c3 is continuation, but we just serialize it to base64 BOC\n",
    "# PUSHINT 1 PUSH c3\n",
    "tvm_result = PyTVM(code=\"te6ccgEBAQEABQAABnHtQw==\").run_vm()\n",
    "tvm_result"
   ]
  },
  {
   "cell_type": "code",
   "execution_count": 8,
   "id": "b2bbde25",
   "metadata": {},
   "outputs": [
    {
     "data": {
      "text/plain": [
       "<Cell refs_num: 1, data: b'\\x04\\x00\\x00\\x00\\x06\\x00'>"
      ]
     },
     "execution_count": 8,
     "metadata": {},
     "output_type": "execute_result"
    }
   ],
   "source": [
    "cell = Cell()\n",
    "b64 = tvm_result[1]['value']\n",
    "boc = codecs.decode(codecs.encode(b64, 'utf8'), 'base64')\n",
    "deserialize_boc(boc)"
   ]
  },
  {
   "cell_type": "code",
   "execution_count": 9,
   "id": "2e59a38a",
   "metadata": {},
   "outputs": [
    {
     "data": {
      "text/plain": [
       "[124711402,\n",
       " 0,\n",
       " 0,\n",
       " 0,\n",
       " 0,\n",
       " 0,\n",
       " 0,\n",
       " [100000, None],\n",
       " {'type': 'cellSlice', 'value': 'te6ccuEBAQEACgAUABAAAAAAAAAAALfVArM='},\n",
       " None]"
      ]
     },
     "execution_count": 9,
     "metadata": {},
     "output_type": "execute_result"
    }
   ],
   "source": [
    "# c7 push (tuple)\n",
    "tvm_result = PyTVM(code=\"te6ccgEBAQEABAAABO1H\").run_vm()\n",
    "tvm_result[0] # just default c7"
   ]
  },
  {
   "cell_type": "markdown",
   "id": "950705d6",
   "metadata": {},
   "source": [
    "## Change c7"
   ]
  },
  {
   "cell_type": "code",
   "execution_count": 10,
   "id": "fb9d4961",
   "metadata": {},
   "outputs": [],
   "source": [
    "# c7 push (tuple)\n",
    "tvm = PyTVM(code=\"te6ccgEBAQEABAAABO1H\")"
   ]
  },
  {
   "cell_type": "code",
   "execution_count": 11,
   "id": "647451d2",
   "metadata": {},
   "outputs": [],
   "source": [
    "tvm.set_c7(translt=100,\n",
    "           unixtime=179, \n",
    "           globalConfig=\"te6ccgEBAQEABAAABO1H\",\n",
    "           randseed=100, \n",
    "           address=\"EQBq5JLG8-1juc-N95IFBnOM2NGrcJsMoFYFoWH-DaVJ2lVw\",\n",
    "           balanceGrams=100000000)"
   ]
  },
  {
   "cell_type": "code",
   "execution_count": 12,
   "id": "74f367f5",
   "metadata": {},
   "outputs": [
    {
     "data": {
      "text/plain": [
       "[[124711402,\n",
       "  0,\n",
       "  0,\n",
       "  179,\n",
       "  0,\n",
       "  100,\n",
       "  100,\n",
       "  [100000000, None],\n",
       "  {'type': 'cellSlice',\n",
       "   'value': 'te6ccuEBAQEAJABIAEOADVySWN59rHc58b7yQKDOcZsaNW4TYZQKwLQsP8G0qTtQ5qaveg=='},\n",
       "  {'type': 'cell', 'value': 'te6ccuEBAQEABAAIAATtR+R0b2c='}]]"
      ]
     },
     "execution_count": 12,
     "metadata": {},
     "output_type": "execute_result"
    }
   ],
   "source": [
    "tvm.run_vm()"
   ]
  },
  {
   "cell_type": "markdown",
   "id": "73174468",
   "metadata": {},
   "source": [
    "## Get detailed result"
   ]
  },
  {
   "cell_type": "code",
   "execution_count": 13,
   "id": "7aff416d",
   "metadata": {},
   "outputs": [
    {
     "name": "stdout",
     "output_type": "stream",
     "text": [
      "Exit code:  -1 \n",
      "C5:  te6ccuEBAQEAAgAEAABmLc6k \n",
      "Gas credit:  0 \n",
      "Gas used:  31 \n",
      "C4:  te6ccuEBAQEAAgAEAABmLc6k \n",
      "VM Steps:  2 \n",
      "VM final hash:  0000000000000000000000000000000000000000000000000000000000000000 \n",
      "VM init hash:  0000000000000000000000000000000000000000000000000000000000000000 \n",
      "VM success:  True\n"
     ]
    }
   ],
   "source": [
    "print(\"Exit code: \", tvm.exit_code,\n",
    "\"\\nC5: \", tvm.actions, \n",
    "\"\\nGas credit: \",tvm.gas_credit, \n",
    "\"\\nGas used: \",tvm.gas_used, \n",
    "\"\\nC4: \",tvm.new_data, \n",
    "\"\\nVM Steps: \",tvm.vm_steps,\n",
    "\"\\nVM final hash: \",tvm.vm_final_state_hash,\n",
    "\"\\nVM init hash: \",tvm.vm_init_state_hash,\n",
    "\"\\nVM success: \",tvm.success)"
   ]
  },
  {
   "cell_type": "markdown",
   "id": "def3bba6",
   "metadata": {},
   "source": [
    "## Set stack"
   ]
  },
  {
   "cell_type": "code",
   "execution_count": 14,
   "id": "b6631d0b",
   "metadata": {},
   "outputs": [
    {
     "name": "stdout",
     "output_type": "stream",
     "text": [
      "DEBUG: Start parse code\n",
      "DEBUG: Code parsed success\n",
      "Code loaded: 2F306EC2BCE112068F472B947E0F6524ADA3F47624DE1EBB0C2BC9304661640C\n"
     ]
    }
   ],
   "source": [
    "# c7 push (tuple)\n",
    "tvm = PyTVM(code=\"te6ccgEBAQEABAAABO1H\", log_level=6)"
   ]
  },
  {
   "cell_type": "code",
   "execution_count": 15,
   "id": "a3752cde",
   "metadata": {},
   "outputs": [],
   "source": [
    "# actually python3 & TON have really big integers :))\n",
    "tvm.set_stack([\n",
    "    190009329293929392939239293293929329392949949949299008888888880999999888, \n",
    "    {'type': \"cell\",\n",
    "     'value': 'te6ccgEBAQEABAAABO1H'}, \n",
    "    [{'type': \"cellSlice\",\n",
    "     'value': 'te6ccgEBAQEABAAABO1H'},\n",
    "     12312312313213132,\n",
    "     [1231232132, 1321231231, 57, 179]\n",
    "    ]])"
   ]
  },
  {
   "cell_type": "code",
   "execution_count": 16,
   "id": "d681060b",
   "metadata": {},
   "outputs": [
    {
     "name": "stdout",
     "output_type": "stream",
     "text": [
      "DEBUG: Use code: 2F306EC2BCE112068F472B947E0F6524ADA3F47624DE1EBB0C2BC9304661640C\n",
      "DEBUG: Load cp0\n",
      "[ 4][t 0][2022-10-21 16:23:20.758002][contops.cpp:694]\texecute PUSH c7\n",
      "\n",
      "[ 4][t 0][2022-10-21 16:23:20.758371][vm.cpp:450]\texecute implicit RET\n",
      "\n",
      "DEBUG: VM terminated with exit code -1\n",
      "DEBUG: Parse stack item #3\n",
      "DEBUG: Parse stack item #2\n",
      "DEBUG: Parse stack item #1\n",
      "DEBUG: Parse stack item #0\n"
     ]
    },
    {
     "name": "stderr",
     "output_type": "stream",
     "text": [
      " [ 190009329293929392939239293293929329392949949949299008888888880999999888 C{2F306EC2BCE112068F472B947E0F6524ADA3F47624DE1EBB0C2BC9304661640C} [CS{Cell{0004ed47} bits: 0..16; refs: 0..0} 12312312313213132 [1231232132 1321231231 57 179]] ] \n",
      " [ 190009329293929392939239293293929329392949949949299008888888880999999888 C{2F306EC2BCE112068F472B947E0F6524ADA3F47624DE1EBB0C2BC9304661640C} [CS{Cell{0004ed47} bits: 0..16; refs: 0..0} 12312312313213132 [1231232132 1321231231 57 179]] [124711402 0 0 0 0 0 0 (100000) CS{Cell{00100000000000000000} bits: 0..64; refs: 0..0} ()] ] \n"
     ]
    },
    {
     "data": {
      "text/plain": [
       "[190009329293929392939239293293929329392949949949299008888888880999999888,\n",
       " {'type': 'cell', 'value': 'te6ccuEBAQEABAAIAATtR+R0b2c='},\n",
       " [{'type': 'cellSlice', 'value': 'te6ccuEBAQEABAAIAATtR+R0b2c='},\n",
       "  12312312313213132,\n",
       "  [1231232132, 1321231231, 57, 179]],\n",
       " [124711402,\n",
       "  0,\n",
       "  0,\n",
       "  0,\n",
       "  0,\n",
       "  0,\n",
       "  0,\n",
       "  [100000, None],\n",
       "  {'type': 'cellSlice', 'value': 'te6ccuEBAQEACgAUABAAAAAAAAAAALfVArM='},\n",
       "  None]]"
      ]
     },
     "execution_count": 16,
     "metadata": {},
     "output_type": "execute_result"
    }
   ],
   "source": [
    "tvm.run_vm()"
   ]
  },
  {
   "cell_type": "markdown",
   "id": "a05f3b21",
   "metadata": {},
   "source": [
    "## C4 (Data) usage example"
   ]
  },
  {
   "cell_type": "code",
   "execution_count": 17,
   "id": "fdc0b315",
   "metadata": {},
   "outputs": [
    {
     "name": "stdout",
     "output_type": "stream",
     "text": [
      "DEBUG: Start parse code\n",
      "DEBUG: Code parsed success\n",
      "Code loaded: 893C09B4BEE71FD2D35901C5D2BE014A40E6D5613F3DAF187E1345201C5A5E11\n",
      "DEBUG: Start parse data\n",
      "DEBUG: Data parsed success\n",
      "Data loaded: E2851C5358AF7F0B5C101ED925CAC97CE1F59B117C6C8E1B9791A0B618C7C449\n"
     ]
    }
   ],
   "source": [
    "# C4 PUSH CTOS 64 LDU\n",
    "tvm = PyTVM(code=\"te6ccgEBAQEABwAACu1E0NM/\", \n",
    "            data=\"te6ccgEBAQEACgAAEAAAAAAAAACz\", \n",
    "            log_level=2)"
   ]
  },
  {
   "cell_type": "code",
   "execution_count": 18,
   "id": "f2802b3b",
   "metadata": {},
   "outputs": [
    {
     "name": "stdout",
     "output_type": "stream",
     "text": [
      "DEBUG: Use code: 893C09B4BEE71FD2D35901C5D2BE014A40E6D5613F3DAF187E1345201C5A5E11\n",
      "DEBUG: Load cp0\n",
      "[ 4][t 0][2022-10-21 16:23:21.387238][contops.cpp:694]\texecute PUSH c4\n",
      "\n",
      "[ 4][t 0][2022-10-21 16:23:21.387441][cellops.cpp:875]\texecute CTOS\n",
      "\n",
      "[ 4][t 0][2022-10-21 16:23:21.387590][cellops.cpp:940]\texecute LDU 64\n",
      "\n",
      "[ 4][t 0][2022-10-21 16:23:21.387702][vm.cpp:450]\texecute implicit RET\n",
      "\n",
      "DEBUG: VM terminated with exit code -1\n",
      "DEBUG: Parse stack item #1\n",
      "DEBUG: Parse stack item #0\n"
     ]
    },
    {
     "data": {
      "text/plain": [
       "[179, {'type': 'cellSlice', 'value': 'te6ccuEBAQEAAgAEAABmLc6k'}]"
      ]
     },
     "execution_count": 18,
     "metadata": {},
     "output_type": "execute_result"
    }
   ],
   "source": [
    "# You can see, that 179 was loaded from c4, and cellSlice on stack\n",
    "tvm.run_vm()"
   ]
  },
  {
   "cell_type": "markdown",
   "id": "12f438d3",
   "metadata": {},
   "source": [
    "## Gas Limit "
   ]
  },
  {
   "cell_type": "code",
   "execution_count": 19,
   "id": "1c7e8c29",
   "metadata": {},
   "outputs": [
    {
     "name": "stdout",
     "output_type": "stream",
     "text": [
      "DEBUG: Start parse code\n",
      "DEBUG: Code parsed success\n",
      "Code loaded: 893C09B4BEE71FD2D35901C5D2BE014A40E6D5613F3DAF187E1345201C5A5E11\n",
      "DEBUG: Start parse data\n",
      "DEBUG: Data parsed success\n",
      "Data loaded: E2851C5358AF7F0B5C101ED925CAC97CE1F59B117C6C8E1B9791A0B618C7C449\n"
     ]
    }
   ],
   "source": [
    "# C4 PUSH CTOS 64 LDU\n",
    "tvm = PyTVM(code=\"te6ccgEBAQEABwAACu1E0NM/\", \n",
    "            data=\"te6ccgEBAQEACgAAEAAAAAAAAACz\", \n",
    "            log_level=2)"
   ]
  },
  {
   "cell_type": "code",
   "execution_count": 20,
   "id": "8b41edd7",
   "metadata": {},
   "outputs": [
    {
     "name": "stdout",
     "output_type": "stream",
     "text": [
      "DEBUG: Use code: 893C09B4BEE71FD2D35901C5D2BE014A40E6D5613F3DAF187E1345201C5A5E11\n",
      "DEBUG: Load cp0\n",
      "[ 4][t 0][2022-10-21 16:23:21.891406][contops.cpp:694]\texecute PUSH c4\n",
      "\n",
      "[ 4][t 0][2022-10-21 16:23:21.893487][cellops.cpp:875]\texecute CTOS\n",
      "\n",
      "[ 4][t 0][2022-10-21 16:23:21.897457][vm.cpp:488]\tunhandled out-of-gas exception: gas consumed=144, limit=26\n",
      "\n",
      "DEBUG: VM terminated with exit code 13\n",
      "DEBUG: Parse stack item #0\n"
     ]
    },
    {
     "data": {
      "text/plain": [
       "[144]"
      ]
     },
     "execution_count": 20,
     "metadata": {},
     "output_type": "execute_result"
    }
   ],
   "source": [
    "tvm.set_gasLimit(26) # You can also pass max gas set_gasLimit(gas_limit=26, gas_max=26)\n",
    "tvm.run_vm() # out of gas"
   ]
  },
  {
   "cell_type": "markdown",
   "id": "0802a19e",
   "metadata": {},
   "source": [
    "## Libs \n",
    "\n",
    "This is just load example, they will pass to VM, but I'm little bussy to get code of loading libs, check out [akifoq](https://github.com/akifoq) github"
   ]
  },
  {
   "cell_type": "code",
   "execution_count": 21,
   "id": "a9012dd9",
   "metadata": {},
   "outputs": [],
   "source": [
    "tvm.set_libs([{'type': 'cell', 'value': 'te6ccgEBAQEABwAACu1E0NM/'}])"
   ]
  },
  {
   "cell_type": "markdown",
   "id": "95d922aa",
   "metadata": {},
   "source": [
    "## Stack dump log Level"
   ]
  },
  {
   "cell_type": "code",
   "execution_count": 22,
   "id": "279ac9bc",
   "metadata": {},
   "outputs": [
    {
     "name": "stdout",
     "output_type": "stream",
     "text": [
      "DEBUG: Start parse code\n",
      "DEBUG: Code parsed success\n",
      "Code loaded: 893C09B4BEE71FD2D35901C5D2BE014A40E6D5613F3DAF187E1345201C5A5E11\n",
      "DEBUG: Start parse data\n",
      "DEBUG: Data parsed success\n",
      "Data loaded: E2851C5358AF7F0B5C101ED925CAC97CE1F59B117C6C8E1B9791A0B618C7C449\n"
     ]
    }
   ],
   "source": [
    "# C4 PUSH CTOS 64 LDU\n",
    "tvm = PyTVM(code=\"te6ccgEBAQEABwAACu1E0NM/\", \n",
    "            data=\"te6ccgEBAQEACgAAEAAAAAAAAACz\", \n",
    "            log_level=4)"
   ]
  },
  {
   "cell_type": "code",
   "execution_count": 23,
   "id": "a4171b0e",
   "metadata": {},
   "outputs": [
    {
     "name": "stdout",
     "output_type": "stream",
     "text": [
      "DEBUG: Use code: 893C09B4BEE71FD2D35901C5D2BE014A40E6D5613F3DAF187E1345201C5A5E11\n",
      "DEBUG: Load cp0\n",
      "[ 4][t 0][2022-10-21 16:23:22.907896][contops.cpp:694]\texecute PUSH c4\n",
      "\n",
      "[ 4][t 0][2022-10-21 16:23:22.907979][cellops.cpp:875]\texecute CTOS\n",
      "\n",
      "[ 4][t 0][2022-10-21 16:23:22.908087][cellops.cpp:940]\texecute LDU 64\n",
      "\n",
      "[ 4][t 0][2022-10-21 16:23:22.908188][vm.cpp:450]\texecute implicit RET\n",
      "\n",
      "DEBUG: VM terminated with exit code -1\n",
      "DEBUG: Parse stack item #1\n",
      "DEBUG: Parse stack item #0\n"
     ]
    },
    {
     "name": "stderr",
     "output_type": "stream",
     "text": [
      " [ ] \n",
      " [ C{E2851C5358AF7F0B5C101ED925CAC97CE1F59B117C6C8E1B9791A0B618C7C449} ] \n",
      " [ CS{Cell{001000000000000000b3} bits: 0..64; refs: 0..0} ] \n",
      " [ 179 CS{Cell{001000000000000000b3} bits: 64..64; refs: 0..0} ] \n"
     ]
    },
    {
     "data": {
      "text/plain": [
       "[179, {'type': 'cellSlice', 'value': 'te6ccuEBAQEAAgAEAABmLc6k'}]"
      ]
     },
     "execution_count": 23,
     "metadata": {},
     "output_type": "execute_result"
    }
   ],
   "source": [
    "tvm.run_vm()"
   ]
  },
  {
   "cell_type": "markdown",
   "id": "93d62a2e",
   "metadata": {},
   "source": [
    "## Allow debug & same c3"
   ]
  },
  {
   "cell_type": "code",
   "execution_count": 24,
   "id": "ad42cc34",
   "metadata": {},
   "outputs": [
    {
     "name": "stdout",
     "output_type": "stream",
     "text": [
      "DEBUG: Start parse code\n",
      "DEBUG: Code parsed success\n",
      "Code loaded: 893C09B4BEE71FD2D35901C5D2BE014A40E6D5613F3DAF187E1345201C5A5E11\n",
      "DEBUG: Start parse data\n",
      "DEBUG: Data parsed success\n",
      "Data loaded: E2851C5358AF7F0B5C101ED925CAC97CE1F59B117C6C8E1B9791A0B618C7C449\n"
     ]
    }
   ],
   "source": [
    "# C4 PUSH CTOS 64 LDU\n",
    "tvm = PyTVM(code=\"te6ccgEBAQEABwAACu1E0NM/\", \n",
    "            data=\"te6ccgEBAQEACgAAEAAAAAAAAACz\", \n",
    "            log_level=4,\n",
    "            allow_debug=True,\n",
    "            same_c3=False)"
   ]
  },
  {
   "cell_type": "code",
   "execution_count": 25,
   "id": "32021009",
   "metadata": {},
   "outputs": [
    {
     "name": "stdout",
     "output_type": "stream",
     "text": [
      "DEBUG: Use code: 893C09B4BEE71FD2D35901C5D2BE014A40E6D5613F3DAF187E1345201C5A5E11\n",
      "DEBUG: Load cp0\n",
      "[ 4][t 0][2022-10-21 16:23:23.757686][contops.cpp:694]\texecute PUSH c4\n",
      "\n",
      "[ 4][t 0][2022-10-21 16:23:23.757900][cellops.cpp:875]\texecute CTOS\n",
      "\n",
      "[ 4][t 0][2022-10-21 16:23:23.758114][cellops.cpp:940]\texecute LDU 64\n",
      "\n",
      "[ 4][t 0][2022-10-21 16:23:23.758275][vm.cpp:450]\texecute implicit RET\n",
      "\n",
      "DEBUG: VM terminated with exit code -1\n",
      "DEBUG: Parse stack item #1\n",
      "DEBUG: Parse stack item #0\n"
     ]
    },
    {
     "name": "stderr",
     "output_type": "stream",
     "text": [
      " [ ] \n",
      " [ C{E2851C5358AF7F0B5C101ED925CAC97CE1F59B117C6C8E1B9791A0B618C7C449} ] \n",
      " [ CS{Cell{001000000000000000b3} bits: 0..64; refs: 0..0} ] \n",
      " [ 179 CS{Cell{001000000000000000b3} bits: 64..64; refs: 0..0} ] \n"
     ]
    },
    {
     "data": {
      "text/plain": [
       "[179, {'type': 'cellSlice', 'value': 'te6ccuEBAQEAAgAEAABmLc6k'}]"
      ]
     },
     "execution_count": 25,
     "metadata": {},
     "output_type": "execute_result"
    }
   ],
   "source": [
    "tvm.run_vm()"
   ]
  },
  {
   "cell_type": "markdown",
   "id": "db452389",
   "metadata": {},
   "source": [
    "## Accout get methods"
   ]
  },
  {
   "cell_type": "code",
   "execution_count": 26,
   "id": "0d9c2bac",
   "metadata": {},
   "outputs": [
    {
     "name": "stdout",
     "output_type": "stream",
     "text": [
      "DEBUG: Start parse code\n",
      "DEBUG: Code parsed success\n",
      "Code loaded: FEB5FF6820E2FF0D9483E7E0D62C817D846789FB4AE580C878866D959DABD5C0\n",
      "DEBUG: Start parse data\n",
      "DEBUG: Data parsed success\n",
      "Data loaded: E59BCE6701021EA2EA693DED7D9BB6D0193BE042C424DBD91DF5F7D5F752EFFD\n"
     ]
    }
   ],
   "source": [
    "# get account code & data from dton.io\n",
    "tvm = PyTVM(code=\"te6ccuECFAEAAtQAABoAJAAuATICIAIqAqYDNAM+A5wDpgO8A/4ECAQmBEQEtgUqBZoFqAEU/wD0pBP0vPLICwECASACAwIBSAQFBPjygwjXGCDTH9Mf0x8C+CO78mTtRNDTH9Mf0//0BNFRQ7ryoVFRuvKiBfkBVBBk+RDyo/gAJKTIyx9SQMsfUjDL/1IQ9ADJ7VT4DwHTByHAAJ9sUZMg10qW0wfUAvsA6DDgIcAB4wAhwALjAAHAA5Ew4w0DpMjLHxLLH8v/EBESEwLm0AHQ0wMhcbCSXwTgItdJwSCSXwTgAtMfIYIQcGx1Z70ighBkc3RyvbCSXwXgA/pAMCD6RAHIygfL/8nQ7UTQgQFA1yH0BDBcgQEI9ApvoTGzkl8H4AXTP8glghBwbHVnupI4MOMNA4IQZHN0crqSXwbjDQYHAgEgCAkAeAH6APQEMPgnbyIwUAqhIb7y4FCCEHBsdWeDHrFwgBhQBMsFJs8WWPoCGfQAy2kXyx9SYMs/IMmAQPsABgCKUASBAQj0WTDtRNCBAUDXIMgBzxb0AMntVAFysI4jghBkc3Rygx6xcIAYUAXLBVADzxYj+gITy2rLH8s/yYBA+wCSXwPiAgEgCgsAWb0kK29qJoQICga5D6AhhHDUCAhHpJN9KZEM5pA+n/mDeBKAG3gQFImHFZ8xhAIBWAwNABG4yX7UTQ1wsfgAPbKd+1E0IEBQNch9AQwAsjKB8v/ydABgQEI9ApvoTGACASAODwAZrc52omhAIGuQ64X/wAAZrx32omhAEGuQ64WPwABu0gf6ANTUIvkABcjKBxXL/8nQd3SAGMjLBcsCIs8WUAX6AhTLaxLMzMlz+wDIQBSBAQj0UfKnAgBwgQEI1xj6ANM/yFQgR4EBCPRR8qeCEG5vdGVwdIAYyMsFywJQBs8WUAT6AhTLahLLH8s/yXP7AAIAbIEBCNcY+gDTPzBSJIEBCPRZ8qeCEGRzdHJwdIAYyMsFywJQBc8WUAP6AhPLassfEss/yXP7AAAK9ADJ7VQ32i8B\", \n",
    "            data=\"te6ccuEBBAEAegBYZKz0AVEAAABfKamjFwar2UnSv7yFJMcBHp8S/8es5VZ1DSsQduQyjHhdbU9awAECA8CIAgMAQ7/9RH6C0XtQV/uceTSwYGqZEYjcVUKe3D2prT8KNc4u5EAAQ7/Nan0TcqBqB20NuDhtNOk60TWn6tZwV5g88o9fm8cwK8CwqgZg\", \n",
    "            log_level=4)"
   ]
  },
  {
   "cell_type": "code",
   "execution_count": 27,
   "id": "6eb43721",
   "metadata": {},
   "outputs": [],
   "source": [
    "tvm.set_c7(address=\"EQCI5yVsMccJDqrKH9knYAp0avK5fh-UBZ5Ns1xWOvIA2UKl\", # some contracts may use MYADDR in code\n",
    "           balanceGrams=100000000, # or trying get own balance from c7\n",
    "           randseed=1) # or maybe you use random in your contract :)"
   ]
  },
  {
   "cell_type": "code",
   "execution_count": 28,
   "id": "9176d245",
   "metadata": {},
   "outputs": [
    {
     "data": {
      "text/plain": [
       "77871"
      ]
     },
     "execution_count": 28,
     "metadata": {},
     "output_type": "execute_result"
    }
   ],
   "source": [
    "method_name_to_id(\"get_seqno\") # get methods have own numbers :)"
   ]
  },
  {
   "cell_type": "code",
   "execution_count": 29,
   "id": "f20db539",
   "metadata": {},
   "outputs": [],
   "source": [
    "tvm.set_stack([method_name_to_id(\"seqno\")]) # long story short, you need to pass method_id to stack"
   ]
  },
  {
   "cell_type": "code",
   "execution_count": 30,
   "id": "dfc606b5",
   "metadata": {},
   "outputs": [
    {
     "name": "stdout",
     "output_type": "stream",
     "text": [
      "DEBUG: Use code: FEB5FF6820E2FF0D9483E7E0D62C817D846789FB4AE580C878866D959DABD5C0\n",
      "DEBUG: Load cp0\n",
      "[ 4][t 0][2022-10-21 16:23:25.273947][contops.cpp:1129]\texecute SETCP 0\n",
      "\n",
      "[ 4][t 0][2022-10-21 16:23:25.274064][dictops.cpp:631]\texecute DICTPUSHCONST 19 (xC_,1)\n",
      "\n",
      "[ 4][t 0][2022-10-21 16:23:25.274225][dictops.cpp:595]\texecute DICTIGETJMPZ\n",
      "\n",
      "[ 4][t 0][2022-10-21 16:23:25.274466][contops.cpp:694]\texecute PUSH c4\n",
      "\n",
      "[ 4][t 0][2022-10-21 16:23:25.274529][cellops.cpp:875]\texecute CTOS\n",
      "\n",
      "[ 4][t 0][2022-10-21 16:23:25.274615][cellops.cpp:1061]\texecute PLDU 32\n",
      "\n",
      "[ 4][t 0][2022-10-21 16:23:25.274672][vm.cpp:450]\texecute implicit RET\n",
      "\n",
      "DEBUG: VM terminated with exit code -1\n",
      "DEBUG: Parse stack item #0\n"
     ]
    },
    {
     "name": "stderr",
     "output_type": "stream",
     "text": [
      " [ 85143 ] \n",
      " [ 85143 ] \n",
      " [ 85143 C{D814641364BD13E0A8A646226D7EB6E174CFD4F47235F8F8B29D1FD68C05A399} 19 ] \n",
      " [ ] \n",
      " [ C{E59BCE6701021EA2EA693DED7D9BB6D0193BE042C424DBD91DF5F7D5F752EFFD} ] \n",
      " [ CS{Cell{01510000005f29a9a31706abd949d2bfbc8524c7011e9f12ffc7ace556750d2b1076e4328c785d6d4f5ac0} bits: 0..321; refs: 0..1} ] \n",
      " [ 95 ] \n"
     ]
    },
    {
     "data": {
      "text/plain": [
       "[95]"
      ]
     },
     "execution_count": 30,
     "metadata": {},
     "output_type": "execute_result"
    }
   ],
   "source": [
    "tvm.run_vm() # this is seqno of this wallet :)"
   ]
  },
  {
   "cell_type": "code",
   "execution_count": null,
   "id": "264061ed",
   "metadata": {},
   "outputs": [],
   "source": []
  }
 ],
 "metadata": {
  "kernelspec": {
   "display_name": "Python 3 (ipykernel)",
   "language": "python",
   "name": "python3"
  },
  "language_info": {
   "codemirror_mode": {
    "name": "ipython",
    "version": 3
   },
   "file_extension": ".py",
   "mimetype": "text/x-python",
   "name": "python",
   "nbconvert_exporter": "python",
   "pygments_lexer": "ipython3",
   "version": "3.9.12"
  }
 },
 "nbformat": 4,
 "nbformat_minor": 5
}
