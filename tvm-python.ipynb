{
 "cells": [
  {
   "cell_type": "code",
   "execution_count": null,
   "id": "33ae7c28",
   "metadata": {},
   "outputs": [],
   "source": [
    "!pip install git+https://github.com/toncenter/tvm_valuetypes.git"
   ]
  },
  {
   "cell_type": "code",
   "execution_count": null,
   "id": "655f3256",
   "metadata": {},
   "outputs": [],
   "source": [
    "#%load_ext autoreload\n",
    "#%autoreload 2\n",
    "from tvm_python import PyTVM, method_name_to_id, code_disasseble, pack_address, load_address\n",
    "import codecs\n",
    "from tvm_valuetypes import Cell, deserialize_boc\n",
    "from dateutil.parser import parse \n",
    "import codecs"
   ]
  },
  {
   "cell_type": "code",
   "execution_count": null,
   "id": "1be7af9b",
   "metadata": {},
   "outputs": [],
   "source": [
    "def fix_op(item):\n",
    "    return item.split('\\t')[1].replace('execute ', '').replace('\\n', '')"
   ]
  },
  {
   "cell_type": "code",
   "execution_count": null,
   "id": "c6534fec",
   "metadata": {},
   "outputs": [],
   "source": []
  },
  {
   "cell_type": "code",
   "execution_count": 1,
   "id": "7ce9f583",
   "metadata": {},
   "outputs": [],
   "source": [
    "from tvm_python import parse_onchain_data"
   ]
  },
  {
   "cell_type": "code",
   "execution_count": 2,
   "id": "3e7c5be7",
   "metadata": {},
   "outputs": [],
   "source": [
    "data = 'te6ccuECEgEAAbUAAAoAFABeAGgA8gD8AQYBEAFYAaAB6AIIAm4CiALQAxgDYgNqAQMAwAECASACAwFDv/CC62Y7V6ABkvSmrEZyiN8t/t252hvuKPZSHIvr0h8ewAQCASAFBgCGAGlwZnM6Ly9iYWZrcmVpYTNrdG14eG9idG42ZXhkNWp1ZWhmM2s0dG1jbDQ2Y2VqN2J1azNjZTJudWI3eGwyNTczaQIBIAcIAgEgDg8CAUgJCgFBv27U+UKnhIziywZrd6ESjGof+MQ/Q4otziRhK6n/q4sDDQFBvtUam/+G3nP3Ya609uHQxPc3i+wXmp0qn81UtlhfHnRMCwFBvu5eHQlqGfI5s5WmVQi17RtEg5HS4JLKbWVxemQgVehcDAAcAExQLW9VU0RDLVYxLjIAYgBFUUM2MUlRUmwwX2xhOTV0Mjd4aElwanhadDMydmwxUVFWRjJVZ1ROdXZEMThXLTQAFgBUT05TV0FQLUxQAUG/Ugje9G9aHU+dzmarMJ9KhRMF8Wb5Hvedkj71jjT5ogkQAUG/XQH6XjwGkBxFBGxrLdzqWvdk/qDu1yoQ1ATyMSzrJH0RAEYAVG9uU3dhcCBMaXF1aWRpdHkgUHJvdmlkZXIgSmV0dG9uLgAEADnaJaOB'"
   ]
  },
  {
   "cell_type": "code",
   "execution_count": 3,
   "id": "c3124d81",
   "metadata": {},
   "outputs": [
    {
     "name": "stdout",
     "output_type": "stream",
     "text": [
      "image\n",
      "snake\n",
      "name\n",
      "snake\n",
      "8DCBC3A12D433E473672B4CAA116BDA36890723A5C12594DACAE2F4C840ABD0B\n",
      "snake\n",
      "symbol\n",
      "snake\n",
      "description\n",
      "snake\n",
      "decimals\n",
      "snake\n"
     ]
    },
    {
     "data": {
      "text/plain": [
       "{'image': 'snake',\n",
       " 'name': 'snake',\n",
       " '8DCBC3A12D433E473672B4CAA116BDA36890723A5C12594DACAE2F4C840ABD0B': 'snake',\n",
       " 'symbol': 'snake',\n",
       " 'description': 'snake',\n",
       " 'decimals': 'snake'}"
      ]
     },
     "execution_count": 3,
     "metadata": {},
     "output_type": "execute_result"
    }
   ],
   "source": [
    "parse_onchain_data(data)"
   ]
  },
  {
   "cell_type": "markdown",
   "id": "a8fbd55b",
   "metadata": {},
   "source": [
    "# Just code"
   ]
  },
  {
   "cell_type": "code",
   "execution_count": null,
   "id": "7519f77c",
   "metadata": {},
   "outputs": [],
   "source": [
    "PyTVM(code=\"te6ccgEBAQEAAwAAAnE=\").run_vm()"
   ]
  },
  {
   "cell_type": "markdown",
   "id": "226a83b1",
   "metadata": {},
   "source": [
    "### Stack is not reversed ;)"
   ]
  },
  {
   "cell_type": "code",
   "execution_count": null,
   "id": "dcf5404e",
   "metadata": {},
   "outputs": [],
   "source": [
    "SUB = \"te6ccgEBAQEAAwAAAqE=\"\n",
    "a = 3\n",
    "b = 1\n",
    "\n",
    "tvm = PyTVM(code=SUB)\n",
    "tvm.set_stack([a, b])\n",
    "tvm.run_vm()"
   ]
  },
  {
   "cell_type": "markdown",
   "id": "d609bc89",
   "metadata": {},
   "source": [
    "#### Balance can be really big integer"
   ]
  },
  {
   "cell_type": "code",
   "execution_count": null,
   "id": "d30d3888",
   "metadata": {},
   "outputs": [],
   "source": [
    "tvm = PyTVM(code=SUB)\n",
    "\n",
    "tvm.set_c7(address=\"EQCI5yVsMccJDqrKH9knYAp0avK5fh-UBZ5Ns1xWOvIA2UKl\", # some contracts may use MYADDR in code\n",
    "           balanceGrams=\"9951186000\", # or trying get own balance from c7\n",
    "           randseed=\"1\") # or maybe you use random in your contract :)"
   ]
  },
  {
   "cell_type": "markdown",
   "id": "9192c0bc",
   "metadata": {},
   "source": [
    "# Disassembler"
   ]
  },
  {
   "cell_type": "code",
   "execution_count": null,
   "id": "0cc5e117",
   "metadata": {},
   "outputs": [],
   "source": [
    "code_disasseble(\"te6ccgEBAQEAAwAAAnE=\")"
   ]
  },
  {
   "cell_type": "markdown",
   "id": "f3815070",
   "metadata": {},
   "source": [
    "# Easy test examples"
   ]
  },
  {
   "cell_type": "code",
   "execution_count": null,
   "id": "c7747bab",
   "metadata": {},
   "outputs": [],
   "source": [
    "# Simple PUSHINT 1\n",
    "# You can define log_level if you want more stuff\n",
    "tvm_result = PyTVM(code=\"te6ccgEBAQEAAwAAAnE=\", log_level=4).run_vm()\n",
    "assert tvm_result[0] == 1\n",
    "\n",
    "print(f\"Got 1 from TVM: {tvm_result[0]}\")"
   ]
  },
  {
   "cell_type": "code",
   "execution_count": null,
   "id": "b5809ec0",
   "metadata": {},
   "outputs": [],
   "source": [
    "tvm_result"
   ]
  },
  {
   "cell_type": "code",
   "execution_count": null,
   "id": "f4dee228",
   "metadata": {},
   "outputs": [],
   "source": [
    "# c3 is continuation, but we just serialize it to base64 BOC\n",
    "# PUSHINT 1 PUSH c3\n",
    "tvm_result = PyTVM(code=\"te6ccgEBAQEABQAABnHtQw==\").run_vm()\n",
    "tvm_result"
   ]
  },
  {
   "cell_type": "code",
   "execution_count": null,
   "id": "b2bbde25",
   "metadata": {},
   "outputs": [],
   "source": [
    "cell = Cell()\n",
    "b64 = tvm_result[1]['value']\n",
    "boc = codecs.decode(codecs.encode(b64, 'utf8'), 'base64')\n",
    "deserialize_boc(boc)"
   ]
  },
  {
   "cell_type": "code",
   "execution_count": null,
   "id": "2e59a38a",
   "metadata": {},
   "outputs": [],
   "source": [
    "# c7 push (tuple)\n",
    "tvm_result = PyTVM(code=\"te6ccgEBAQEABAAABO1H\").run_vm()\n",
    "tvm_result[0] # just default c7"
   ]
  },
  {
   "cell_type": "markdown",
   "id": "950705d6",
   "metadata": {},
   "source": [
    "## Change c7"
   ]
  },
  {
   "cell_type": "code",
   "execution_count": null,
   "id": "fb9d4961",
   "metadata": {},
   "outputs": [],
   "source": [
    "# c7 push (tuple)\n",
    "tvm = PyTVM(code=\"te6ccgEBAQEABAAABO1H\")"
   ]
  },
  {
   "cell_type": "code",
   "execution_count": null,
   "id": "647451d2",
   "metadata": {},
   "outputs": [],
   "source": [
    "tvm.set_c7(translt=\"100\",\n",
    "           unixtime=179, \n",
    "           globalConfig=\"te6ccgEBAQEABAAABO1H\",\n",
    "           randseed=\"100\", \n",
    "           address=\"EQBq5JLG8-1juc-N95IFBnOM2NGrcJsMoFYFoWH-DaVJ2lVw\",\n",
    "           balanceGrams=str(100000000))"
   ]
  },
  {
   "cell_type": "code",
   "execution_count": null,
   "id": "74f367f5",
   "metadata": {},
   "outputs": [],
   "source": [
    "tvm.run_vm()"
   ]
  },
  {
   "cell_type": "markdown",
   "id": "73174468",
   "metadata": {},
   "source": [
    "## Get detailed result"
   ]
  },
  {
   "cell_type": "code",
   "execution_count": null,
   "id": "7aff416d",
   "metadata": {},
   "outputs": [],
   "source": [
    "print(\"Exit code: \", tvm.exit_code,\n",
    "\"\\nC5: \", tvm.actions, \n",
    "\"\\nGas credit: \",tvm.gas_credit, \n",
    "\"\\nGas used: \",tvm.gas_used, \n",
    "\"\\nC4: \",tvm.new_data, \n",
    "\"\\nVM Steps: \",tvm.vm_steps,\n",
    "\"\\nVM final hash: \",tvm.vm_final_state_hash,\n",
    "\"\\nVM init hash: \",tvm.vm_init_state_hash,\n",
    "\"\\nVM success: \",tvm.success)"
   ]
  },
  {
   "cell_type": "markdown",
   "id": "def3bba6",
   "metadata": {},
   "source": [
    "## Set stack"
   ]
  },
  {
   "cell_type": "code",
   "execution_count": null,
   "id": "b6631d0b",
   "metadata": {},
   "outputs": [],
   "source": [
    "# c7 push (tuple)\n",
    "tvm = PyTVM(code=\"te6ccgEBAQEABAAABO1H\", log_level=6)"
   ]
  },
  {
   "cell_type": "code",
   "execution_count": null,
   "id": "a3752cde",
   "metadata": {},
   "outputs": [],
   "source": [
    "# actually python3 & TON have really big integers :))\n",
    "tvm.set_stack([\n",
    "    190009329293929392939239293293929329392949949949299008888888880999999888, \n",
    "    {'type': \"cell\",\n",
    "     'value': 'te6ccgEBAQEABAAABO1H'}, \n",
    "    [{'type': \"cellSlice\",\n",
    "     'value': 'te6ccgEBAQEABAAABO1H'},\n",
    "     12312312313213132,\n",
    "     [1231232132, 1321231231, 57, 179]\n",
    "    ]])"
   ]
  },
  {
   "cell_type": "code",
   "execution_count": null,
   "id": "d681060b",
   "metadata": {},
   "outputs": [],
   "source": [
    "tvm.run_vm()"
   ]
  },
  {
   "cell_type": "markdown",
   "id": "a05f3b21",
   "metadata": {},
   "source": [
    "## C4 (Data) usage example"
   ]
  },
  {
   "cell_type": "code",
   "execution_count": null,
   "id": "fdc0b315",
   "metadata": {},
   "outputs": [],
   "source": [
    "# C4 PUSH CTOS 64 LDU\n",
    "tvm = PyTVM(code=\"te6ccgEBAQEABwAACu1E0NM/\", \n",
    "            data=\"te6ccgEBAQEACgAAEAAAAAAAAACz\", \n",
    "            log_level=2)"
   ]
  },
  {
   "cell_type": "code",
   "execution_count": null,
   "id": "f2802b3b",
   "metadata": {},
   "outputs": [],
   "source": [
    "# You can see, that 179 was loaded from c4, and cellSlice on stack\n",
    "tvm.run_vm()"
   ]
  },
  {
   "cell_type": "markdown",
   "id": "12f438d3",
   "metadata": {},
   "source": [
    "## Gas Limit "
   ]
  },
  {
   "cell_type": "code",
   "execution_count": null,
   "id": "1c7e8c29",
   "metadata": {},
   "outputs": [],
   "source": [
    "# C4 PUSH CTOS 64 LDU\n",
    "tvm = PyTVM(code=\"te6ccgEBAQEABwAACu1E0NM/\", \n",
    "            data=\"te6ccgEBAQEACgAAEAAAAAAAAACz\")"
   ]
  },
  {
   "cell_type": "code",
   "execution_count": null,
   "id": "8b41edd7",
   "metadata": {},
   "outputs": [],
   "source": [
    "print(tvm.gas_used, tvm.gas_credit)\n",
    "tvm.set_gasLimit(26) # You can also pass max gas set_gasLimit(gas_limit=26, gas_max=26)\n",
    "print(tvm.gas_used, tvm.gas_credit)\n",
    "tvm.run_vm() # out of gas"
   ]
  },
  {
   "cell_type": "code",
   "execution_count": null,
   "id": "4f5e589b",
   "metadata": {},
   "outputs": [],
   "source": [
    "tvm.exit_code, tvm.gas_used"
   ]
  },
  {
   "cell_type": "markdown",
   "id": "0802a19e",
   "metadata": {},
   "source": [
    "## Libs \n",
    "\n",
    "This is just load example, they will pass to VM, but I'm little bussy to get code of loading libs, check out [akifoq](https://github.com/akifoq) github"
   ]
  },
  {
   "cell_type": "code",
   "execution_count": null,
   "id": "a9012dd9",
   "metadata": {},
   "outputs": [],
   "source": [
    "tvm.set_libs([{'type': 'cell', 'value': 'te6ccgEBAQEABwAACu1E0NM/'}])"
   ]
  },
  {
   "cell_type": "markdown",
   "id": "95d922aa",
   "metadata": {},
   "source": [
    "## Stack dump log Level"
   ]
  },
  {
   "cell_type": "code",
   "execution_count": null,
   "id": "279ac9bc",
   "metadata": {},
   "outputs": [],
   "source": [
    "# C4 PUSH CTOS 64 LDU\n",
    "tvm = PyTVM(code=\"te6ccgEBAQEABwAACu1E0NM/\", \n",
    "            data=\"te6ccgEBAQEACgAAEAAAAAAAAACz\", \n",
    "            log_level=4)"
   ]
  },
  {
   "cell_type": "code",
   "execution_count": null,
   "id": "a4171b0e",
   "metadata": {},
   "outputs": [],
   "source": [
    "tvm.run_vm()"
   ]
  },
  {
   "cell_type": "markdown",
   "id": "93d62a2e",
   "metadata": {},
   "source": [
    "## Allow debug & same c3"
   ]
  },
  {
   "cell_type": "code",
   "execution_count": null,
   "id": "ad42cc34",
   "metadata": {},
   "outputs": [],
   "source": [
    "# C4 PUSH CTOS 64 LDU\n",
    "tvm = PyTVM(code=\"te6ccgEBAQEABwAACu1E0NM/\", \n",
    "            data=\"te6ccgEBAQEACgAAEAAAAAAAAACz\", \n",
    "            log_level=4,\n",
    "            allow_debug=True,\n",
    "            same_c3=False)"
   ]
  },
  {
   "cell_type": "code",
   "execution_count": null,
   "id": "32021009",
   "metadata": {},
   "outputs": [],
   "source": [
    "tvm.run_vm()"
   ]
  },
  {
   "cell_type": "markdown",
   "id": "db452389",
   "metadata": {},
   "source": [
    "## Accout get methods"
   ]
  },
  {
   "cell_type": "code",
   "execution_count": null,
   "id": "0d9c2bac",
   "metadata": {},
   "outputs": [],
   "source": [
    "# get account code & data from dton.io\n",
    "tvm = PyTVM(code=\"te6ccuECDAEAAikAABoAJAAuADYAQACWAZYClAKuAv4DzARSART/APSkE/S88sgLAQIBIAIDAgFIBAUABPIwAgLNBgcAUaA4WdqJoaYBpj/0gfSB9IH0AahhofSB9AH0gfQAYQQgjJKwoBWAAqsBAvfQDoaYGAuNhJL4JwfSAYdqJoaYBpj/0gfSB9IH0AahgTYAD5aMoRa6ThAVnHIBkcHCmg44LJL4RwKKJjgvlw+gJpj8EIAonGyIldeXD66Z+Y/SAYICsDZGWACuWPqAHniwDniwDniwD9AWZk9qpwGxPjgHGBA+mP6Z+YEMCAkB92YIQO5rKAFJgoFIwvvLhwiTQ+kD6APpA+gAwU5KhIaFQh6EWoFKQcIAQyMsFUAPPFgH6AstqyXH7ACXCACXXScICsI4XUEVwgBDIywVQA88WAfoCy2rJcfsAECOSNDTiWnCAEMjLBVADzxYB+gLLaslx+wBwIIIQX8w9FILABY3EDhHZRRDMHDwBQFKwAGSXwvgIcACnzEQSRA4R2AQJRAkECPwBeA6wAPjAl8JhA/y8AoAyoIQO5rKABi+8uHJU0bHBVFSxwUVsfLhynAgghBfzD0UIYAQyMsFKM8WIfoCy2rLHxnLPyfPFifPFhjKACf6AhfKAMmAQPsAcQZQREUVBsjLABXLH1ADzxYBzxYBzxYB+gLMye1UAIIhgBjIywUqzxYh+gLLassfE8s/I88WUAPPFsoAIfoCygDJgwb7AHFVUAbIywAVyx9QA88WAc8WAc8WAfoCzMntVHEzQWc=\", \n",
    "            data=\"te6ccuECAgEAAKEAAKIBQgGbMateFUAFhO5hst/wg3EW0Py1B42TlkvL6cBf1qFBsb/KXWpD4YgAdP2guq8i0ybWx7E2zTGM2WdwO9WauK3yzhASGFCjzN4wSMCWvrAEAQCbgBRyaww+87XrNCetowXCyAQhgF8xx74x+06XHrVig1fjCujOry8BAANKN8ZnM0OzYOENTkOEg7VVgFog5fBWdCtqQro1MRmU1dGdXl4CusI7qA==\", \n",
    "            log_level=4)"
   ]
  },
  {
   "cell_type": "code",
   "execution_count": null,
   "id": "6eb43721",
   "metadata": {},
   "outputs": [],
   "source": [
    "tvm.set_c7(address=\"EQCI5yVsMccJDqrKH9knYAp0avK5fh-UBZ5Ns1xWOvIA2UKl\", # some contracts may use MYADDR in code\n",
    "           balanceGrams=str(100000000), # or trying get own balance from c7\n",
    "           randseed=\"1\") # or maybe you use random in your contract :)"
   ]
  },
  {
   "cell_type": "code",
   "execution_count": null,
   "id": "9176d245",
   "metadata": {},
   "outputs": [],
   "source": [
    "method_name_to_id(\"get_sale_data\") # get methods have own numbers :)"
   ]
  },
  {
   "cell_type": "code",
   "execution_count": null,
   "id": "f20db539",
   "metadata": {},
   "outputs": [],
   "source": [
    "tvm.set_stack([method_name_to_id(\"get_sale_data\")]) # long story short, you need to pass method_id to stack"
   ]
  },
  {
   "cell_type": "code",
   "execution_count": null,
   "id": "dfc606b5",
   "metadata": {},
   "outputs": [],
   "source": [
    "tvm.run_vm() # this is seqno of this wallet :)"
   ]
  },
  {
   "cell_type": "markdown",
   "id": "f53944f1",
   "metadata": {},
   "source": [
    "## Method names"
   ]
  },
  {
   "cell_type": "code",
   "execution_count": null,
   "id": "4cac323d",
   "metadata": {},
   "outputs": [],
   "source": [
    "smart_methods = {}\n",
    "\n",
    "for name in [\"dnsresolve\", \"get_jetton_data\", \"get_wallet_address\", \"get_collection_data\",\n",
    "             \"get_nft_address_by_index\", \"get_nft_data\", \"get_royalty_params\", \"hello_world\",\n",
    "             \"get_owner\", \"seqno\", \"get_public_key\", \"get_version\",\n",
    "             \"get_marketplace_address\", \"get_sale_data\", \"get_plugin_list\", \"is_plugin_installed\",\n",
    "             \"get_subwallet_id\", \"get_editor\", \"get_is_closed\", \n",
    "             'get_reveal_mode', 'get_reveal_data', \n",
    "             \n",
    "             'get_full_domain', 'get_username', 'get_auction_info', \n",
    "             'get_telemint_token_name', 'get_telemint_auction_state', \n",
    "             'get_telemint_auction_config', 'get_offer_data',\n",
    "            ]:\n",
    "\n",
    "    smart_methods[name] = method_name_to_id(name)"
   ]
  },
  {
   "cell_type": "code",
   "execution_count": null,
   "id": "79b0df0f",
   "metadata": {},
   "outputs": [],
   "source": [
    "smart_methods"
   ]
  },
  {
   "cell_type": "markdown",
   "id": "70f50823",
   "metadata": {},
   "source": [
    "# Run transaction & stack step dump"
   ]
  },
  {
   "cell_type": "code",
   "execution_count": null,
   "id": "6cfec527",
   "metadata": {},
   "outputs": [],
   "source": [
    "transaction = {\n",
    "        \"account_state_state_init_code\": \"te6ccuEBAQEAYgDEAMD/ACDdIIIBTJe6lzDtRNDXCx/gpPJggwjXGCDTH9Mf0x/4IxO78mPtRNDTH9Mf0//RUTK68qFRRLryogT5AVQQVfkQ8qP4AJMg10qW0wfUAvsA6NEBpMjLH8sfy//J7VRcWvJx\",\n",
    "        \"account_state_state_init_data\": \"te6ccuEBAQEAKgBUAFAAABfFKamjF1EWudQc3BYnnT5cgwKbbuOMnLoj2nddsBRI8MyLn7VbLd5twQ==\",\n",
    "        \"gen_utime\": \"2022-10-29 23:17:14\",\n",
    "        \"account_storage_balance_grams\": 3503394350113822,\n",
    "        \"in_msg_cell\": \"te6ccuECAgEAALgAAOYBcAHfiAELXvHRoGvSQCL5tMqMK5vm46jIkBbFPCIaeKYhsLVmxAUv1tIPUGD5rk63+HQIldqZpKMW5papR2c6Je1YCY71+7WGOJg9/+Tmmk+6PG/8ACrE9tk+bE8f6fVUpmDc3uBZTU0YuxrwtygAAL4oHAEAhkIAQGoJHCCLPlTE1kiSIeZM0lzg1DrCKbIT/7fsLkkcrXSovBvI3AAAAAAAAAAAAAAAAAAAAAAAADE5MjY1MjUwNjX5zgaJ\",\n",
    "        \"in_msg_body\": \"te6ccuECAgEAAJUAAKABKgGapfraQeoMHzXJ1v8OgRK7UzSUYtzS1Sjs50S9qwEx3r92sMcTB7/8nNNJ90eN/4AFWJ7bJ82J4/0+qpTMG5vcCympoxdjXhblAAAXxQMBAIZCAEBqCRwgiz5UxNZIkiHmTNJc4NQ6wimyE/+37C5JHK10qLwbyNwAAAAAAAAAAAAAAAAAAAAAAAAxOTI2NTI1MDY1lbIkmg==\",\n",
    "        \"in_msg_value_grams\": None,\n",
    "        \"in_msg_type\": \"ext_in_msg_info\",\n",
    "        \"in_msg_dest_addr_address_hex\": \"85AF78E8D035E920117CDA654615CDF371D464480B629E110D3C5310D85AB362\",\n",
    "        \"in_msg_dest_addr_workchain_id\": 0,\n",
    "        \"lt\": 32426921000001,\n",
    "        \"in_msg_created_lt\": None\n",
    "      }\n",
    "\n",
    "\n",
    "transaction['in_msg_cell'] = {'type': 'cell', 'value': transaction['in_msg_cell']}\n",
    "transaction['in_msg_body'] = {'type': 'cellSlice', 'value': transaction['in_msg_body']}\n",
    "\n",
    "tvm = PyTVM(code=transaction['account_state_state_init_code'], \n",
    "            data=transaction['account_state_state_init_data'])\n",
    "\n",
    "tvm.set_c7(unixtime=int(parse(transaction['gen_utime']).timestamp()), \n",
    "           translt=str(int(transaction['lt'])), \n",
    "           balanceGrams=str(int(transaction['account_storage_balance_grams'])),\n",
    "           address=str(transaction['in_msg_dest_addr_workchain_id']) + ':' + transaction['in_msg_dest_addr_address_hex'])\n",
    "\n",
    "tvm.set_stack([\n",
    "    str(int(transaction['account_storage_balance_grams'])),\n",
    "    str(int(transaction['in_msg_value_grams'] if transaction['in_msg_value_grams'] else 0)),\n",
    "    transaction['in_msg_cell'],\n",
    "    transaction['in_msg_body'],\n",
    "    -1 if 'ext' in transaction['in_msg_type'] else 0\n",
    "])\n",
    "\n",
    "tvm.run_vm()\n"
   ]
  },
  {
   "cell_type": "code",
   "execution_count": null,
   "id": "88c4bf63",
   "metadata": {
    "scrolled": true
   },
   "outputs": [],
   "source": [
    "list(map(fix_op, tvm.get_ops()))"
   ]
  },
  {
   "cell_type": "code",
   "execution_count": null,
   "id": "a2081f14",
   "metadata": {},
   "outputs": [],
   "source": [
    "tvm.get_stacks()"
   ]
  },
  {
   "cell_type": "markdown",
   "id": "fbcfcc9b",
   "metadata": {},
   "source": [
    "## Calculate jetton wallet address"
   ]
  },
  {
   "cell_type": "code",
   "execution_count": null,
   "id": "79a92308",
   "metadata": {},
   "outputs": [],
   "source": [
    "tvm = PyTVM(code=\"te6ccuECCwEAAeoAABoAJAAuADoBLgHGAsgC/AMuA7AD1AEU/wD0pBP0vPLICwECAWICAwICzAQFAgN6YAkKA+nZkQ44BIrfBoaYGAuNhIrfB9IBgA6Y/pn/aiaH0AfSBqahgTYArHGBqaqKrjgvlwJID9IH0AahgQaEAwa5D9ABgSiBooIXgG0CqQZCgCfQEsZ4tmZmT2qnATQQg97svvXXGBGpLgAfGBGAJgAnGBL4LCB/l4QGBwgAk7vwUIgG4KhAJqgoB5CgCfQEsZ4sA54tmZJFkZYCJegB6AGWAZJB8gDg6ZGWBZQPl/+ToO8AMZGWCrGeLKAJ9AQnltYlmZmS4/YBAP42A/oA+kD4KFQSCHBUIBNUFAPIUAT6AljPFgHPFszJIsjLARL0APQAywDJ+QBwdMjLAsoHy//J0FAIxwXy4EoSoQNQJMhQBPoCWM8WzMzJ7VQB+kAwINcLAcMAjh+CENUydttwgBDIywVQA88WIvoCEstqyx/LP8mAQvsAkVviADA1FccF8uBJ+kAwWchQBPoCWM8WzMzJ7VQALlFDxwXy4EnUMAHIUAT6AljPFszMye1UAH2tvPaiaH0AfSBqahg2GPwUALgqEAmqCgHkKAJ9ASxniwDni2ZkkWRlgIl6AHoAZYBk/IA4OmRlgWUD5f/k6EAAH68W9qJofQB9IGpqGD+qkEDmPMC3\", \n",
    "            data=\"te6ccuECEwEAA40AAFYA8gEMARYBIAFAAUoB0AHaAeQCoAK2A64DuARWBVQGLAagBxoCTVGZyCzACADv1+I+xGKwYr5T+5ikwv1q2BoKzwD1yyab0X4Qax9zAQECAJgBaHR0cHM6Ly9yYXcuZ2l0aHVidXNlcmNvbnRlbnQuY29tL2Rpc2ludGFyL29uZXRpbWVuZnQvbWFpbi9mYWtlX2pldHRvbi5qc29uART/APSkE/S88sgLAwIBYgQFAgLLBgcAG6D2BdqJofQB9IH0gahhAgEgCAkAgdIAg1yHtRND6APpA+kDUMATTHyGCEBeNRRm6AoIQe92X3roSsfLixdM/MfoAMBOgUCPIUAT6AljPFgHPFszJ7VSAgEgCgsCAVgMDQC30QY4BJL4JwAOhpgYC42EqJr4H4CHB9IH0gGP0AGLjrkP0AGP0AGAFpj5DBCAfFP1LdSpiaLPgG8BDBCAvGoozdSxiiIgH4B3AawQgsr4PeXUms+AfwL4JCB/l4QAEWvpEMMAA8uFNgHxUD0z/6APpAIfAG7UTQ+gD6QPpA1DBRNqFSKscF8uLBKML/8uLCVDRCcFQgE1QUA8hQBPoCWM8WAc8WzMkiyMsBEvQA9ADLAMkg+QBwdMjLAsoHy//J0AT6QPQEMfoAINdJwgDy4sR3gBjIywVQCM8WcPoCF8trE8yA4CASAPEACaghAXjUUZyMsfGcs/UAf6AiLPFlAGzxYl+gJQA88WyVAFzCORcpFx4lAIqBOggXUwoBS88uLFBMmAQPsAECPIUAT6AljPFgHPFszJ7VQC9TtRND6APpA+kDUMAjTP/oAUVGgBfpA+kBTW8cFVHNtcFQgE1QUA8hQBPoCWM8WAc8WzMkiyMsBEvQA9ADLAMn5AHB0yMsCygfL/8nQUA3HBRyx8uLDCvoAUaihgScQZrYIoYEnEKAYoSeXEEkQODdfBOMNJdcLAcMAI4BESANM7UTQ+gD6QPpA1DAH0z/6APpAMFFRoVJJxwXy4sEnwv/y4sIFgU4goBa88uLDghB73ZfeyMsfFcs/UAP6AiLPFgHPFslxgBjIywUkzxZw+gLLaszJgED7AEATyFAE+gJYzxYBzxbMye1UgAHBSeaAYoYIQc2LQnMjLH1Iwyz9Y+gJQB88WUAfPFslxgBDIywUkzxZQBvoCFctqFMzJcfsAECQQIwB2wgCwjiGCENUydttwgBDIywVQCM8WUAT6AhbLahLLHxLLP8ly+wCTNWwh4gPIUAT6AljPFgHPFszJ7VQdowYo\")\n",
    "\n",
    "tvm.set_c7(address=\"EQBK3b2y8Ogu8l0pBuU3V17Q2Ln2esTNHFsWMuyOUTdZkbH4\")\n",
    "\n",
    "tvm.set_stack([\n",
    "    pack_address(\"EQB36_EfYjFYMV8p_cxSYX61bA0FZ4B65ZNN6L8INY-5gL6w\"),\n",
    "    method_name_to_id('get_wallet_address')\n",
    "])\n",
    "\n",
    "load_address(tvm.run_vm()[0]['value'])"
   ]
  },
  {
   "cell_type": "markdown",
   "id": "51bd4387",
   "metadata": {},
   "source": [
    "## Test"
   ]
  },
  {
   "cell_type": "code",
   "execution_count": null,
   "id": "c26c1397",
   "metadata": {},
   "outputs": [],
   "source": [
    "code = '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'\n",
    "data = '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'"
   ]
  },
  {
   "cell_type": "code",
   "execution_count": null,
   "id": "f9e275cf",
   "metadata": {},
   "outputs": [],
   "source": [
    "len(data)"
   ]
  },
  {
   "cell_type": "code",
   "execution_count": null,
   "id": "01ca7888",
   "metadata": {},
   "outputs": [],
   "source": [
    "tvm = PyTVM(code=code, data=data)\n",
    "tvm.set_stack([method_name_to_id(\"get_collection_data\")])\n",
    "tvm.set_c7(address=\"0:151A193FDEB500DF2A59019D5291519921A0EDED476FC00E23B12191291A3E31\", balanceGrams=\"24507456\")"
   ]
  },
  {
   "cell_type": "code",
   "execution_count": null,
   "id": "e8aa7ecb",
   "metadata": {},
   "outputs": [],
   "source": [
    "tvm.run_vm()"
   ]
  },
  {
   "cell_type": "code",
   "execution_count": null,
   "id": "b257cb7e",
   "metadata": {},
   "outputs": [],
   "source": []
  }
 ],
 "metadata": {
  "kernelspec": {
   "display_name": "Python 3 (ipykernel)",
   "language": "python",
   "name": "python3"
  },
  "language_info": {
   "codemirror_mode": {
    "name": "ipython",
    "version": 3
   },
   "file_extension": ".py",
   "mimetype": "text/x-python",
   "name": "python",
   "nbconvert_exporter": "python",
   "pygments_lexer": "ipython3",
   "version": "3.9.12"
  }
 },
 "nbformat": 4,
 "nbformat_minor": 5
}
