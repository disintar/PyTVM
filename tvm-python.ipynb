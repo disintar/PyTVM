{
 "cells": [
  {
   "cell_type": "code",
   "execution_count": 1,
   "id": "34ddd428",
   "metadata": {},
   "outputs": [
    {
     "name": "stdout",
     "output_type": "stream",
     "text": [
      "Requirement already satisfied: tvm_valuetypes in /Users/tvorogme/opt/anaconda3/lib/python3.9/site-packages (0.0.9)\r\n",
      "Requirement already satisfied: crc32c in /Users/tvorogme/opt/anaconda3/lib/python3.9/site-packages (from tvm_valuetypes) (2.3)\r\n",
      "Requirement already satisfied: bitarray in /Users/tvorogme/opt/anaconda3/lib/python3.9/site-packages (from tvm_valuetypes) (2.5.0)\r\n"
     ]
    }
   ],
   "source": [
    "!pip install tvm_valuetypes"
   ]
  },
  {
   "cell_type": "code",
   "execution_count": 2,
   "id": "655f3256",
   "metadata": {},
   "outputs": [],
   "source": [
    "#%load_ext autoreload\n",
    "#%autoreload 2\n",
    "from tvm_python import PyTVM\n",
    "import codecs\n",
    "from tvm_valuetypes import Cell"
   ]
  },
  {
   "cell_type": "markdown",
   "id": "36f0bcd3",
   "metadata": {},
   "source": [
    "# Easy test examples"
   ]
  },
  {
   "cell_type": "code",
   "execution_count": 3,
   "id": "19323bdb",
   "metadata": {},
   "outputs": [
    {
     "name": "stdout",
     "output_type": "stream",
     "text": [
      "DEBUG: Start parse code\n",
      "DEBUG: Code parsed success\n",
      "Code loaded: 8810E73F1AA91EC4618658513623A56A18B5E2B2FDCA2F2A22000D2A14001B89\n",
      "DEBUG: Use code: 8810E73F1AA91EC4618658513623A56A18B5E2B2FDCA2F2A22000D2A14001B89\n",
      "DEBUG: Load cp0\n",
      "[ 4][t 0][2022-10-20 01:59:32.377258][arithops.cpp:34]\texecute PUSHINT 1\n",
      "\n",
      "[ 4][t 0][2022-10-20 01:59:32.377415][vm.cpp:450]\texecute implicit RET\n",
      "\n",
      "DEBUG: VM terminated with exit code -1\n",
      "DEBUG: Parse stack item #0\n",
      "Got 1 from TVM: 1\n"
     ]
    }
   ],
   "source": [
    "# Simple PUSHINT 1\n",
    "# You can define log_level if you want more stuff\n",
    "tvm_result = PyTVM(code=\"te6ccgEBAQEAAwAAAnE=\", log_level=4).run_vm()\n",
    "assert tvm_result[0] == 1\n",
    "\n",
    "print(f\"Got 1 from TVM: {tvm_result[0]}\")"
   ]
  },
  {
   "cell_type": "code",
   "execution_count": 4,
   "id": "198e100c",
   "metadata": {},
   "outputs": [
    {
     "data": {
      "text/plain": [
       "[1]"
      ]
     },
     "execution_count": 4,
     "metadata": {},
     "output_type": "execute_result"
    }
   ],
   "source": [
    "tvm_result"
   ]
  },
  {
   "cell_type": "code",
   "execution_count": 5,
   "id": "117254f1",
   "metadata": {},
   "outputs": [
    {
     "data": {
      "text/plain": [
       "[{'type': 'continuation',\n",
       "  'value': 'te6ccuEBAgEADgASHAEMBAAAAAYAAQAGce1DB7kzoA=='},\n",
       " 1]"
      ]
     },
     "execution_count": 5,
     "metadata": {},
     "output_type": "execute_result"
    }
   ],
   "source": [
    "# c3 is continuation, but we just serialize it to base64 BOC\n",
    "# PUSHINT 1 PUSH c3\n",
    "tvm_result = PyTVM(code=\"te6ccgEBAQEABQAABnHtQw==\").run_vm()\n",
    "tvm_result"
   ]
  },
  {
   "cell_type": "code",
   "execution_count": 6,
   "id": "d7f242e6",
   "metadata": {},
   "outputs": [
    {
     "data": {
      "text/plain": [
       "b'\\xb5\\xee\\x9cr\\xe1\\x01\\x02\\x01\\x00\\x0e\\x00\\x12\\x1c\\x01\\x0c\\x04\\x00\\x00\\x00\\x06\\x00\\x01\\x00\\x06q\\xedC\\x07\\xb93\\xa0'"
      ]
     },
     "execution_count": 6,
     "metadata": {},
     "output_type": "execute_result"
    }
   ],
   "source": [
    "cell = Cell()\n",
    "b64 = tvm_result[0]['value']\n",
    "cell.data.from_bytes(codecs.decode(codecs.encode(b64, 'utf8'), 'base64'))\n",
    "\n",
    "cell.data # This is continuation"
   ]
  },
  {
   "cell_type": "code",
   "execution_count": 7,
   "id": "d1adae6a",
   "metadata": {},
   "outputs": [
    {
     "data": {
      "text/plain": [
       "[124711402,\n",
       " 0,\n",
       " 0,\n",
       " 0,\n",
       " 0,\n",
       " 0,\n",
       " 0,\n",
       " [100000, None],\n",
       " {'type': 'cellSlice', 'value': 'te6ccuEBAQEACgAUABAAAAAAAAAAALfVArM='},\n",
       " None]"
      ]
     },
     "execution_count": 7,
     "metadata": {},
     "output_type": "execute_result"
    }
   ],
   "source": [
    "# c7 push (tuple)\n",
    "tvm_result = PyTVM(code=\"te6ccgEBAQEABAAABO1H\").run_vm()\n",
    "tvm_result[0] # just default c7"
   ]
  },
  {
   "cell_type": "markdown",
   "id": "9d423be4",
   "metadata": {},
   "source": [
    "## Change c7"
   ]
  },
  {
   "cell_type": "code",
   "execution_count": 8,
   "id": "e30384a1",
   "metadata": {},
   "outputs": [],
   "source": [
    "# c7 push (tuple)\n",
    "tvm = PyTVM(code=\"te6ccgEBAQEABAAABO1H\")"
   ]
  },
  {
   "cell_type": "code",
   "execution_count": 9,
   "id": "d700f84f",
   "metadata": {},
   "outputs": [],
   "source": [
    "tvm.set_c7(unixtime=179, \n",
    "           randseed=100, \n",
    "           address=\"EQBq5JLG8-1juc-N95IFBnOM2NGrcJsMoFYFoWH-DaVJ2lVw\",\n",
    "           balanceGrams=100000000)"
   ]
  },
  {
   "cell_type": "code",
   "execution_count": 10,
   "id": "f72c07f6",
   "metadata": {},
   "outputs": [
    {
     "data": {
      "text/plain": [
       "[[124711402,\n",
       "  0,\n",
       "  0,\n",
       "  179,\n",
       "  0,\n",
       "  0,\n",
       "  100,\n",
       "  [100000000, None],\n",
       "  {'type': 'cellSlice',\n",
       "   'value': 'te6ccuEBAQEAJABIAEOADVySWN59rHc58b7yQKDOcZsaNW4TYZQKwLQsP8G0qTtQ5qaveg=='},\n",
       "  None]]"
      ]
     },
     "execution_count": 10,
     "metadata": {},
     "output_type": "execute_result"
    }
   ],
   "source": [
    "tvm.run_vm()"
   ]
  },
  {
   "cell_type": "markdown",
   "id": "4e1192fa",
   "metadata": {},
   "source": [
    "## Get detailed result"
   ]
  },
  {
   "cell_type": "code",
   "execution_count": 11,
   "id": "ff08589d",
   "metadata": {},
   "outputs": [
    {
     "name": "stdout",
     "output_type": "stream",
     "text": [
      "Exit code:  -1 \n",
      "C5:  te6ccuEBAQEAAgAEAABmLc6k \n",
      "Gas credit:  0 \n",
      "Gas used:  31 \n",
      "C4:  te6ccuEBAQEAAgAEAABmLc6k \n",
      "VM Steps:  2 \n",
      "VM final hash:  0000000000000000000000000000000000000000000000000000000000000000 \n",
      "VM init hash:  0000000000000000000000000000000000000000000000000000000000000000 \n",
      "VM success:  True\n"
     ]
    }
   ],
   "source": [
    "print(\"Exit code: \", tvm.exit_code,\n",
    "\"\\nC5: \", tvm.actions, \n",
    "\"\\nGas credit: \",tvm.gas_credit, \n",
    "\"\\nGas used: \",tvm.gas_used, \n",
    "\"\\nC4: \",tvm.new_data, \n",
    "\"\\nVM Steps: \",tvm.vm_steps,\n",
    "\"\\nVM final hash: \",tvm.vm_final_state_hash,\n",
    "\"\\nVM init hash: \",tvm.vm_init_state_hash,\n",
    "\"\\nVM success: \",tvm.success)"
   ]
  },
  {
   "cell_type": "markdown",
   "id": "f53608b1",
   "metadata": {},
   "source": [
    "## Set stack"
   ]
  },
  {
   "cell_type": "code",
   "execution_count": 18,
   "id": "c05862e2",
   "metadata": {},
   "outputs": [
    {
     "name": "stdout",
     "output_type": "stream",
     "text": [
      "DEBUG: Start parse code\n",
      "DEBUG: Code parsed success\n",
      "Code loaded: 2F306EC2BCE112068F472B947E0F6524ADA3F47624DE1EBB0C2BC9304661640C\n"
     ]
    }
   ],
   "source": [
    "# c7 push (tuple)\n",
    "tvm = PyTVM(code=\"te6ccgEBAQEABAAABO1H\", log_level=6)"
   ]
  },
  {
   "cell_type": "code",
   "execution_count": 19,
   "id": "f9f46cd4",
   "metadata": {},
   "outputs": [
    {
     "name": "stdout",
     "output_type": "stream",
     "text": [
      "got value:  190009329293929392939239293293929329392949949949299008888888880999999888\n",
      "got value:  {'type': 'cell', 'value': 'te6ccgEBAQEABAAABO1H'}\n",
      "got value:  [{'type': 'cellSlice', 'value': 'te6ccgEBAQEABAAABO1H'}, 12312312313213132, [1231232132, 1321231231, 57, 179]]\n"
     ]
    }
   ],
   "source": [
    "# actually python3 & TON have really big integers :))\n",
    "tvm.set_stack([\n",
    "    190009329293929392939239293293929329392949949949299008888888880999999888, \n",
    "    {'type': \"cell\",\n",
    "     'value': 'te6ccgEBAQEABAAABO1H'}, \n",
    "    [{'type': \"cellSlice\",\n",
    "     'value': 'te6ccgEBAQEABAAABO1H'},\n",
    "     12312312313213132,\n",
    "     [1231232132, 1321231231, 57, 179]\n",
    "    ]])"
   ]
  },
  {
   "cell_type": "code",
   "execution_count": 20,
   "id": "1b50c0e3",
   "metadata": {},
   "outputs": [
    {
     "name": "stdout",
     "output_type": "stream",
     "text": [
      "DEBUG: Use code: 2F306EC2BCE112068F472B947E0F6524ADA3F47624DE1EBB0C2BC9304661640C\n",
      "DEBUG: Load cp0\n",
      "[ 4][t 0][2022-10-20 02:00:05.233950][contops.cpp:694]\texecute PUSH c7\n",
      "\n",
      "[ 4][t 0][2022-10-20 02:00:05.234126][vm.cpp:450]\texecute implicit RET\n",
      "\n",
      "DEBUG: VM terminated with exit code -1\n",
      "DEBUG: Parse stack item #0\n",
      "DEBUG: Parse stack item #1\n",
      "DEBUG: Parse stack item #2\n",
      "DEBUG: Parse stack item #3\n"
     ]
    },
    {
     "data": {
      "text/plain": [
       "[[124711402,\n",
       "  0,\n",
       "  0,\n",
       "  0,\n",
       "  0,\n",
       "  0,\n",
       "  0,\n",
       "  [100000, None],\n",
       "  {'type': 'cellSlice', 'value': 'te6ccuEBAQEACgAUABAAAAAAAAAAALfVArM='},\n",
       "  None],\n",
       " [{'type': 'cellSlice', 'value': 'te6ccuEBAQEABAAIAATtR+R0b2c='},\n",
       "  12312312313213132,\n",
       "  [1231232132, 1321231231, 57, 179]],\n",
       " {'type': 'cell', 'value': 'te6ccuEBAQEABAAIAATtR+R0b2c='},\n",
       " 190009329293929392939239293293929329392949949949299008888888880999999888]"
      ]
     },
     "execution_count": 20,
     "metadata": {},
     "output_type": "execute_result"
    }
   ],
   "source": [
    "tvm.run_vm()"
   ]
  },
  {
   "cell_type": "code",
   "execution_count": null,
   "id": "02b8e9e2",
   "metadata": {},
   "outputs": [],
   "source": []
  }
 ],
 "metadata": {
  "kernelspec": {
   "display_name": "Python 3 (ipykernel)",
   "language": "python",
   "name": "python3"
  },
  "language_info": {
   "codemirror_mode": {
    "name": "ipython",
    "version": 3
   },
   "file_extension": ".py",
   "mimetype": "text/x-python",
   "name": "python",
   "nbconvert_exporter": "python",
   "pygments_lexer": "ipython3",
   "version": "3.9.12"
  }
 },
 "nbformat": 4,
 "nbformat_minor": 5
}
