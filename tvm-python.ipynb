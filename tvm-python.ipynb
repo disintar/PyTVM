{
 "cells": [
  {
   "cell_type": "code",
   "execution_count": 1,
   "id": "33ae7c28",
   "metadata": {},
   "outputs": [
    {
     "name": "stdout",
     "output_type": "stream",
     "text": [
      "Collecting git+https://github.com/toncenter/tvm_valuetypes.git\n",
      "  Cloning https://github.com/toncenter/tvm_valuetypes.git to /private/var/folders/3k/91ytkdls3l93dl_snvs85g2r0000gn/T/pip-req-build-hq1u9lut\n",
      "  Running command git clone --filter=blob:none --quiet https://github.com/toncenter/tvm_valuetypes.git /private/var/folders/3k/91ytkdls3l93dl_snvs85g2r0000gn/T/pip-req-build-hq1u9lut\n",
      "  Resolved https://github.com/toncenter/tvm_valuetypes.git to commit fdc989ff1b0938ec8ae1c7fbb11ff8dee440c9c5\n",
      "  Preparing metadata (setup.py) ... \u001b[?25ldone\n",
      "\u001b[?25hRequirement already satisfied: crc32c in /Users/tvorogme/opt/anaconda3/lib/python3.9/site-packages (from tvm-valuetypes==0.0.9) (2.3)\n",
      "Requirement already satisfied: bitarray in /Users/tvorogme/opt/anaconda3/lib/python3.9/site-packages (from tvm-valuetypes==0.0.9) (2.5.0)\n",
      "\n",
      "\u001b[1m[\u001b[0m\u001b[34;49mnotice\u001b[0m\u001b[1;39;49m]\u001b[0m\u001b[39;49m A new release of pip available: \u001b[0m\u001b[31;49m22.3\u001b[0m\u001b[39;49m -> \u001b[0m\u001b[32;49m23.0.1\u001b[0m\n",
      "\u001b[1m[\u001b[0m\u001b[34;49mnotice\u001b[0m\u001b[1;39;49m]\u001b[0m\u001b[39;49m To update, run: \u001b[0m\u001b[32;49mpip install --upgrade pip\u001b[0m\n"
     ]
    }
   ],
   "source": [
    "!pip install git+https://github.com/toncenter/tvm_valuetypes.git"
   ]
  },
  {
   "cell_type": "code",
   "execution_count": 10,
   "id": "655f3256",
   "metadata": {},
   "outputs": [],
   "source": [
    "#%load_ext autoreload\n",
    "#%autoreload 2\n",
    "from tvm_python import PyTVM, method_name_to_id, code_disasseble, pack_address, load_address, parse_token_data\n",
    "import codecs\n",
    "from tvm_valuetypes import Cell, deserialize_boc\n",
    "from dateutil.parser import parse \n",
    "import codecs"
   ]
  },
  {
   "cell_type": "code",
   "execution_count": 3,
   "id": "1be7af9b",
   "metadata": {},
   "outputs": [],
   "source": [
    "def fix_op(item):\n",
    "    return item.split('\\t')[1].replace('execute ', '').replace('\\n', '')"
   ]
  },
  {
   "cell_type": "markdown",
   "id": "a8fbd55b",
   "metadata": {},
   "source": [
    "# Just code"
   ]
  },
  {
   "cell_type": "code",
   "execution_count": null,
   "id": "7519f77c",
   "metadata": {},
   "outputs": [],
   "source": [
    "PyTVM(code=\"te6ccgEBAQEAAwAAAnE=\").run_vm()"
   ]
  },
  {
   "cell_type": "markdown",
   "id": "226a83b1",
   "metadata": {},
   "source": [
    "### Stack is not reversed ;)"
   ]
  },
  {
   "cell_type": "code",
   "execution_count": null,
   "id": "dcf5404e",
   "metadata": {},
   "outputs": [],
   "source": [
    "SUB = \"te6ccgEBAQEAAwAAAqE=\"\n",
    "a = 3\n",
    "b = 1\n",
    "\n",
    "tvm = PyTVM(code=SUB)\n",
    "tvm.set_stack([a, b])\n",
    "tvm.run_vm()"
   ]
  },
  {
   "cell_type": "markdown",
   "id": "d609bc89",
   "metadata": {},
   "source": [
    "#### Balance can be really big integer"
   ]
  },
  {
   "cell_type": "code",
   "execution_count": null,
   "id": "d30d3888",
   "metadata": {},
   "outputs": [],
   "source": [
    "tvm = PyTVM(code=SUB)\n",
    "\n",
    "tvm.set_c7(address=\"EQCI5yVsMccJDqrKH9knYAp0avK5fh-UBZ5Ns1xWOvIA2UKl\", # some contracts may use MYADDR in code\n",
    "           balanceGrams=\"9951186000\", # or trying get own balance from c7\n",
    "           randseed=\"1\") # or maybe you use random in your contract :)"
   ]
  },
  {
   "cell_type": "markdown",
   "id": "9192c0bc",
   "metadata": {},
   "source": [
    "# Disassembler"
   ]
  },
  {
   "cell_type": "code",
   "execution_count": null,
   "id": "0cc5e117",
   "metadata": {},
   "outputs": [],
   "source": [
    "code_disasseble(\"te6ccgEBAQEAAwAAAnE=\")"
   ]
  },
  {
   "cell_type": "markdown",
   "id": "f3815070",
   "metadata": {},
   "source": [
    "# Easy test examples"
   ]
  },
  {
   "cell_type": "code",
   "execution_count": null,
   "id": "c7747bab",
   "metadata": {},
   "outputs": [],
   "source": [
    "# Simple PUSHINT 1\n",
    "# You can define log_level if you want more stuff\n",
    "tvm_result = PyTVM(code=\"te6ccgEBAQEAAwAAAnE=\", log_level=4).run_vm()\n",
    "assert tvm_result[0] == 1\n",
    "\n",
    "print(f\"Got 1 from TVM: {tvm_result[0]}\")"
   ]
  },
  {
   "cell_type": "code",
   "execution_count": null,
   "id": "b5809ec0",
   "metadata": {},
   "outputs": [],
   "source": [
    "tvm_result"
   ]
  },
  {
   "cell_type": "code",
   "execution_count": null,
   "id": "f4dee228",
   "metadata": {},
   "outputs": [],
   "source": [
    "# c3 is continuation, but we just serialize it to base64 BOC\n",
    "# PUSHINT 1 PUSH c3\n",
    "tvm_result = PyTVM(code=\"te6ccgEBAQEABQAABnHtQw==\").run_vm()\n",
    "tvm_result"
   ]
  },
  {
   "cell_type": "code",
   "execution_count": null,
   "id": "b2bbde25",
   "metadata": {},
   "outputs": [],
   "source": [
    "cell = Cell()\n",
    "b64 = tvm_result[1]['value']\n",
    "boc = codecs.decode(codecs.encode(b64, 'utf8'), 'base64')\n",
    "deserialize_boc(boc)"
   ]
  },
  {
   "cell_type": "code",
   "execution_count": null,
   "id": "2e59a38a",
   "metadata": {},
   "outputs": [],
   "source": [
    "# c7 push (tuple)\n",
    "tvm_result = PyTVM(code=\"te6ccgEBAQEABAAABO1H\").run_vm()\n",
    "tvm_result[0] # just default c7"
   ]
  },
  {
   "cell_type": "markdown",
   "id": "950705d6",
   "metadata": {},
   "source": [
    "## Change c7"
   ]
  },
  {
   "cell_type": "code",
   "execution_count": null,
   "id": "fb9d4961",
   "metadata": {},
   "outputs": [],
   "source": [
    "# c7 push (tuple)\n",
    "tvm = PyTVM(code=\"te6ccgEBAQEABAAABO1H\")"
   ]
  },
  {
   "cell_type": "code",
   "execution_count": null,
   "id": "647451d2",
   "metadata": {},
   "outputs": [],
   "source": [
    "tvm.set_c7(translt=\"100\",\n",
    "           unixtime=179, \n",
    "           globalConfig=\"te6ccgEBAQEABAAABO1H\",\n",
    "           randseed=\"100\", \n",
    "           address=\"EQBq5JLG8-1juc-N95IFBnOM2NGrcJsMoFYFoWH-DaVJ2lVw\",\n",
    "           balanceGrams=str(100000000))"
   ]
  },
  {
   "cell_type": "code",
   "execution_count": null,
   "id": "74f367f5",
   "metadata": {},
   "outputs": [],
   "source": [
    "tvm.run_vm()"
   ]
  },
  {
   "cell_type": "markdown",
   "id": "73174468",
   "metadata": {},
   "source": [
    "## Get detailed result"
   ]
  },
  {
   "cell_type": "code",
   "execution_count": null,
   "id": "7aff416d",
   "metadata": {},
   "outputs": [],
   "source": [
    "print(\"Exit code: \", tvm.exit_code,\n",
    "\"\\nC5: \", tvm.actions, \n",
    "\"\\nGas credit: \",tvm.gas_credit, \n",
    "\"\\nGas used: \",tvm.gas_used, \n",
    "\"\\nC4: \",tvm.new_data, \n",
    "\"\\nVM Steps: \",tvm.vm_steps,\n",
    "\"\\nVM final hash: \",tvm.vm_final_state_hash,\n",
    "\"\\nVM init hash: \",tvm.vm_init_state_hash,\n",
    "\"\\nVM success: \",tvm.success)"
   ]
  },
  {
   "cell_type": "markdown",
   "id": "def3bba6",
   "metadata": {},
   "source": [
    "## Set stack"
   ]
  },
  {
   "cell_type": "code",
   "execution_count": null,
   "id": "b6631d0b",
   "metadata": {},
   "outputs": [],
   "source": [
    "# c7 push (tuple)\n",
    "tvm = PyTVM(code=\"te6ccgEBAQEABAAABO1H\", log_level=6)"
   ]
  },
  {
   "cell_type": "code",
   "execution_count": null,
   "id": "a3752cde",
   "metadata": {},
   "outputs": [],
   "source": [
    "# actually python3 & TON have really big integers :))\n",
    "tvm.set_stack([\n",
    "    190009329293929392939239293293929329392949949949299008888888880999999888, \n",
    "    {'type': \"cell\",\n",
    "     'value': 'te6ccgEBAQEABAAABO1H'}, \n",
    "    [{'type': \"cellSlice\",\n",
    "     'value': 'te6ccgEBAQEABAAABO1H'},\n",
    "     12312312313213132,\n",
    "     [1231232132, 1321231231, 57, 179]\n",
    "    ]])"
   ]
  },
  {
   "cell_type": "code",
   "execution_count": null,
   "id": "d681060b",
   "metadata": {},
   "outputs": [],
   "source": [
    "tvm.run_vm()"
   ]
  },
  {
   "cell_type": "markdown",
   "id": "a05f3b21",
   "metadata": {},
   "source": [
    "## C4 (Data) usage example"
   ]
  },
  {
   "cell_type": "code",
   "execution_count": null,
   "id": "fdc0b315",
   "metadata": {},
   "outputs": [],
   "source": [
    "# C4 PUSH CTOS 64 LDU\n",
    "tvm = PyTVM(code=\"te6ccgEBAQEABwAACu1E0NM/\", \n",
    "            data=\"te6ccgEBAQEACgAAEAAAAAAAAACz\", \n",
    "            log_level=2)"
   ]
  },
  {
   "cell_type": "code",
   "execution_count": null,
   "id": "f2802b3b",
   "metadata": {},
   "outputs": [],
   "source": [
    "# You can see, that 179 was loaded from c4, and cellSlice on stack\n",
    "tvm.run_vm()"
   ]
  },
  {
   "cell_type": "markdown",
   "id": "12f438d3",
   "metadata": {},
   "source": [
    "## Gas Limit "
   ]
  },
  {
   "cell_type": "code",
   "execution_count": null,
   "id": "1c7e8c29",
   "metadata": {},
   "outputs": [],
   "source": [
    "# C4 PUSH CTOS 64 LDU\n",
    "tvm = PyTVM(code=\"te6ccgEBAQEABwAACu1E0NM/\", \n",
    "            data=\"te6ccgEBAQEACgAAEAAAAAAAAACz\")"
   ]
  },
  {
   "cell_type": "code",
   "execution_count": null,
   "id": "8b41edd7",
   "metadata": {},
   "outputs": [],
   "source": [
    "print(tvm.gas_used, tvm.gas_credit)\n",
    "tvm.set_gasLimit(26) # You can also pass max gas set_gasLimit(gas_limit=26, gas_max=26)\n",
    "print(tvm.gas_used, tvm.gas_credit)\n",
    "tvm.run_vm() # out of gas"
   ]
  },
  {
   "cell_type": "code",
   "execution_count": null,
   "id": "4f5e589b",
   "metadata": {},
   "outputs": [],
   "source": [
    "tvm.exit_code, tvm.gas_used"
   ]
  },
  {
   "cell_type": "markdown",
   "id": "0802a19e",
   "metadata": {},
   "source": [
    "## Libs \n",
    "\n",
    "This is just load example, they will pass to VM, but I'm little bussy to get code of loading libs, check out [akifoq](https://github.com/akifoq) github"
   ]
  },
  {
   "cell_type": "code",
   "execution_count": null,
   "id": "a9012dd9",
   "metadata": {},
   "outputs": [],
   "source": [
    "tvm.set_libs([{'type': 'cell', 'value': 'te6ccgEBAQEABwAACu1E0NM/'}])"
   ]
  },
  {
   "cell_type": "markdown",
   "id": "95d922aa",
   "metadata": {},
   "source": [
    "## Stack dump log Level"
   ]
  },
  {
   "cell_type": "code",
   "execution_count": null,
   "id": "279ac9bc",
   "metadata": {},
   "outputs": [],
   "source": [
    "# C4 PUSH CTOS 64 LDU\n",
    "tvm = PyTVM(code=\"te6ccgEBAQEABwAACu1E0NM/\", \n",
    "            data=\"te6ccgEBAQEACgAAEAAAAAAAAACz\", \n",
    "            log_level=4)"
   ]
  },
  {
   "cell_type": "code",
   "execution_count": null,
   "id": "a4171b0e",
   "metadata": {},
   "outputs": [],
   "source": [
    "tvm.run_vm()"
   ]
  },
  {
   "cell_type": "markdown",
   "id": "93d62a2e",
   "metadata": {},
   "source": [
    "## Allow debug & same c3"
   ]
  },
  {
   "cell_type": "code",
   "execution_count": null,
   "id": "ad42cc34",
   "metadata": {},
   "outputs": [],
   "source": [
    "# C4 PUSH CTOS 64 LDU\n",
    "tvm = PyTVM(code=\"te6ccgEBAQEABwAACu1E0NM/\", \n",
    "            data=\"te6ccgEBAQEACgAAEAAAAAAAAACz\", \n",
    "            log_level=4,\n",
    "            allow_debug=True,\n",
    "            same_c3=False)"
   ]
  },
  {
   "cell_type": "code",
   "execution_count": null,
   "id": "32021009",
   "metadata": {},
   "outputs": [],
   "source": [
    "tvm.run_vm()"
   ]
  },
  {
   "cell_type": "markdown",
   "id": "db452389",
   "metadata": {},
   "source": [
    "## Accout get methods"
   ]
  },
  {
   "cell_type": "code",
   "execution_count": null,
   "id": "0d9c2bac",
   "metadata": {},
   "outputs": [],
   "source": [
    "# get account code & data from dton.io\n",
    "tvm = PyTVM(code=\"te6ccuECDAEAAikAABoAJAAuADYAQACWAZYClAKuAv4DzARSART/APSkE/S88sgLAQIBIAIDAgFIBAUABPIwAgLNBgcAUaA4WdqJoaYBpj/0gfSB9IH0AahhofSB9AH0gfQAYQQgjJKwoBWAAqsBAvfQDoaYGAuNhJL4JwfSAYdqJoaYBpj/0gfSB9IH0AahgTYAD5aMoRa6ThAVnHIBkcHCmg44LJL4RwKKJjgvlw+gJpj8EIAonGyIldeXD66Z+Y/SAYICsDZGWACuWPqAHniwDniwDniwD9AWZk9qpwGxPjgHGBA+mP6Z+YEMCAkB92YIQO5rKAFJgoFIwvvLhwiTQ+kD6APpA+gAwU5KhIaFQh6EWoFKQcIAQyMsFUAPPFgH6AstqyXH7ACXCACXXScICsI4XUEVwgBDIywVQA88WAfoCy2rJcfsAECOSNDTiWnCAEMjLBVADzxYB+gLLaslx+wBwIIIQX8w9FILABY3EDhHZRRDMHDwBQFKwAGSXwvgIcACnzEQSRA4R2AQJRAkECPwBeA6wAPjAl8JhA/y8AoAyoIQO5rKABi+8uHJU0bHBVFSxwUVsfLhynAgghBfzD0UIYAQyMsFKM8WIfoCy2rLHxnLPyfPFifPFhjKACf6AhfKAMmAQPsAcQZQREUVBsjLABXLH1ADzxYBzxYBzxYB+gLMye1UAIIhgBjIywUqzxYh+gLLassfE8s/I88WUAPPFsoAIfoCygDJgwb7AHFVUAbIywAVyx9QA88WAc8WAc8WAfoCzMntVHEzQWc=\", \n",
    "            data=\"te6ccuECAgEAAKEAAKIBQgGbMateFUAFhO5hst/wg3EW0Py1B42TlkvL6cBf1qFBsb/KXWpD4YgAdP2guq8i0ybWx7E2zTGM2WdwO9WauK3yzhASGFCjzN4wSMCWvrAEAQCbgBRyaww+87XrNCetowXCyAQhgF8xx74x+06XHrVig1fjCujOry8BAANKN8ZnM0OzYOENTkOEg7VVgFog5fBWdCtqQro1MRmU1dGdXl4CusI7qA==\", \n",
    "            log_level=4)"
   ]
  },
  {
   "cell_type": "code",
   "execution_count": null,
   "id": "6eb43721",
   "metadata": {},
   "outputs": [],
   "source": [
    "tvm.set_c7(address=\"EQCI5yVsMccJDqrKH9knYAp0avK5fh-UBZ5Ns1xWOvIA2UKl\", # some contracts may use MYADDR in code\n",
    "           balanceGrams=str(100000000), # or trying get own balance from c7\n",
    "           randseed=\"1\") # or maybe you use random in your contract :)"
   ]
  },
  {
   "cell_type": "code",
   "execution_count": null,
   "id": "9176d245",
   "metadata": {},
   "outputs": [],
   "source": [
    "method_name_to_id(\"get_sale_data\") # get methods have own numbers :)"
   ]
  },
  {
   "cell_type": "code",
   "execution_count": null,
   "id": "f20db539",
   "metadata": {},
   "outputs": [],
   "source": [
    "tvm.set_stack([method_name_to_id(\"get_sale_data\")]) # long story short, you need to pass method_id to stack"
   ]
  },
  {
   "cell_type": "code",
   "execution_count": null,
   "id": "dfc606b5",
   "metadata": {},
   "outputs": [],
   "source": [
    "tvm.run_vm() # this is seqno of this wallet :)"
   ]
  },
  {
   "cell_type": "markdown",
   "id": "f53944f1",
   "metadata": {},
   "source": [
    "## Method names"
   ]
  },
  {
   "cell_type": "code",
   "execution_count": null,
   "id": "4cac323d",
   "metadata": {},
   "outputs": [],
   "source": [
    "smart_methods = {}\n",
    "\n",
    "for name in [\"dnsresolve\", \"get_jetton_data\", \"get_wallet_address\", \"get_collection_data\",\n",
    "             \"get_nft_address_by_index\", \"get_nft_data\", \"get_royalty_params\", \"hello_world\",\n",
    "             \"get_owner\", \"seqno\", \"get_public_key\", \"get_version\",\n",
    "             \"get_marketplace_address\", \"get_sale_data\", \"get_plugin_list\", \"is_plugin_installed\",\n",
    "             \"get_subwallet_id\", \"get_editor\", \"get_is_closed\", \n",
    "             'get_reveal_mode', 'get_reveal_data', \n",
    "             \n",
    "             'get_full_domain', 'get_username', 'get_auction_info', \n",
    "             'get_telemint_token_name', 'get_telemint_auction_state', \n",
    "             'get_telemint_auction_config', 'get_offer_data',\n",
    "            ]:\n",
    "\n",
    "    smart_methods[name] = method_name_to_id(name)"
   ]
  },
  {
   "cell_type": "code",
   "execution_count": null,
   "id": "79b0df0f",
   "metadata": {},
   "outputs": [],
   "source": [
    "smart_methods"
   ]
  },
  {
   "cell_type": "markdown",
   "id": "70f50823",
   "metadata": {},
   "source": [
    "# Run transaction & stack step dump"
   ]
  },
  {
   "cell_type": "code",
   "execution_count": null,
   "id": "6cfec527",
   "metadata": {},
   "outputs": [],
   "source": [
    "transaction = {\n",
    "        \"account_state_state_init_code\": \"te6ccuEBAQEAYgDEAMD/ACDdIIIBTJe6lzDtRNDXCx/gpPJggwjXGCDTH9Mf0x/4IxO78mPtRNDTH9Mf0//RUTK68qFRRLryogT5AVQQVfkQ8qP4AJMg10qW0wfUAvsA6NEBpMjLH8sfy//J7VRcWvJx\",\n",
    "        \"account_state_state_init_data\": \"te6ccuEBAQEAKgBUAFAAABfFKamjF1EWudQc3BYnnT5cgwKbbuOMnLoj2nddsBRI8MyLn7VbLd5twQ==\",\n",
    "        \"gen_utime\": \"2022-10-29 23:17:14\",\n",
    "        \"account_storage_balance_grams\": 3503394350113822,\n",
    "        \"in_msg_cell\": \"te6ccuECAgEAALgAAOYBcAHfiAELXvHRoGvSQCL5tMqMK5vm46jIkBbFPCIaeKYhsLVmxAUv1tIPUGD5rk63+HQIldqZpKMW5papR2c6Je1YCY71+7WGOJg9/+Tmmk+6PG/8ACrE9tk+bE8f6fVUpmDc3uBZTU0YuxrwtygAAL4oHAEAhkIAQGoJHCCLPlTE1kiSIeZM0lzg1DrCKbIT/7fsLkkcrXSovBvI3AAAAAAAAAAAAAAAAAAAAAAAADE5MjY1MjUwNjX5zgaJ\",\n",
    "        \"in_msg_body\": \"te6ccuECAgEAAJUAAKABKgGapfraQeoMHzXJ1v8OgRK7UzSUYtzS1Sjs50S9qwEx3r92sMcTB7/8nNNJ90eN/4AFWJ7bJ82J4/0+qpTMG5vcCympoxdjXhblAAAXxQMBAIZCAEBqCRwgiz5UxNZIkiHmTNJc4NQ6wimyE/+37C5JHK10qLwbyNwAAAAAAAAAAAAAAAAAAAAAAAAxOTI2NTI1MDY1lbIkmg==\",\n",
    "        \"in_msg_value_grams\": None,\n",
    "        \"in_msg_type\": \"ext_in_msg_info\",\n",
    "        \"in_msg_dest_addr_address_hex\": \"85AF78E8D035E920117CDA654615CDF371D464480B629E110D3C5310D85AB362\",\n",
    "        \"in_msg_dest_addr_workchain_id\": 0,\n",
    "        \"lt\": 32426921000001,\n",
    "        \"in_msg_created_lt\": None\n",
    "      }\n",
    "\n",
    "\n",
    "transaction['in_msg_cell'] = {'type': 'cell', 'value': transaction['in_msg_cell']}\n",
    "transaction['in_msg_body'] = {'type': 'cellSlice', 'value': transaction['in_msg_body']}\n",
    "\n",
    "tvm = PyTVM(code=transaction['account_state_state_init_code'], \n",
    "            data=transaction['account_state_state_init_data'])\n",
    "\n",
    "tvm.set_c7(unixtime=int(parse(transaction['gen_utime']).timestamp()), \n",
    "           translt=str(int(transaction['lt'])), \n",
    "           balanceGrams=str(int(transaction['account_storage_balance_grams'])),\n",
    "           address=str(transaction['in_msg_dest_addr_workchain_id']) + ':' + transaction['in_msg_dest_addr_address_hex'])\n",
    "\n",
    "tvm.set_stack([\n",
    "    str(int(transaction['account_storage_balance_grams'])),\n",
    "    str(int(transaction['in_msg_value_grams'] if transaction['in_msg_value_grams'] else 0)),\n",
    "    transaction['in_msg_cell'],\n",
    "    transaction['in_msg_body'],\n",
    "    -1 if 'ext' in transaction['in_msg_type'] else 0\n",
    "])\n",
    "\n",
    "tvm.run_vm()\n"
   ]
  },
  {
   "cell_type": "code",
   "execution_count": null,
   "id": "88c4bf63",
   "metadata": {
    "scrolled": true
   },
   "outputs": [],
   "source": [
    "list(map(fix_op, tvm.get_ops()))"
   ]
  },
  {
   "cell_type": "code",
   "execution_count": null,
   "id": "a2081f14",
   "metadata": {},
   "outputs": [],
   "source": [
    "tvm.get_stacks()"
   ]
  },
  {
   "cell_type": "markdown",
   "id": "fbcfcc9b",
   "metadata": {},
   "source": [
    "## Calculate jetton wallet address"
   ]
  },
  {
   "cell_type": "code",
   "execution_count": null,
   "id": "79a92308",
   "metadata": {},
   "outputs": [],
   "source": [
    "tvm = PyTVM(code=\"te6ccuECCwEAAeoAABoAJAAuADoBLgHGAsgC/AMuA7AD1AEU/wD0pBP0vPLICwECAWICAwICzAQFAgN6YAkKA+nZkQ44BIrfBoaYGAuNhIrfB9IBgA6Y/pn/aiaH0AfSBqahgTYArHGBqaqKrjgvlwJID9IH0AahgQaEAwa5D9ABgSiBooIXgG0CqQZCgCfQEsZ4tmZmT2qnATQQg97svvXXGBGpLgAfGBGAJgAnGBL4LCB/l4QGBwgAk7vwUIgG4KhAJqgoB5CgCfQEsZ4sA54tmZJFkZYCJegB6AGWAZJB8gDg6ZGWBZQPl/+ToO8AMZGWCrGeLKAJ9AQnltYlmZmS4/YBAP42A/oA+kD4KFQSCHBUIBNUFAPIUAT6AljPFgHPFszJIsjLARL0APQAywDJ+QBwdMjLAsoHy//J0FAIxwXy4EoSoQNQJMhQBPoCWM8WzMzJ7VQB+kAwINcLAcMAjh+CENUydttwgBDIywVQA88WIvoCEstqyx/LP8mAQvsAkVviADA1FccF8uBJ+kAwWchQBPoCWM8WzMzJ7VQALlFDxwXy4EnUMAHIUAT6AljPFszMye1UAH2tvPaiaH0AfSBqahg2GPwUALgqEAmqCgHkKAJ9ASxniwDni2ZkkWRlgIl6AHoAZYBk/IA4OmRlgWUD5f/k6EAAH68W9qJofQB9IGpqGD+qkEDmPMC3\", \n",
    "            data=\"te6ccuECEwEAA40AAFYA8gEMARYBIAFAAUoB0AHaAeQCoAK2A64DuARWBVQGLAagBxoCTVGZyCzACADv1+I+xGKwYr5T+5ikwv1q2BoKzwD1yyab0X4Qax9zAQECAJgBaHR0cHM6Ly9yYXcuZ2l0aHVidXNlcmNvbnRlbnQuY29tL2Rpc2ludGFyL29uZXRpbWVuZnQvbWFpbi9mYWtlX2pldHRvbi5qc29uART/APSkE/S88sgLAwIBYgQFAgLLBgcAG6D2BdqJofQB9IH0gahhAgEgCAkAgdIAg1yHtRND6APpA+kDUMATTHyGCEBeNRRm6AoIQe92X3roSsfLixdM/MfoAMBOgUCPIUAT6AljPFgHPFszJ7VSAgEgCgsCAVgMDQC30QY4BJL4JwAOhpgYC42EqJr4H4CHB9IH0gGP0AGLjrkP0AGP0AGAFpj5DBCAfFP1LdSpiaLPgG8BDBCAvGoozdSxiiIgH4B3AawQgsr4PeXUms+AfwL4JCB/l4QAEWvpEMMAA8uFNgHxUD0z/6APpAIfAG7UTQ+gD6QPpA1DBRNqFSKscF8uLBKML/8uLCVDRCcFQgE1QUA8hQBPoCWM8WAc8WzMkiyMsBEvQA9ADLAMkg+QBwdMjLAsoHy//J0AT6QPQEMfoAINdJwgDy4sR3gBjIywVQCM8WcPoCF8trE8yA4CASAPEACaghAXjUUZyMsfGcs/UAf6AiLPFlAGzxYl+gJQA88WyVAFzCORcpFx4lAIqBOggXUwoBS88uLFBMmAQPsAECPIUAT6AljPFgHPFszJ7VQC9TtRND6APpA+kDUMAjTP/oAUVGgBfpA+kBTW8cFVHNtcFQgE1QUA8hQBPoCWM8WAc8WzMkiyMsBEvQA9ADLAMn5AHB0yMsCygfL/8nQUA3HBRyx8uLDCvoAUaihgScQZrYIoYEnEKAYoSeXEEkQODdfBOMNJdcLAcMAI4BESANM7UTQ+gD6QPpA1DAH0z/6APpAMFFRoVJJxwXy4sEnwv/y4sIFgU4goBa88uLDghB73ZfeyMsfFcs/UAP6AiLPFgHPFslxgBjIywUkzxZw+gLLaszJgED7AEATyFAE+gJYzxYBzxbMye1UgAHBSeaAYoYIQc2LQnMjLH1Iwyz9Y+gJQB88WUAfPFslxgBDIywUkzxZQBvoCFctqFMzJcfsAECQQIwB2wgCwjiGCENUydttwgBDIywVQCM8WUAT6AhbLahLLHxLLP8ly+wCTNWwh4gPIUAT6AljPFgHPFszJ7VQdowYo\")\n",
    "\n",
    "tvm.set_c7(address=\"EQBK3b2y8Ogu8l0pBuU3V17Q2Ln2esTNHFsWMuyOUTdZkbH4\")\n",
    "\n",
    "tvm.set_stack([\n",
    "    pack_address(\"EQB36_EfYjFYMV8p_cxSYX61bA0FZ4B65ZNN6L8INY-5gL6w\"),\n",
    "    method_name_to_id('get_wallet_address')\n",
    "])\n",
    "\n",
    "load_address(tvm.run_vm()[0]['value'])"
   ]
  },
  {
   "cell_type": "markdown",
   "id": "51bd4387",
   "metadata": {},
   "source": [
    "## Token metadata with snake & chunks data"
   ]
  },
  {
   "cell_type": "code",
   "execution_count": 13,
   "id": "b257cb7e",
   "metadata": {},
   "outputs": [],
   "source": [
    "data = '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'\n"
   ]
  },
  {
   "cell_type": "code",
   "execution_count": 15,
   "id": "a774272a",
   "metadata": {},
   "outputs": [],
   "source": [
    "data = parse_token_data(data)"
   ]
  },
  {
   "cell_type": "code",
   "execution_count": 16,
   "id": "90242022",
   "metadata": {},
   "outputs": [
    {
     "data": {
      "text/plain": [
       "{'type': 'onchain',\n",
       " 'value': {'name': {'type': 'snake', 'value': 'Test Frozen NFT'},\n",
       "  'description': {'type': 'snake',\n",
       "   'value': 'Minted as test or to wallets frozen in February, 2022'},\n",
       "  'image_data': {'type': 'chunks',\n",
       "   'value': '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'}}}"
      ]
     },
     "execution_count": 16,
     "metadata": {},
     "output_type": "execute_result"
    }
   ],
   "source": [
    "data"
   ]
  },
  {
   "cell_type": "code",
   "execution_count": 22,
   "id": "0406bc3d",
   "metadata": {},
   "outputs": [],
   "source": [
    "from io import BytesIO\n",
    "from PIL import Image\n",
    "from base64 import b64decode"
   ]
  },
  {
   "cell_type": "code",
   "execution_count": 24,
   "id": "d1e9bde8",
   "metadata": {},
   "outputs": [
    {
     "data": {
      "image/png": "[encoded data removed]",
      "text/plain": [
       "<PIL.WebPImagePlugin.WebPImageFile image mode=RGB size=192x192 at 0x10B263E50>"
      ]
     },
     "execution_count": 24,
     "metadata": {},
     "output_type": "execute_result"
    }
   ],
   "source": [
    "Image.open(BytesIO(b64decode(data['value']['image_data']['value'])))"
   ]
  },
  {
   "cell_type": "code",
   "execution_count": null,
   "id": "7e5831e3",
   "metadata": {},
   "outputs": [],
   "source": []
  }
 ],
 "metadata": {
  "kernelspec": {
   "display_name": "Python 3 (ipykernel)",
   "language": "python",
   "name": "python3"
  },
  "language_info": {
   "codemirror_mode": {
    "name": "ipython",
    "version": 3
   },
   "file_extension": ".py",
   "mimetype": "text/x-python",
   "name": "python",
   "nbconvert_exporter": "python",
   "pygments_lexer": "ipython3",
   "version": "3.9.12"
  }
 },
 "nbformat": 4,
 "nbformat_minor": 5
}
